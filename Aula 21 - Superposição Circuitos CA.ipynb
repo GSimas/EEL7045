{
 "cells": [
  {
   "cell_type": "markdown",
   "metadata": {},
   "source": [
    "# Teorema da Superposição para Circuitos CA\n",
    "\n",
    "Jupyter Notebook desenvolvido por [Gustavo S.S.](https://github.com/GSimas)\n",
    "\n",
    "Como os circuitos CA são lineares, o teorema da superposição se aplica aos\n",
    "circuitos CA da mesma forma que nos circuitos CC e se torna importante se\n",
    "o circuito tiver fontes operando em frequências diferentes. Nesse caso, já que\n",
    "as impedâncias dependem da frequência, temos um circuito no domínio da\n",
    "frequência diferente para cada frequência. A resposta total deve ser obtida somando\n",
    "as respostas individuais no domínio do tempo.\n",
    "\n"
   ]
  }
 ],
 "metadata": {
  "kernelspec": {
   "display_name": "Python 3",
   "language": "python",
   "name": "python3"
  },
  "language_info": {
   "codemirror_mode": {
    "name": "ipython",
    "version": 3
   },
   "file_extension": ".py",
   "mimetype": "text/x-python",
   "name": "python",
   "nbconvert_exporter": "python",
   "pygments_lexer": "ipython3",
   "version": "3.5.3"
  }
 },
 "nbformat": 4,
 "nbformat_minor": 2
}
