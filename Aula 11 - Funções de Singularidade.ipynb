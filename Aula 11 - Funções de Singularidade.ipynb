{
 "cells": [
  {
   "cell_type": "markdown",
   "metadata": {},
   "source": [
    "# Funções de Singularidade\n",
    "Jupyter Notebook desenvolvido por [Gustavo S.S.](https://github.com/GSimas)\n",
    "\n",
    "As funções de singularidade (também conhecidas como funções de comutação)\n",
    "são muito úteis na análise de circuitos, pois servem como boas aproximações\n",
    "aos sinais de comutação que surgem em circuitos com operações de\n",
    "comutação, e também por serem úteis na descrição compacta e elegante de\n",
    "alguns fenômenos em circuitos, especialmente a resposta a um degrau de circuitos\n",
    "RC ou RL a serem discutidos nas seções seguintes. Por definição,\n",
    "\n",
    "**Funções de singularidade são funções que são descontínuas ou então que\n",
    "apresentam derivadas descontínuas.**\n",
    "\n",
    "As três funções de singularidade mais usadas na análise de circuitos são:\n",
    "***degrau unitário, impulso unitário e rampa unitária.***"
   ]
  }
 ],
 "metadata": {
  "kernelspec": {
   "display_name": "Python 3",
   "language": "python",
   "name": "python3"
  },
  "language_info": {
   "codemirror_mode": {
    "name": "ipython",
    "version": 3
   },
   "file_extension": ".py",
   "mimetype": "text/x-python",
   "name": "python",
   "nbconvert_exporter": "python",
   "pygments_lexer": "ipython3",
   "version": "3.5.3"
  }
 },
 "nbformat": 4,
 "nbformat_minor": 2
}
