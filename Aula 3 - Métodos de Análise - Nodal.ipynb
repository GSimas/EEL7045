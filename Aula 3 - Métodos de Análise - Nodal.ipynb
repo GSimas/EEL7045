{
 "cells": [
  {
   "attachments": {},
   "cell_type": "markdown",
   "metadata": {},
   "source": [
    "# Métodos de Análise de Circuitos - Análise Nodal\n",
    "\n",
    "Jupyter Notebook desenvolvido por [Gustavo S.S.](https://github.com/GSimas)\n",
    "\n",
    ">\"Nenhuma grande obra é realizada de forma apressada. Realizar uma grande descoberta científica, pintar\n",
    "uma grande tela, escrever um poema imortal, tornar-se um ministro ou um general famoso – realizar\n",
    "qualquer coisa de grandioso requer tempo, paciência e perseverança. Essas coisas são realizadas\n",
    "gradualmente, “pouco a pouco” - W. J. Wilmont Buxton\n",
    "\n",
    "## Transformações Y-Delta (estrela-triângulo)\n",
    "\n",
    "Estes circuitos apresentados correspondem à rede ípsilon (Y) ou tê (T), mostrada\n",
    "na Figura 2.47, e à rede delta (Δ) ou pi (π), ilustrada na Figura 2.48. Essas\n",
    "redes ocorrem por si só ou como parte de uma rede maior e são usadas em\n",
    "redes trifásicas, filtros elétricos e circuitos adaptadores\n",
    "\n",
    "![](http://i.imgur.com/7z6Q1wy.png)\n",
    "![](https://i.imgur.com/jBOxkkA.png)\n",
    "\n",
    "### Conversão delta-Y (triângulo-estrela)\n",
    "\n",
    "Em alguns casos é mais conveniente trabalhar com uma rede Y em um ponto\n",
    "em que o circuito contém uma configuração delta. Sobrepomos uma rede Y\n",
    "à rede delta existente e encontramos as resistências equivalentes na rede\n",
    "Y, e, para obtê-las, comparamos as duas redes e nos certificamos de que a\n",
    "resistência entre cada par de nós na rede Δ (ou π) é a mesma que a resistência\n",
    "entre o mesmo par de nós na rede Y (ou T)\n",
    "\n",
    "![](http://i.imgur.com/wyH9VO2.png)\n",
    "\n",
    "Assim:\n",
    "\n",
    "\\begin{align}\n",
    "{\\Large R_1 = \\frac{R_bR_c}{R_a + R_b + R_c}}\n",
    "\\end{align}\n",
    "\n",
    "\\begin{align}\n",
    "{\\Large R_2 = \\frac{R_aR_c}{R_a + R_b + R_c}}\n",
    "\\end{align}\n",
    "\n",
    "\\begin{align}\n",
    "{\\Large R_3 = \\frac{R_aR_b}{R_a + R_b + R_c}}\n",
    "\\end{align}\n",
    "\n",
    "Resumindo:\n",
    "\n",
    "**Cada resistor na rede Y é o produto dos resistores nos dois ramos adjacentes\n",
    "Δ, dividido pela soma dos três resistores Δ.**\n",
    "\n",
    "### Conversão Y-Delta\n",
    "\n",
    "Para se obter o valor de resistores numa representação Delta a partir de uma Y, basta realizar o seguinte cálculo:\n",
    "\n",
    "\\begin{align}\n",
    "{\\Large R_a = \\frac{R_1R_2 + R_2R_3 + R_3R_1}{R_1}}\n",
    "\\end{align}\n",
    "\n",
    "\\begin{align}\n",
    "{\\Large R_b = \\frac{R_1R_2 + R_2R_3 + R_3R_1}{R_2}}\n",
    "\\end{align}\n",
    "\n",
    "\\begin{align}\n",
    "{\\Large R_c = \\frac{R_1R_2 + R_2R_3 + R_3R_1}{R_3}}\n",
    "\\end{align}\n",
    "\n",
    "Resumindo:\n",
    "\n",
    "**Cada resistor na rede Δ é a soma de todos os produtos possíveis de Y resistores\n",
    "extraídos dois a dois, dividido pelo resistor Y oposto.**\n",
    "\n",
    "No caso, como os resistores são de mesmo valor, fica:\n",
    "\n",
    "\\begin{align}\n",
    "{\\Large R_Y = \\frac{R_\\Delta}{3}}\n",
    "\\\\ou\n",
    "\\\\{\\Large R_\\Delta = 3R_Y}\n",
    "\\end{align}\n",
    "\n",
    "Note que, ao fazer a transformação, não retiramos nem inserimos nada de\n",
    "novo no circuito, porque substituímos padrões de rede de três terminais diferentes,\n",
    "porém matematicamente equivalentes para criar um circuito no qual os\n",
    "resistores estão em série ou em paralelo, o que possibilita que calculemos a\n",
    "Req, caso necessário."
   ]
  },
  {
   "attachments": {},
   "cell_type": "markdown",
   "metadata": {},
   "source": [
    "**Exemplo 2.14**\n",
    "\n",
    "Converta a rede Δ da Figura 2.50a em uma rede Y equivalente.\n",
    "\n",
    "![](https://i.imgur.com/efs1JfP.png)"
   ]
  },
  {
   "cell_type": "code",
   "execution_count": 1,
   "metadata": {},
   "outputs": [
    {
     "name": "stdout",
     "output_type": "stream",
     "text": [
      "Exemplo 2.14\n",
      "R1: 5.0 ohms\n",
      "R2: 7.5 ohms\n",
      "R3: 3.0 ohms\n"
     ]
    }
   ],
   "source": [
    "print(\"Exemplo 2.14\")\n",
    "def delta_y(Ra,Rb,Rc):\n",
    "    r1 = Rb*Rc/(Ra+Rb+Rc)\n",
    "    r2 = Ra*Rc/(Ra+Rb+Rc)\n",
    "    r3 = Ra*Rb/(Ra+Rb+Rc)\n",
    "    return r1,r2,r3\n",
    "\n",
    "r1,r2,r3 = delta_y(15,10,25)\n",
    "print(\"R1:\",r1,\"ohms\")\n",
    "print(\"R2:\",r2,\"ohms\")\n",
    "print(\"R3:\",r3,\"ohms\")"
   ]
  },
  {
   "attachments": {},
   "cell_type": "markdown",
   "metadata": {},
   "source": [
    "**Problema Prático 2.14**\n",
    "\n",
    "Transforme a rede Y da Figura 2.51 em uma rede delta.\n",
    "\n",
    "![](https://i.imgur.com/QBOR6Pd.png)"
   ]
  },
  {
   "cell_type": "code",
   "execution_count": 3,
   "metadata": {},
   "outputs": [
    {
     "name": "stdout",
     "output_type": "stream",
     "text": [
      "Problema Prático 2.14\n",
      "Ra: 140.0 ohms\n",
      "Rb: 70.0 ohms\n",
      "Rc: 35.0 ohms\n"
     ]
    }
   ],
   "source": [
    "print(\"Problema Prático 2.14\")\n",
    "def y_delta(R1,R2,R3):\n",
    "    Ra = (R1*R2 + R2*R3 + R3*R1)/R1\n",
    "    Rb = (R1*R2 + R2*R3 + R3*R1)/R2\n",
    "    Rc = (R1*R2 + R2*R3 + R3*R1)/R3\n",
    "    return Ra,Rb,Rc\n",
    "ra,rb,rc = y_delta(10,20,40)\n",
    "print(\"Ra:\",ra,\"ohms\")\n",
    "print(\"Rb:\",rb,\"ohms\")\n",
    "print(\"Rc:\",rc,\"ohms\")"
   ]
  },
  {
   "attachments": {},
   "cell_type": "markdown",
   "metadata": {},
   "source": [
    "**Exemplo 2.15**\n",
    "\n",
    "Obtenha a resistência equivalente Rab para o circuito da Figura 2.52 e a use para encontrar\n",
    "a corrente i.\n",
    "\n",
    "![](https://i.imgur.com/ZJnsPUH.png)"
   ]
  },
  {
   "cell_type": "code",
   "execution_count": 7,
   "metadata": {},
   "outputs": [
    {
     "name": "stdout",
     "output_type": "stream",
     "text": [
      "Exemplo 2.15\n",
      "Corrente resultante: 12.459016393442623 A\n"
     ]
    }
   ],
   "source": [
    "print(\"Exemplo 2.15\")\n",
    "#analisando a triade 5ohms (rc) 15ohms (rb) e 20ohms (ra) como associacao em delta\n",
    "r1,r2,r3 = delta_y(20,15,5)\n",
    "Req1 = 12.5+r1 #em serie com resistor 12,5 ohm\n",
    "Req2 = 10+r2 #em serie com resistor 10 ohm\n",
    "Req3 = Req1*Req2/(Req1 + Req2) #paralelo entre Req1 e Req2\n",
    "Req4 = Req3 + r3\n",
    "Reqf = 30*Req4/(Req4 + 30)\n",
    "V = 120\n",
    "i = V/Reqf\n",
    "print(\"Corrente resultante:\",i,\"A\")"
   ]
  },
  {
   "attachments": {},
   "cell_type": "markdown",
   "metadata": {},
   "source": [
    "**Problema Prático 2.15**\n",
    "\n",
    "Para o circuito em ponte da Figura 2.54, determine Rab e i.\n",
    "\n",
    "![](https://i.imgur.com/Zd7Bgsh.png)"
   ]
  },
  {
   "cell_type": "code",
   "execution_count": 9,
   "metadata": {},
   "outputs": [
    {
     "name": "stdout",
     "output_type": "stream",
     "text": [
      "Problema Prático 2.15\n",
      "Rab: 40.0 ohm\n",
      "Corrente resultante: 6.0 A\n"
     ]
    }
   ],
   "source": [
    "print(\"Problema Prático 2.15\")\n",
    "r1,r2,r3 = delta_y(50,30,20)\n",
    "Req1 = 24 + r1\n",
    "Req2 = 10 + r2\n",
    "Req3 = Req1*Req2/(Req1 + Req2)\n",
    "Req4 = Req3 + r3\n",
    "Reqf = Req4 + 13\n",
    "V = 240\n",
    "i = V/Reqf\n",
    "print(\"Rab:\",Reqf,\"ohm\")\n",
    "print(\"Corrente resultante:\",i,\"A\")"
   ]
  },
  {
   "attachments": {},
   "cell_type": "markdown",
   "metadata": {},
   "source": [
    "** Exemplo 2.16**\n",
    "\n",
    "Três lâmpadas são conectadas a uma fonte de 9 V, conforme mostrado na Figura 2.56a.\n",
    "Calcule: \n",
    "\n",
    "(a) corrente total fornecida pela fonte; \n",
    "\n",
    "(b) corrente que passa por cada lâmpada;\n",
    "\n",
    "(c) resistência de cada lâmpada.\n",
    "\n",
    "![](https://i.imgur.com/HnP8MiO.png)"
   ]
  },
  {
   "cell_type": "code",
   "execution_count": 12,
   "metadata": {},
   "outputs": [
    {
     "name": "stdout",
     "output_type": "stream",
     "text": [
      "Exemplo 2.16\n",
      "Corrente total: 5.0 A\n",
      "Corrente na lampada 20W: 2.2222222222222223 A\n",
      "Corrente nas lampadas 15W e 10W: 2.7777777777777777 A\n",
      "Resistencia lampada 15W: 1.9440000000000002 ohm\n",
      "Resistencia lampada 10W: 1.296 ohm\n",
      "Resistencia lampada 20W: 4.05 ohm\n"
     ]
    }
   ],
   "source": [
    "print(\"Exemplo 2.16\")\n",
    "V = 9\n",
    "p2 = 15 #potencia da primeira lampada\n",
    "p3 = 10\n",
    "p1 = 20\n",
    "pt = p1 + p2 + p3\n",
    "i = pt/V\n",
    "i1 = p1/V\n",
    "i2 = i - i1\n",
    "r1 = V/i1\n",
    "r2 = p2/(i2**2) # da equacao p = r*(i^2) => r = p/(i^2)\n",
    "r3 = p3/(i2**2)\n",
    "print(\"Corrente total:\",i,\"A\")\n",
    "print(\"Corrente na lampada 20W:\",i1,\"A\")\n",
    "print(\"Corrente nas lampadas 15W e 10W:\",i2,\"A\")\n",
    "print(\"Resistencia lampada 15W:\",r2,\"ohm\")\n",
    "print(\"Resistencia lampada 10W:\",r3,\"ohm\")\n",
    "print(\"Resistencia lampada 20W:\",r1,\"ohm\")"
   ]
  },
  {
   "attachments": {},
   "cell_type": "markdown",
   "metadata": {},
   "source": [
    "**Problema Prático 2.16**\n",
    "\n",
    "Consulte a Figura 2.55 e considere a existência de dez lâmpadas que podem ser associadas em paralelo e dez que podem ser ligadas em série, cada uma das quais com potência\n",
    "nominal de 40 W. Se a tensão da rede elétrica for 110 V para as ligações em série e em\n",
    "paralelo, calcule a corrente através de cada lâmpada para ambos os casos.\n",
    "\n",
    "![](https://i.imgur.com/7uwGc3I.png)"
   ]
  },
  {
   "cell_type": "code",
   "execution_count": 14,
   "metadata": {},
   "outputs": [
    {
     "name": "stdout",
     "output_type": "stream",
     "text": [
      "Corrente em cada lampada em serie: 3.6363636363636362 A\n",
      "Corrente em cada lampada em paralelo: 0.36363636363636365 A\n"
     ]
    }
   ],
   "source": [
    "V = 110\n",
    "p = 40\n",
    "n = 10\n",
    "pt = p*n  #potencia serie\n",
    "i = pt/V\n",
    "print(\"Corrente em cada lampada em serie:\",i,\"A\")\n",
    "i = p/V\n",
    "print(\"Corrente em cada lampada em paralelo:\",i,\"A\")"
   ]
  },
  {
   "attachments": {},
   "cell_type": "markdown",
   "metadata": {},
   "source": [
    "## Análise Nodal\n",
    "\n",
    "**A análise nodal também é\n",
    "conhecida como método do\n",
    "nó-tensão.**\n",
    "\n",
    "Etapas para determinar tensões nodais:\n",
    "\n",
    "1. Selecione um nó como referência. \n",
    "2. Atribua tensões v1, v2, ..., vn–1 aos n – 1 nós restantes. As tensões são medidas em relação ao nó de referência.\n",
    "3. Aplique a LKC a cada um dos n – 1 nós que não são de referência. \n",
    "4. Use a lei de Ohm para expressar as correntes nos ramos em termos de tensões nodais.\n",
    "5. Resolva as equações simultâneas resultantes para obter as tensões nodais desconhecidas.\n",
    "\n",
    "![](https://i.imgur.com/JnGJ9ll.png)\n",
    "\n",
    "O número de nós que não são\n",
    "de referência é igual ao número\n",
    "de equações independentes que\n",
    "vamos deduzir.\n",
    "\n",
    "**Em um resistor, a corrente flui de um potencial mais elevado para um\n",
    "potencial mais baixo.**\n",
    "\n",
    "\\begin{align}\n",
    "{\\Large i = \\frac{v_{maior} - v_{menor}}{R}}\n",
    "\\end{align}"
   ]
  },
  {
   "attachments": {},
   "cell_type": "markdown",
   "metadata": {},
   "source": [
    "**Exemplo 3.1**\n",
    "\n",
    "Calcule as tensões nodais no circuito mostrado na Figura 3.3a.\n",
    "\n",
    "![](https://i.imgur.com/T7LHl5B.png)"
   ]
  },
  {
   "cell_type": "code",
   "execution_count": 29,
   "metadata": {},
   "outputs": [
    {
     "name": "stdout",
     "output_type": "stream",
     "text": [
      "Exemplo 3.1\n",
      "V1: 13.333333333333334 V\n",
      "V2: 20.0 V\n"
     ]
    }
   ],
   "source": [
    "print(\"Exemplo 3.1\")\n",
    "import numpy as np\n",
    "#i2 + i3 = 5\n",
    "#i2 + 10 = i5 + 5 => i5 = i2 + 5\n",
    "#i2 = (v1-v2)/4\n",
    "#i3 = v1/2\n",
    "#i5 = v2/6\n",
    "#(v1-v2)/4 + v1/2 = 5 => 3v1 - v2 = 20\n",
    "# v2/6 = (v1-v2)/4 + 5 => 2v2 = 3v1 - 3v2 + 60 => 3v1 - 5v2 = -60\n",
    "coef = np.matrix('3 -1; 3 -5')\n",
    "res = np.matrix('20;-60')\n",
    "V = np.linalg.inv(np.transpose(coef)*coef)*np.transpose(coef)*res #algebra linear B = (X'X)^(-1) * X'Y\n",
    "print(\"V1:\",float(V[0]),\"V\")\n",
    "print(\"V2:\",float(V[1]),\"V\")"
   ]
  },
  {
   "attachments": {},
   "cell_type": "markdown",
   "metadata": {},
   "source": [
    "**Problema Prático 3.1**\n",
    "\n",
    "Obtenha as tensões nodais no circuito da Figura 3.4\n",
    "\n",
    "![](https://i.imgur.com/YapNvKP.png)"
   ]
  },
  {
   "cell_type": "code",
   "execution_count": 35,
   "metadata": {},
   "outputs": [
    {
     "name": "stdout",
     "output_type": "stream",
     "text": [
      "Problema Prático 3.1\n",
      "Tensão v1: -5.999999999999962 V\n",
      "Tensão v2: -41.999999999999986 V\n"
     ]
    }
   ],
   "source": [
    "print(\"Problema Prático 3.1\")\n",
    "#i1 + i3 = 3\n",
    "#i3 = i2 + 12\n",
    "#i1 = v1/2\n",
    "#i2 = v2/7\n",
    "#i3 = (v1-v2)/6\n",
    "#v1/2 + (v1-v2)/6 = 3 => 4v1 - v2 = 18\n",
    "#(v1-v2)/6 = v2/7 + 12 => 7v1 - 7v2 = 6v2 + 504 => 7v1 - 13v2 = 504\n",
    "coef = np.matrix('4 -1; 7 -13')\n",
    "res = np.matrix('18; 504')\n",
    "V = np.linalg.inv(np.transpose(coef)*coef)*np.transpose(coef)*res\n",
    "print(\"Tensão v1:\",float(V[0]),\"V\")\n",
    "print(\"Tensão v2:\",float(V[1]),\"V\")"
   ]
  },
  {
   "attachments": {},
   "cell_type": "markdown",
   "metadata": {},
   "source": [
    "**Exemplo 3.2**\n",
    "\n",
    "Determine as tensões na Figura 3.5a.\n",
    "\n",
    "![](https://i.imgur.com/u1wfpBK.png)"
   ]
  },
  {
   "cell_type": "code",
   "execution_count": 44,
   "metadata": {},
   "outputs": [
    {
     "name": "stdout",
     "output_type": "stream",
     "text": [
      "Exemplo 3.2\n",
      "Tensão V1: 4.799999999999999 V\n",
      "Tensão V2: 2.3999999999999995 V\n",
      "Tensão V3: -2.4000000000000004 V\n"
     ]
    }
   ],
   "source": [
    "print(\"Exemplo 3.2\")\n",
    "#i1 + ix = 3\n",
    "#ix = i2 + i3\n",
    "#i1 + i2 = 2*ix\n",
    "#i1 = (v1-v3)/4\n",
    "#i2 = (v2-v3)/8\n",
    "#i3 = v2/4\n",
    "#ix = (v1-v2)/2\n",
    "#(v1-v3)/4 + (v1-v2)/2 = 3             =>     9v1 - 6v2 - 3v3 = 36\n",
    "#(v1-v2)/2 = (v2-v3)/8 + v2/4          =>     4v1 - 7v2 + v3 = 0\n",
    "#(v1-v3)/4 + (v2-v3)/8 = v1 - v2       =>     -6v1 + 9v2 - 3v3 = 0\n",
    "coef = np.matrix('9 -6 -3;4 -7 1;-6 9 -3')\n",
    "res = np.matrix('36;0;0')\n",
    "V = np.linalg.inv(coef)*res\n",
    "print(\"Tensão V1:\",float(V[0]),\"V\")\n",
    "print(\"Tensão V2:\",float(V[1]),\"V\")\n",
    "print(\"Tensão V3:\",float(V[2]),\"V\")"
   ]
  },
  {
   "attachments": {},
   "cell_type": "markdown",
   "metadata": {},
   "source": [
    "**Problema Prático 3.2**\n",
    "\n",
    "Determine as tensões nos três primeiros nós que não são de referência no circuito da Figura 3.6.\n",
    "\n",
    "![](https://i.imgur.com/8LdaYGZ.png)"
   ]
  },
  {
   "cell_type": "code",
   "execution_count": 47,
   "metadata": {},
   "outputs": [
    {
     "name": "stdout",
     "output_type": "stream",
     "text": [
      "Problema Prático 3.2\n",
      "Tensão V1: 32.00000000000004 V\n",
      "Tensão V2: -25.600000000000044 V\n",
      "Tensão V3: 62.4000000000001 V\n"
     ]
    }
   ],
   "source": [
    "print(\"Problema Prático 3.2\")\n",
    "#i2 = i1 + 4\n",
    "#ix = i2 + 4*ix\n",
    "#i1 + i3 + 4*ix = 0\n",
    "#i1 = (v3-v1)/2\n",
    "#i2 = (v1-v2)/3\n",
    "#i3 = v3/6\n",
    "#ix = v2/4\n",
    "#(v1-v2)/3 = (v3-v1)/2 + 4       =>     10v1 - 4v2 -6v3 = 48\n",
    "#v2/4 = (v1-v2)/3 + v2           =>     4v1 + 5v2 = 0\n",
    "#(v3-v1)/2 + v3/6 + v2 = 0       =>     -3v1 + 6v2 + 4v3= 0\n",
    "coef = np.matrix(\"10 -4 -6;4 5 0;-3 6 4\")\n",
    "res = np.matrix(\"48;0;0\")\n",
    "V = np.linalg.inv(coef)*res\n",
    "print(\"Tensão V1:\",float(V[0]),\"V\")\n",
    "print(\"Tensão V2:\",float(V[1]),\"V\")\n",
    "print(\"Tensão V3:\",float(V[2]),\"V\")"
   ]
  }
 ],
 "metadata": {
  "kernelspec": {
   "display_name": "Python 3",
   "language": "python",
   "name": "python3"
  },
  "language_info": {
   "codemirror_mode": {
    "name": "ipython",
    "version": 3
   },
   "file_extension": ".py",
   "mimetype": "text/x-python",
   "name": "python",
   "nbconvert_exporter": "python",
   "pygments_lexer": "ipython3",
   "version": "3.5.3"
  }
 },
 "nbformat": 4,
 "nbformat_minor": 2
}
