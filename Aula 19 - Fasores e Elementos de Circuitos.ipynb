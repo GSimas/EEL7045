{
 "cells": [
  {
   "cell_type": "markdown",
   "metadata": {},
   "source": [
    "# Relações entre fasores para elementos de circuitos\n",
    "\n",
    "Jupyter Notebook desenvolvido por [Gustavo S.S.](https://github.com/GSimas)\n",
    "\n",
    "Se a corrente através de um resistor R for i = Im\n",
    "cos(wt + ϕ), a tensão nele será dada pela lei de Ohm, como segue:\n",
    "\n",
    "\\begin{align}\n",
    "{\\Large v = iR = R I_m cos(\\omega t + \\phi)}\n",
    "\\\\{\\Large V = RI_m \\angle \\phi}\n",
    "\\\\{\\Large V = RI}\n",
    "\\end{align}"
   ]
  }
 ],
 "metadata": {
  "kernelspec": {
   "display_name": "Python 3",
   "language": "python",
   "name": "python3"
  },
  "language_info": {
   "codemirror_mode": {
    "name": "ipython",
    "version": 3
   },
   "file_extension": ".py",
   "mimetype": "text/x-python",
   "name": "python",
   "nbconvert_exporter": "python",
   "pygments_lexer": "ipython3",
   "version": "3.5.3"
  }
 },
 "nbformat": 4,
 "nbformat_minor": 2
}
