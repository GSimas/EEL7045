{
 "cells": [
  {
   "cell_type": "markdown",
   "metadata": {},
   "source": [
    "# Relações entre fasores para elementos de circuitos\n",
    "\n",
    "Jupyter Notebook desenvolvido por [Gustavo S.S.](https://github.com/GSimas)\n",
    "\n",
    "Se a corrente através de um resistor R for i = Im\n",
    "cos(wt + ϕ), a tensão nele será dada pela lei de Ohm, como segue:\n",
    "\n",
    "\\begin{align}\n",
    "{\\Large v(t) = iR = R I_m cos(\\omega t + \\phi)}\n",
    "\\\\{\\Large V = RI_m \\angle \\phi}\n",
    "\\\\{\\Large V = RI}\n",
    "\\end{align}\n",
    "\n",
    "![](https://i.imgur.com/r8jLeVp.png)\n",
    "\n",
    "Para o indutor L, suponha que a corrente através dele seja i = Im cos(wt + ϕ).\n",
    "A tensão no indutor é:\n",
    "\n",
    "\\begin{align}\n",
    "{\\Large v(t) = L \\frac{di}{dt} = - \\omega L I_m sen(\\omega t + \\phi)}\n",
    "\\\\{\\Large v(t) = \\omega L I_m cos(\\omega t + \\phi + 90º)}\n",
    "\\\\{\\Large V = \\omega L I_m e^{j(\\phi + 90º)} = \\omega L I_m \\angle \\phi + 90º}\n",
    "\\end{align}\n",
    "\n",
    "A partir da equação da corrente no indutor, podemos escrever:\n",
    "\n",
    "\\begin{align}\n",
    "{\\Large V = j \\omega L I}\n",
    "\\end{align}\n",
    "\n",
    "![](https://i.imgur.com/WUAKE8m.png)\n",
    "\n",
    "Para o capacitor C, suponha que a tensão nele seja v = Vm cos(wt + ϕ). A corrente através do capacitor é:\n",
    "\n",
    "\\begin{align}\n",
    "{\\Large i(t) = C \\frac{dv}{dt}}\n",
    "\\\\{\\Large I = j\\omega C V}\n",
    "\\\\{\\Large V = \\frac{I}{j \\omega C}}\n",
    "\\end{align}\n",
    "\n",
    "![](https://i.imgur.com/oMgdfkw.png)"
   ]
  },
  {
   "cell_type": "markdown",
   "metadata": {},
   "source": [
    "**Exemplo 9.8**\n",
    "\n",
    "A tensão v = 12 cos(60t + 45°) é aplicada a um indutor de 0,1 H. Determine a corrente\n",
    "em regime estacionário através do indutor."
   ]
  },
  {
   "cell_type": "code",
   "execution_count": 2,
   "metadata": {},
   "outputs": [
    {
     "name": "stdout",
     "output_type": "stream",
     "text": [
      "Exemplo 9.8\n",
      "Corrente fasorial: 2.0[-45]\n",
      "Corrente temporal: 2.0cos(60t + -45)\n"
     ]
    }
   ],
   "source": [
    "print(\"Exemplo 9.8\")\n",
    "\n",
    "omega = 60\n",
    "L = 0.1\n",
    "V = 12\n",
    "\n",
    "#v = 12[45º]\n",
    "#I = V/jwL[45 - 90]\n",
    "I = V/(omega*L)\n",
    "\n",
    "phi = 45 - 90\n",
    "\n",
    "print(\"Corrente fasorial: {}[{}]\".format(I,phi))\n",
    "print(\"Corrente temporal: {}cos({}t + {})\".format(I,omega,phi))"
   ]
  },
  {
   "cell_type": "markdown",
   "metadata": {},
   "source": [
    "**Problema Prático 9.8**\n",
    "\n",
    "Se a tensão v = 10 cos(100t + 30°) for aplicada a um capacitor de 50 uF, calcule a corrente através do capacitor."
   ]
  },
  {
   "cell_type": "code",
   "execution_count": 4,
   "metadata": {},
   "outputs": [
    {
     "name": "stdout",
     "output_type": "stream",
     "text": [
      "Problema Prático 9.8\n",
      "Corrente fasorial: 0.04999999999999999[120]\n",
      "Corrente temporal: 0.04999999999999999cos(100t + 120)\n"
     ]
    }
   ],
   "source": [
    "print(\"Problema Prático 9.8\")\n",
    "\n",
    "V = 10\n",
    "u = 10**(-6)\n",
    "C = 50*u\n",
    "omega = 100\n",
    "\n",
    "#I = jwCV[30 + 90]\n",
    "I = omega*C*V\n",
    "phi = 30 + 90\n",
    "\n",
    "print(\"Corrente fasorial: {}[{}]\".format(I,phi))\n",
    "print(\"Corrente temporal: {}cos({}t + {})\".format(I,omega,phi))"
   ]
  },
  {
   "cell_type": "markdown",
   "metadata": {},
   "source": [
    "## Impedância e Admitância\n",
    "\n",
    "Das expressões de tensão e corrente fasorial que apresentamos, obtemos a lei de Ohm na forma fasorial para qualquer\n",
    "tipo de elemento:\n",
    "\n",
    "\\begin{align}\n",
    "{\\Large Z = \\frac{V}{I}}\n",
    "\\end{align}\n",
    "\n",
    "onde Z é um valor dependente da frequência conhecido como impedância e\n",
    "medido em ohms.\n",
    "\n",
    "**A impedância Z de um circuito é a razão entre a tensão fasorial V e a corrente\n",
    "fasorial I, medida em ohms (Ω).**\n",
    "\n",
    "A impedância representa a oposição que um circuito oferece ao fluxo de corrente\n",
    "senoidal. Embora seja a razão entre dois fasores, ela não é um fasor, pois\n",
    "não corresponde a uma quantidade que varia como uma senoide.\n",
    "\n",
    "![](https://i.imgur.com/QzmQxSU.png)\n",
    "\n",
    "Sendo um valor complexo, a impedância pode ser expressa na forma retangular\n",
    "como segue:\n",
    "\n",
    "\\begin{align}\n",
    "{\\Large Z = R + jX}\n",
    "\\end{align}\n",
    "\n",
    "onde R = Re(Z) é a resistência e X = Im(Z) é a reatância. A reatância X pode ser\n",
    "positiva ou negativa. Dizemos que a impedância é indutiva quando X é positiva,\n",
    "ou capacitiva quando X é negativa.\n",
    "\n",
    "A impedância também pode ser expressa na forma polar como:\n",
    "\n",
    "\\begin{align}\n",
    "{\\Large Z = |Z| \\angle \\theta}\n",
    "\\\\{\\Large |Z| = \\sqrt{R^2 + X^2}}\n",
    "\\\\{\\Large \\theta = arctg(\\frac{X}{R})}\n",
    "\\\\{\\Large R = |Z|cos(\\theta)}\n",
    "\\\\{\\Large X = |Z|sen(\\theta)}\n",
    "\\end{align}\n",
    "\n",
    "**A admitância Y é o inverso da impedância, medida em siemens (S).**\n",
    "\n",
    "\\begin{align}\n",
    "{\\Large Y = \\frac{1}{Z} = \\frac{I}{V}}\n",
    "\\\\{\\Large Y = \\frac{1}{|Z|} \\angle -\\theta}\n",
    "\\\\{\\Large Y = G + jB}\n",
    "\\end{align}\n",
    "\n",
    "onde G = Re Y é chamada condutância e B = Im Y é denominada susceptância.\n",
    "\n",
    "\\begin{align}\n",
    "{\\Large G + jB = \\frac{1}{R + jX} = \\frac{R - jX}{R^2 + X^2}}\n",
    "\\\\{\\Large G = \\frac{R}{R^2 + X^2}}\n",
    "\\\\{\\Large B = \\frac{-X}{R^2 + X^2}}\n",
    "\\end{align}"
   ]
  },
  {
   "cell_type": "markdown",
   "metadata": {},
   "source": [
    "**Exemplo 9.9**\n",
    "\n",
    "Determine v(t) e i(t) no circuito apresentado na Figura 9.16.\n",
    "\n",
    "![](https://i.imgur.com/Mq0hpn4.png)"
   ]
  },
  {
   "cell_type": "code",
   "execution_count": 20,
   "metadata": {},
   "outputs": [
    {
     "name": "stdout",
     "output_type": "stream",
     "text": [
      "Exemplo 9.9\n",
      "Impedância Z = 5 - j2.5\n",
      "I = 1.7888543819998317 [-26.56505117707799º]\n",
      "V = 4.47213595499958 [-116.56505117707799º]\n"
     ]
    }
   ],
   "source": [
    "print(\"Exemplo 9.9\")\n",
    "\n",
    "import numpy as np\n",
    "\n",
    "V = 10\n",
    "C = 0.1\n",
    "R = 5\n",
    "omega = 4\n",
    "\n",
    "Zc = 1/(omega*C)\n",
    "\n",
    "print(\"Impedância Z = {} - j{}\".format(R,Zc))\n",
    "\n",
    "Z = np.sqrt(R**2 + Zc**2)\n",
    "theta = np.arctan(Zc/R)*180/np.pi\n",
    "I = V/Z\n",
    "phi = 0 - theta\n",
    "\n",
    "print(\"I = {} [{}º]\".format(I,phi))\n",
    "\n",
    "V = I*Zc\n",
    "\n",
    "print(\"V = {} [{}º]\".format(V,phi - 90))"
   ]
  },
  {
   "cell_type": "markdown",
   "metadata": {},
   "source": [
    "**Problema Prático 9.9**\n",
    "\n",
    "Consulte a Figura 9.17. Determine v(t) e i(t).\n",
    "\n",
    "![](https://i.imgur.com/BYNlEBs.png)"
   ]
  },
  {
   "cell_type": "code",
   "execution_count": 26,
   "metadata": {},
   "outputs": [
    {
     "name": "stdout",
     "output_type": "stream",
     "text": [
      "Problema Prático 9.9\n",
      "Z = 4 + j2.0\n",
      "I = 4.47213595499958[3.43494882292201º]\n",
      "i(t) = 4.47213595499958sen(10t + 3.43494882292201º)\n",
      "V = 8.94427190999916[93.43494882292201º]\n",
      "v(t) = 8.94427190999916sen(10t + 93.43494882292201º)\n"
     ]
    }
   ],
   "source": [
    "print(\"Problema Prático 9.9\")\n",
    "\n",
    "V = 20\n",
    "omega = 10\n",
    "phi = 30\n",
    "R = 4\n",
    "L = 0.2\n",
    "\n",
    "Zl = omega*L\n",
    "\n",
    "print(\"Z = {} + j{}\".format(R,Zl))\n",
    "\n",
    "Z = np.sqrt(R**2 + Zl**2)\n",
    "theta = np.arctan(Zl/R)*180/np.pi\n",
    "\n",
    "I = V/Z\n",
    "alpha = phi - theta\n",
    "\n",
    "print(\"I = {}[{}º]\".format(I,alpha))\n",
    "print(\"i(t) = {}sen({}t + {}º)\".format(I,omega,alpha))\n",
    "\n",
    "Vl = Zl*I\n",
    "\n",
    "print(\"V = {}[{}º]\".format(Vl,alpha + 90))\n",
    "print(\"v(t) = {}sen({}t + {}º)\".format(Vl,omega, alpha + 90))"
   ]
  },
  {
   "cell_type": "markdown",
   "metadata": {},
   "source": [
    "## Leis de Kirchhoff no Domínio da Frequência\n",
    "\n",
    "As Leis de Kirchhoff (dos nós e das malhas) também se aplicam para a análise de circuitos no domínio da frequência (fasorial). A associação de impedâncias segue o mesmo cálculo para a associação de resistências e a associação de admitâncias segue a de condutâncias:\n",
    "\n",
    "**Em série**\n",
    "\n",
    "\\begin{align}\n",
    "{\\Large Z_{eq} = Z_1 + Z_2 + ... + Z_N = \\sum_{i = 1}^{N} Z_i }\n",
    "\\end{align}\n",
    "\n",
    "**Em Paralelo**\n",
    "\n",
    "\\begin{align}\n",
    "{\\Large \\frac{1}{Z_{eq}} = \\frac{1}{Z_1} + \\frac{1}{Z_2} + ... + \\frac{1}{Z_N}}\n",
    "\\\\{\\Large Z_{eq} = (\\sum_{i=1}^{N} Z_i ^{-1})^{-1}}\n",
    "\\end{align}"
   ]
  }
 ],
 "metadata": {
  "kernelspec": {
   "display_name": "Python 3",
   "language": "python",
   "name": "python3"
  },
  "language_info": {
   "codemirror_mode": {
    "name": "ipython",
    "version": 3
   },
   "file_extension": ".py",
   "mimetype": "text/x-python",
   "name": "python",
   "nbconvert_exporter": "python",
   "pygments_lexer": "ipython3",
   "version": "3.5.3"
  }
 },
 "nbformat": 4,
 "nbformat_minor": 2
}
