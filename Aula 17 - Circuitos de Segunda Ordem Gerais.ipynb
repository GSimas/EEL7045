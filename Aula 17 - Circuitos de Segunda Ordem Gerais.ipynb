{
 "cells": [
  {
   "cell_type": "markdown",
   "metadata": {},
   "source": [
    "# Circuitos de Segunda Ordem Gerais (Genéricos)\n",
    "\n",
    "Jupyter Notebook desenvolvido por [Gustavo S.S.](https://github.com/GSimas)\n",
    "\n",
    "\n",
    "Dado um circuito de segunda ordem, determinamos sua resposta a\n",
    "um degrau x(t) (que pode ser tensão ou corrente), conforme as quatro etapas\n",
    "descritas a seguir:\n",
    "\n",
    "1. Determinamos as condições iniciais x(0) e dx(0)/dt e o valor final x(∞)\n",
    "\\begin{align}\n",
    "\\\\\n",
    "\\end{align}\n",
    "2. **Desativamos as fontes independentes e encontramos a forma da resposta transiente xt(t).**\n",
    "\\begin{align}\n",
    "\\\\\n",
    "\\end{align}\n",
    "3. Obter Equação Diferencial de Segunda Ordem e determinar raízes características\n",
    "\\begin{align}\n",
    "\\\\\n",
    "\\end{align}\n",
    "4. **Dependendo se a resposta for com amortecimento supercrítico, com amortecimento crítico ou com subamortecimento, obtemos xt(t) com duas constantes desconhecidas**\n",
    "\\begin{align}\n",
    "\\\\\n",
    "\\end{align}\n",
    "5. Obtemos a resposta de estado estável xss(t) = x(∞)\n",
    "\\begin{align}\n",
    "\\\\\n",
    "\\end{align}\n",
    "6. **A resposta total agora é encontrada como a soma das respostas transiente e de estado estável**\n",
    "\\begin{align}\n",
    "\\\\\n",
    "\\end{align}\n",
    "7. Finalmente, estabelecer as constantes associadas com a resposta transiente impondo as condições iniciais x(0) e dx(0)/dt, determinadas no item 1.\n",
    "\n",
    "Podemos aplicar esse procedimento geral para encontrar a resposta a um\n",
    "degrau de um circuito de segunda ordem, inclusive aqueles com amplificadores\n",
    "operacionais."
   ]
  }
 ],
 "metadata": {
  "kernelspec": {
   "display_name": "Python 3",
   "language": "python",
   "name": "python3"
  },
  "language_info": {
   "codemirror_mode": {
    "name": "ipython",
    "version": 3
   },
   "file_extension": ".py",
   "mimetype": "text/x-python",
   "name": "python",
   "nbconvert_exporter": "python",
   "pygments_lexer": "ipython3",
   "version": "3.5.3"
  }
 },
 "nbformat": 4,
 "nbformat_minor": 2
}
