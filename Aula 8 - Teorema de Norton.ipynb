{
 "cells": [
  {
   "cell_type": "markdown",
   "metadata": {},
   "source": [
    "# Teorema de Norton\n",
    "\n",
    "**O teorema de Norton afirma que um circuito linear de dois terminais pode\n",
    "ser substituído por um circuito equivalente formado por uma fonte de\n",
    "corrente IN em paralelo com um resistor RN, em que IN é a corrente de curto-\n",
    "-circuito através dos terminais e RN é a resistência de entrada ou equivalente\n",
    "nos terminais quando as fontes independentes forem desligadas.**"
   ]
  }
 ],
 "metadata": {
  "kernelspec": {
   "display_name": "Python 3",
   "language": "python",
   "name": "python3"
  },
  "language_info": {
   "codemirror_mode": {
    "name": "ipython",
    "version": 3
   },
   "file_extension": ".py",
   "mimetype": "text/x-python",
   "name": "python",
   "nbconvert_exporter": "python",
   "pygments_lexer": "ipython3",
   "version": "3.5.3"
  }
 },
 "nbformat": 4,
 "nbformat_minor": 2
}
