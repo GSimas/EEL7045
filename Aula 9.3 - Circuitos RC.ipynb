{
 "cells": [
  {
   "cell_type": "markdown",
   "metadata": {},
   "source": [
    "# Circuitos Lineares de 1ª Ordem\n",
    "\n",
    "Jupyter Notebook desenvolvido por [Gustavo S.S.](https://github.com/GSimas)\n",
    "\n",
    "> \"Vivemos de nossos atos, não dos anos vividos; de pensamentos, não apenas da respiração;\n",
    "de sentimentos, não dos números em um disco de telefone. Deveríamos contar o tempo em pulsações.\n",
    "Vive mais aquele que pensa mais, sente-se o mais nobre, aquele que age melhor.\" - P.J. Bailey\n",
    "\n",
    "**Um circuito de primeira ordem é caracterizado por uma equação diferencial\n",
    "de primeira ordem.**\n",
    "\n",
    "## Circuito RC sem fonte\n",
    "\n",
    "Um circuito RC sem fonte ocorre quando sua fonte CC é desconectada abruptamente.\n",
    "A energia já armazenada no capacitor é liberada para os resistores.\n",
    "\n",
    "![](http://i.imgur.com/UVELjsT.png)\n",
    "\n",
    "\\begin{align}\n",
    "{\\Large v(t) = V_0 e^{\\frac{-t}{RC}}}\n",
    "\\end{align}\n",
    "\n",
    "**A resposta natural de um circuito se refere ao comportamento (em termos\n",
    "de tensões e correntes) do próprio circuito, sem nenhuma fonte externa de\n",
    "excitação.**\n",
    "\n",
    "A resposta natural depende da\n",
    "natureza do circuito em si, sem\n",
    "nenhuma fonte externa. De\n",
    "fato, o circuito apresenta uma\n",
    "resposta apenas em razão da\n",
    "energia armazenada inicialmente\n",
    "no capacitor.\n",
    "\n",
    "A resposta natural é ilustrada graficamente na Figura 7.2. Observe que em\n",
    "t = 0 temos a condição inicial correta como na Equação anterior. À medida que t\n",
    "aumenta, a tensão diminui em direção a zero. A rapidez com que a tensão decresce é expressa em termos da constante de tempo, representada por \\tau, a letra grega minúscula tau.\n",
    "\n",
    "![](http://i.imgur.com/quV8ZsR.png)\n",
    "\n",
    "**A constante de tempo de um circuito é o tempo necessário para a resposta\n",
    "de decaimento a um fator igual a 1/e ou a 36,8% de seu valor inicial**\n",
    "\n",
    "\\begin{align}\n",
    "{\\Large \\tau = RC}\n",
    "\\end{align}\n",
    "\n",
    "Assim, a equação da tensão em função do tempo, fica:\n",
    "\n",
    "\\begin{align}\n",
    "{\\Large v(t) = V_0 e^{\\frac{-t}{\\tau}}}\n",
    "\\end{align}\n",
    "\n",
    "Com a tensão v(t) na Equação, podemos determinar a corrente iR(t):\n",
    "\n",
    "\\begin{align}\n",
    "{\\Large iR(t) = \\frac{V_0}{R} e^{\\frac{-t}{\\tau}}}\n",
    "\\end{align}\n",
    "\n",
    "![](http://i.imgur.com/ZjMjGjK.png)\n",
    "\n",
    "A energia absorvida pelo resistor até o instante t é:\n",
    "\n",
    "\\begin{align}\n",
    "{\\Large w_R(t) = \\int_{0}^{t} p(x)dx = \\frac{1}{2} C V_0² (1 - e^{-2 \\frac{t}{\\tau}})}\n",
    "\\end{align}\n",
    "\n",
    "**Note que, à medida que t -> ∞, wR(∞) -> CV0²/2, que é o mesmo que wC(0), a energia armazenada inicialmente no capacitor, a qual é finalmente dissipada no resistor.**\n",
    "\n",
    "**O segredo para se trabalhar com um circuito RC sem\n",
    "fonte é encontrar:**\n",
    "\n",
    "1. A tensão inicial v(0) = V0 no capacitor\n",
    "2. A constante de tempo \\tau"
   ]
  },
  {
   "attachments": {},
   "cell_type": "markdown",
   "metadata": {},
   "source": [
    "**Exemplo 7.1**\n",
    "\n",
    "Na Figura 7.5, façamos vC(0) = 15 V. Determine vC, vx e ix para t 7 0.\n",
    "\n",
    "![](https://i.imgur.com/ntuigaK.png)"
   ]
  },
  {
   "cell_type": "code",
   "execution_count": 18,
   "metadata": {},
   "outputs": [
    {
     "name": "stdout",
     "output_type": "stream",
     "text": [
      "Exemplo 7.1\n",
      "Tensão Vc: 15*exp(-2.5*t) V\n",
      "Tensão Vx: 9*exp(-2.5*t) V\n",
      "Corrente ix: 3*exp(-2.5*t)/4 A\n"
     ]
    }
   ],
   "source": [
    "print(\"Exemplo 7.1\")\n",
    "\n",
    "import numpy as np\n",
    "from sympy import *\n",
    "\n",
    "C = 0.1\n",
    "v0 = 15\n",
    "\n",
    "t = symbols('t')\n",
    "\n",
    "Req1 = 8 + 12\n",
    "Req2 = Req1*5/(Req1 + 5)\n",
    "tau = C*Req2\n",
    "vc = v0*exp(-t/tau)\n",
    "vx = vc*12/(12 + 8)\n",
    "ix = vx/12\n",
    "\n",
    "print(\"Tensão Vc:\",vc,\"V\")\n",
    "print(\"Tensão Vx:\",vx,\"V\")\n",
    "print(\"Corrente ix:\",ix,\"A\")"
   ]
  },
  {
   "attachments": {},
   "cell_type": "markdown",
   "metadata": {},
   "source": [
    "**Problema Prático 7.1**\n",
    "\n",
    "Consulte o circuito da Figura 7.7. Seja, vC(0) = 60 V. Determine vC, vx e io, para t >= 0.\n",
    "\n",
    "![](https://i.imgur.com/laWswJY.png)"
   ]
  },
  {
   "cell_type": "code",
   "execution_count": 31,
   "metadata": {},
   "outputs": [
    {
     "name": "stdout",
     "output_type": "stream",
     "text": [
      "Problema Prático 7.1\n",
      "Tensão Vc: 60*exp(-0.25*t) V\n",
      "Tensão Vx: 20.0*exp(-0.25*t) V\n",
      "Corrente i0: -5.0*exp(-0.25*t) A\n"
     ]
    }
   ],
   "source": [
    "print(\"Problema Prático 7.1\")\n",
    "\n",
    "v0 = 60\n",
    "C = 1/3\n",
    "\n",
    "Req1 = 12*6/(12 + 6)\n",
    "Req2 = Req1 + 8\n",
    "tau = C*Req2\n",
    "\n",
    "vc = v0*exp(-t/tau)\n",
    "vx = vc*Req1/(Req1 + 8)\n",
    "vr = vc - vx\n",
    "i0 = - vr/8\n",
    "\n",
    "print(\"Tensão Vc:\",vc,\"V\")\n",
    "print(\"Tensão Vx:\",vx,\"V\")\n",
    "print(\"Corrente i0:\",i0,\"A\")"
   ]
  },
  {
   "attachments": {},
   "cell_type": "markdown",
   "metadata": {},
   "source": [
    "**Exemplo 7.2**\n",
    "\n",
    "A chave no circuito da Figura 7.8 foi fechada por um longo período e é aberta em t = 0.\n",
    "Determine v(t) para t >= 0. Calcule a energia inicial armazenada no capacitor.\n",
    "\n",
    "![](https://i.imgur.com/Yjm5Tn4.png)"
   ]
  },
  {
   "cell_type": "code",
   "execution_count": 32,
   "metadata": {},
   "outputs": [
    {
     "name": "stdout",
     "output_type": "stream",
     "text": [
      "Exemplo 7.2\n",
      "Tensão v(t): 15.0*exp(-5.0*t) V\n",
      "Energia inicial: 2.25 J\n"
     ]
    }
   ],
   "source": [
    "print(\"Exemplo 7.2\")\n",
    "\n",
    "Vf = 20\n",
    "m = 10**-3\n",
    "C = 20*m\n",
    "\n",
    "v0 = Vf*9/(9 + 3)\n",
    "Req = 9 + 1\n",
    "tau = Req*C\n",
    "vc = v0*exp(-t/tau)\n",
    "wc = (C*v0**2)/2\n",
    "\n",
    "print(\"Tensão v(t):\",vc,\"V\")\n",
    "print(\"Energia inicial:\",wc,\"J\")"
   ]
  },
  {
   "attachments": {},
   "cell_type": "markdown",
   "metadata": {},
   "source": [
    "**Problema Prático 7.2**\n",
    "\n",
    "Se a chave da Figura 7.10 abrir em t = 0, determine v(t) para t >= 0 e wC(0).\n",
    "\n",
    "![](https://i.imgur.com/m65b08s.png)"
   ]
  },
  {
   "cell_type": "code",
   "execution_count": 33,
   "metadata": {},
   "outputs": [
    {
     "name": "stdout",
     "output_type": "stream",
     "text": [
      "Problema Prático 7.2\n",
      "Tensão v(t): 8.0*exp(-2.0*t) V\n",
      "Energia inicial: 5.333333333333333 J\n"
     ]
    }
   ],
   "source": [
    "print(\"Problema Prático 7.2\")\n",
    "\n",
    "Vf = 24\n",
    "C = 1/6\n",
    "\n",
    "Req1 = 12*4/(12 + 4)\n",
    "v0 = Vf*Req1/(Req1 + 6)\n",
    "tau = Req1*C\n",
    "v = v0*exp(-t/tau)\n",
    "wc = (C*v0**2)/2\n",
    "\n",
    "print(\"Tensão v(t):\",v,\"V\")\n",
    "print(\"Energia inicial:\",wc,\"J\")"
   ]
  }
 ],
 "metadata": {
  "kernelspec": {
   "display_name": "Python 3",
   "language": "python",
   "name": "python3"
  },
  "language_info": {
   "codemirror_mode": {
    "name": "ipython",
    "version": 3
   },
   "file_extension": ".py",
   "mimetype": "text/x-python",
   "name": "python",
   "nbconvert_exporter": "python",
   "pygments_lexer": "ipython3",
   "version": "3.5.3"
  }
 },
 "nbformat": 4,
 "nbformat_minor": 2
}
