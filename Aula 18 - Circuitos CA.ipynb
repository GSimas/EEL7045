{
 "cells": [
  {
   "cell_type": "markdown",
   "metadata": {},
   "source": [
    "# Circuitos CA\n",
    "\n",
    "Jupyter Notebook desenvolvido por [Gustavo S.S.](https://github.com/GSimas)\n",
    "\n",
    "## Senoides e Fasores\n",
    "\n",
    "A análise em Corrente Alternada (CA) é a análise de circuitos nos quais a fonte de tensão ou\n",
    "de corrente varia com o tempo. Os circuitos acionados\n",
    "por fontes de tensão ou de corrente senoidais são chamados circuitos CA.\n",
    "\n",
    "**Senoide é um sinal que possui a forma da função seno ou cosseno.**\n",
    "\n",
    "Consideremos a tensão senoidal:\n",
    "\n",
    "\\begin{align}\n",
    "{\\Large v(t) = V_m sen(\\omega t)}\n",
    "\\end{align}\n",
    "\n",
    "onde\n",
    "\n",
    "Vm = amplitude da senoide (V)\n",
    "\n",
    "ω = frequência angular (rad/s)\n",
    "\n",
    "ωt = argumento da senoide (rad)\n",
    "\n",
    "\\begin{align}\n",
    "{\\Large T = \\frac{2 \\pi}{\\omega}}\n",
    "\\end{align}\n",
    "\n",
    "A senoide é mostrada na Figura 9.1a em função de seu argumento e na Figura\n",
    "9.1b em função do tempo.\n",
    "\n",
    "![](https://i.imgur.com/IYYJLIy.png)\n",
    "\n",
    "O fato de v(t) repetir-se a cada T segundos é demonstrado substituindo-se t por\n",
    "t + T. Portanto:\n",
    "\n",
    "\\begin{align}\n",
    "{\\Large v(t + T) = v(t)}\n",
    "\\end{align}\n",
    "\n",
    "Função periódica é aquela que satisfaz f(t) = f(t + nT), para todo t e para\n",
    "todos os inteiros n.\n",
    "\n",
    "Conforme mencionado anteriormente, o período T da função periódica é o\n",
    "tempo de um ciclo completo ou o número de segundos por ciclo. O inverso\n",
    "desse valor é o número de ciclos por segundo, conhecido como frequência\n",
    "cíclica f da senoide. Consequentemente,\n",
    "\n",
    "\\begin{align}\n",
    "{\\Large f = \\frac{1}{T}}\n",
    "\\\\{\\Large \\omega = 2 \\pi f}\n",
    "\\end{align}\n",
    "\n",
    "\n",
    "Uma expressão mais genérica para a senoide:\n",
    "\n",
    "\\begin{align}\n",
    "{\\Large v(t) = V_m sen(\\omega t + \\phi)}\n",
    "\\end{align}\n",
    "\n",
    "onde ϕ é a fase.\n",
    "\n",
    "Consideremos duas senoides, sendo:\n",
    "\n",
    "\\begin{align}\n",
    "{\\Large v_1(t) = V_m sen(\\omega t)}\n",
    "\\\\{\\Large v_2(t) = V_m sen(\\omega t + \\phi)}\n",
    "\\end{align}\n",
    "\n",
    "![](https://i.imgur.com/8BoCeI4.png)\n",
    "\n",
    "Uma senoide pode ser expressa em termos de seno ou de cosseno. Isso pode ser conseguido\n",
    "usando-se as seguintes identidades trigonométricas:\n",
    "\n",
    "\\begin{align}\n",
    "{\\Large sen(A \\pm B) = sen(A)cos(B) \\pm sen(B)cos(A)}\n",
    "\\\\{\\Large cos(A \\pm B) = cos(A)cos(B) \\mp sen(A)sen(B)}\n",
    "\\end{align}\n",
    "\n",
    "Com essas identidades, fica fácil demonstrar que:\n",
    "\n",
    "\\begin{align}\n",
    "{\\Large sen(\\omega t \\pm 180º) = -sen(\\omega t)}\n",
    "\\\\{\\Large cos(\\omega t \\pm 180º) = -cos(\\omega t)}\n",
    "\\\\{\\Large sen(\\omega t \\pm 90º) = \\pm cos(\\omega t)}\n",
    "\\\\{\\Large cos(\\omega t \\pm 90º) = \\mp sen(\\omega t)}\n",
    "\\end{align}\n",
    "\n",
    "Usando essas relações, podemos transformar uma senoide na forma de seno\n",
    "para uma na forma de cosseno, ou vice-versa.\n",
    "\n",
    "A magnitude e o argumento da senoide resultante na forma de cosseno\n",
    "são imediatamente obtidos do triângulo. Portanto:\n",
    "\n",
    "\\begin{align}\n",
    "{\\Large A cos(\\omega t) + B sen(\\omega t) = r cos(\\omega t - \\theta)}\n",
    "\\\\{\\Large r = \\sqrt{A^2 + B^2}}\n",
    "\\\\{\\Large \\theta = arctg \\frac{B}{A}}\n",
    "\\end{align}"
   ]
  },
  {
   "cell_type": "markdown",
   "metadata": {},
   "source": [
    "**Exemplo 9.1**\n",
    "\n",
    "Determine a amplitude, a fase, o período e a frequência da senoide\n",
    "\n",
    "v(t) 12 cos(50 t + 10º)"
   ]
  },
  {
   "cell_type": "code",
   "execution_count": 3,
   "metadata": {},
   "outputs": [
    {
     "name": "stdout",
     "output_type": "stream",
     "text": [
      "Exemplo 9.1\n",
      "Amplitude: 12 V\n",
      "Fase: 10 º\n",
      "Frequência angular: 50 rad/s\n",
      "Período: 0.12566370614359174 s\n",
      "Frequência: 7.957747154594767 Hz\n"
     ]
    }
   ],
   "source": [
    "print(\"Exemplo 9.1\")\n",
    "\n",
    "import numpy as np\n",
    "\n",
    "Vm = 12\n",
    "phi = 10\n",
    "omega = 50\n",
    "T = 2*np.pi/omega\n",
    "f = 1/T\n",
    "\n",
    "print(\"Amplitude:\",Vm,\"V\")\n",
    "print(\"Fase:\",phi,\"º\")\n",
    "print(\"Frequência angular:\",omega,\"rad/s\")\n",
    "print(\"Período:\",T,\"s\")\n",
    "print(\"Frequência:\",f,\"Hz\")"
   ]
  },
  {
   "cell_type": "markdown",
   "metadata": {},
   "source": [
    "**Problema Prático 9.1**\n",
    "\n",
    "Dada a senoide 30 sen(4pit – 75°), calcule sua amplitude, fase, frequência angular, período e frequência"
   ]
  },
  {
   "cell_type": "code",
   "execution_count": 4,
   "metadata": {},
   "outputs": [
    {
     "name": "stdout",
     "output_type": "stream",
     "text": [
      "Problema Prático 9.1\n",
      "Amplitude: 30 V\n",
      "Fase: -75 º\n",
      "Frequência angular: 12.566370614359172 rad/s\n",
      "Período: 0.5 s\n",
      "Frequência: 2.0 Hz\n"
     ]
    }
   ],
   "source": [
    "print(\"Problema Prático 9.1\")\n",
    "\n",
    "Vm = 30\n",
    "#30sin(4*pi*t - 75º) = 30cos(4*pi*t + 165º)\n",
    "phi = -75\n",
    "omega = 4*np.pi\n",
    "T = 2*np.pi/omega\n",
    "f = 1/T\n",
    "\n",
    "print(\"Amplitude:\",Vm,\"V\")\n",
    "print(\"Fase:\",phi,\"º\")\n",
    "print(\"Frequência angular:\",omega,\"rad/s\")\n",
    "print(\"Período:\",T,\"s\")\n",
    "print(\"Frequência:\",f,\"Hz\")"
   ]
  },
  {
   "cell_type": "markdown",
   "metadata": {},
   "source": [
    "**Exemplo 9.2**\n",
    "\n",
    "Calcule o ângulo de fase entre v1 = –10 cos(wt + 50°) e v2 = 12 sen(wt – 10°). Indique\n",
    "qual senoide está avançada."
   ]
  },
  {
   "cell_type": "code",
   "execution_count": 7,
   "metadata": {},
   "outputs": [
    {
     "name": "stdout",
     "output_type": "stream",
     "text": [
      "Exemplo 9.2\n",
      "v2 esta avancada em 30º em relação a v1\n"
     ]
    }
   ],
   "source": [
    "print(\"Exemplo 9.2\")\n",
    "\n",
    "#v1 = -10cos(wt + 50º) = 10cos(wt + 50 - 180) = 10cos(wt - 130º)\n",
    "#v2 = 12sen(wt - 10º) = 12cos(wt - 100º)\n",
    "#-130 - (-100) = -30\n",
    "\n",
    "phi = 30\n",
    "\n",
    "print(\"v2 esta avancada em {}º em relação a v1\".format(phi))"
   ]
  },
  {
   "cell_type": "markdown",
   "metadata": {},
   "source": [
    "**Problema Prático 9.2**\n",
    "\n",
    "Determine o ângulo de fase entre \n",
    "\n",
    "i1(t) = -4sen(377t + 55º) \n",
    "\n",
    "e \n",
    "\n",
    "i2(t) =  5cos(377t - 65º)"
   ]
  },
  {
   "cell_type": "code",
   "execution_count": 10,
   "metadata": {},
   "outputs": [
    {
     "name": "stdout",
     "output_type": "stream",
     "text": [
      "Problema Prático 9.2\n",
      "i1 esta avancada em 210º em relação a i2\n"
     ]
    }
   ],
   "source": [
    "print(\"Problema Prático 9.2\")\n",
    "\n",
    "#i1 = -4sen(377t + 55) = 4sen(377t + 55 + 180) = 4sen(377t + 235) = 4cos(377t + 145)\n",
    "#i2 = 5cos(377t - 65)\n",
    "phi = 145 - (-65)\n",
    "\n",
    "print(\"i1 esta avancada em {}º em relação a i2\".format(phi))"
   ]
  },
  {
   "cell_type": "markdown",
   "metadata": {},
   "source": [
    "# Fasores\n",
    "\n",
    "**Fasor é um número complexo que representa a amplitude e a fase de uma\n",
    "senoide**\n",
    "\n",
    "Os fasores se constituem de maneira simples para analisar circuitos lineares\n",
    "excitados por fontes senoidais; encontrar a solução para circuitos desse tipo\n",
    "seria impraticável de outro modo. A noção de resolução de circuitos CA usando\n",
    "fasores foi introduzida inicialmente por Charles Steinmetz em 1893.\n",
    "\n",
    "Um número complexo z pode ser escrito na forma retangular como\n",
    "\n",
    "\\begin{align}\n",
    "{\\Large z = x + jy}\n",
    "\\\\{\\Large j = \\sqrt{-1}}\n",
    "\\end{align}\n",
    "\n",
    "O número complexo z também pode ser escrito na forma polar ou exponencial:\n",
    "\n",
    "\\begin{align}\n",
    "{\\Large z = r \\angle \\phi = re^{j \\phi}}\n",
    "\\\\{\\Large r = \\sqrt{x^2 + y^2}}\n",
    "\\\\{\\Large \\phi = arctg(\\frac{y}{x})}\n",
    "\\end{align}\n",
    "\n",
    "![](https://i.imgur.com/cZZGrb0.png)\n",
    "\n",
    "Por outro lado, se conhecermos r e f, podemos obter x e y como:\n",
    "\n",
    "\\begin{align}\n",
    "{\\Large x = rcos(\\phi)}\n",
    "\\\\{\\Large y = rsen(\\phi)}\n",
    "\\end{align}\n",
    "\n",
    "## Operações com Complexos\n",
    "\n",
    "As seguintes operações são importantes.\n",
    "\n",
    "**Adição**\n",
    "\n",
    "\\begin{align}\n",
    "{\\Large z_1 + z_2 = (x_1 + x_2) + j(y_1 + y_2)}\n",
    "\\end{align}\n",
    "\n",
    "**Subtração**\n",
    "\n",
    "\\begin{align}\n",
    "{\\Large z_1 + z_2 = (x_1 - x_2) + j(y_1 - y_2)}\n",
    "\\end{align}\n",
    "\n",
    "**Multiplicação**\n",
    "\n",
    "\\begin{align}\n",
    "{\\Large z_1 z_2 = r_1 r_2 \\angle \\phi_1 + \\phi_2}\n",
    "\\end{align}\n",
    "\n",
    "**Divisão**\n",
    "\n",
    "\\begin{align}\n",
    "{\\Large \\frac{z_1}{z_2} = \\frac{r_1}{r_2} \\angle \\phi_1 - \\phi_2}\n",
    "\\end{align}\n",
    "\n",
    "**Inverso**\n",
    "\n",
    "\\begin{align}\n",
    "{\\Large \\frac{1}{z} = \\frac{1}{r} \\angle - \\phi}\n",
    "\\end{align}\n",
    "\n",
    "**Raiz Quadrada**\n",
    "\n",
    "\\begin{align}\n",
    "{\\Large \\sqrt{z} = \\sqrt{r} \\angle \\phi / 2}\n",
    "\\end{align}\n",
    "\n",
    "**Conjugado Complexo**\n",
    "\n",
    "\\begin{align}\n",
    "{\\Large z* = x - jy = r \\angle -\\phi = re^{-j \\phi}}\n",
    "\\end{align}\n",
    "\n",
    "A ideia da representação de fasor se baseia na identidade de Euler. Em\n",
    "geral:\n",
    "\n",
    "\\begin{align}\n",
    "{\\Large e^{\\pm j \\phi} = cos(\\phi) \\pm jsen(\\phi)}\n",
    "\\end{align}\n",
    "\n",
    "Assim, podemos escrever:\n",
    "\n",
    "\\begin{align}\n",
    "{\\Large cos(\\phi) = Re(e^{j \\phi})}\n",
    "\\\\{\\Large sen(\\phi) = Im(e^{j \\phi})}\n",
    "\\end{align}\n",
    "\n",
    "Dada a senoide v(t) = Vm cos(vt + Φ), podemos representar como:\n",
    "\n",
    "\\begin{align}\n",
    "{\\Large v(t) = Re(V e^{j \\omega t})}\n",
    "\\\\{\\Large V = V_m e^{j \\phi} = V_m \\angle \\phi}\n",
    "\\end{align}\n",
    "\n",
    "**V é, portanto, a representação fasorial da senoide v(t)**\n",
    "\n",
    "![](https://i.imgur.com/4FcQaao.png)\n",
    "\n",
    "# Derivada e Integral de Fasores\n",
    "\n",
    "A derivada de v(t) é transformada para o domínio dos fasores\n",
    "como jwV:\n",
    "\n",
    "\\begin{align}\n",
    "{\\Large \\frac{dv}{dt} = - \\omega V_m sen(\\omega t + \\phi) = \\omega V_m cos(\\omega t + \\phi + 90º)}\n",
    "\\\\{\\Large = Re(\\omega V_m e^{j \\omega t} e^{j \\omega} e^{j 90º} = Re(j \\omega V e^{j \\omega t})}\n",
    "\\end{align}\n",
    "\n",
    "Assim:\n",
    "\n",
    "\\begin{align}\n",
    "{\\Large \\frac{dv}{dt} = j\\omega V}\n",
    "\\\\{\\Large \\int v dt = \\frac{V}{j\\omega}}\n",
    "\\end{align}\n",
    "\n",
    "As diferenças entre v(t) e V devem ser enfatizadas:\n",
    "\n",
    "1. v(t) é a representação instantânea ou no domínio do tempo, enquanto **V** é a representação em termos de frequência ou no domínio dos fasores.\n",
    "\n",
    "2. v(t) é dependente do tempo, enquanto V não é.\n",
    "\n",
    "3. v(t) é sempre real sem nenhum termo complexo, enquanto **V** geralmente é complexo."
   ]
  },
  {
   "cell_type": "markdown",
   "metadata": {},
   "source": [
    "**Exemplo 9.4**\n",
    "\n",
    "Transforme as senoides seguintes em fasores:\n",
    "\n",
    "(a) i = 6cos(50t - 40º) A\n",
    "\n",
    "(b) v = -4sen(30t + 50º) V"
   ]
  },
  {
   "cell_type": "code",
   "execution_count": 13,
   "metadata": {},
   "outputs": [
    {
     "name": "stdout",
     "output_type": "stream",
     "text": [
      "Exemplo 9.4\n",
      "I: 6[-40º]\n",
      "V: 4[140º]\n"
     ]
    }
   ],
   "source": [
    "print(\"Exemplo 9.4\")\n",
    "\n",
    "#6cos(50t - 40)\n",
    "#r = 6\n",
    "#phi = -40\n",
    "\n",
    "#-4sen(30t + 50) = 4sen(30t + 50 + 180) = 4cos(30t + 140)\n",
    "#r = 4\n",
    "#phi = 140\n",
    "\n",
    "print(\"I: 6[-40º]\")\n",
    "print(\"V: 4[140º]\")"
   ]
  },
  {
   "cell_type": "markdown",
   "metadata": {},
   "source": [
    "**Problema Prático 9.4**\n",
    "\n",
    "Expresse as senoides seguintes na forma de fasores:\n",
    "\n",
    "(a) v = 7cos(2t + 40º) V\n",
    "\n",
    "(b) i = -4sen(10t + 10º) A"
   ]
  },
  {
   "cell_type": "code",
   "execution_count": 14,
   "metadata": {},
   "outputs": [
    {
     "name": "stdout",
     "output_type": "stream",
     "text": [
      "Problema Prático 9.4\n",
      "V: 7[40º]\n",
      "I: 4[100º]\n"
     ]
    }
   ],
   "source": [
    "print(\"Problema Prático 9.4\")\n",
    "\n",
    "#7cos(2t + 40)\n",
    "#r = 7\n",
    "#phi = 40\n",
    "\n",
    "#-4sen(10t + 10) = 4sen(10t + 10 + 180) = 4cos(10t + 100)\n",
    "#r = 4\n",
    "#phi = 100\n",
    "\n",
    "print(\"V: 7[40º]\")\n",
    "print(\"I: 4[100º]\")"
   ]
  },
  {
   "cell_type": "markdown",
   "metadata": {},
   "source": [
    "**Exemplo 9.5**\n",
    "\n",
    "Determine as senoides representadas pelos fasores seguintes:\n",
    "\n",
    "(a) I = -3 + j4\n",
    "\n",
    "(b) V = j8e^(-j20º)"
   ]
  },
  {
   "cell_type": "code",
   "execution_count": 36,
   "metadata": {},
   "outputs": [
    {
     "name": "stdout",
     "output_type": "stream",
     "text": [
      "Exemplo 9.5\n",
      "I: 5.0[126.86989764584402º]\n",
      "V: 8[70º]\n"
     ]
    }
   ],
   "source": [
    "print(\"Exemplo 9.5\")\n",
    "\n",
    "import numpy as np\n",
    "\n",
    "r = np.sqrt((-3)**2 + 4**2)\n",
    "phi = np.arctan(4/(-3))*180/np.pi + 180\n",
    "\n",
    "print(\"I: {}[{}º]\".format(r,phi))\n",
    "\n",
    "#j = 1[90º]\n",
    "#V = 8e^(-j20) = 8[-20º]\n",
    "#jV = 1*8 [90 -20] = 8[70º]\n",
    "\n",
    "print(\"V: 8[70º]\")\n"
   ]
  },
  {
   "cell_type": "markdown",
   "metadata": {},
   "source": [
    "**Problema Prático 9.5**\n",
    "\n",
    "Determine as senoides correspondentes aos fasores seguintes:\n",
    "\n",
    "(a) V = -25[40º]\n",
    "\n",
    "(b) I = j(12 - j5)"
   ]
  },
  {
   "cell_type": "code",
   "execution_count": 38,
   "metadata": {},
   "outputs": [
    {
     "name": "stdout",
     "output_type": "stream",
     "text": [
      "Problema Prático 9.5\n",
      "v(t) = 25cos(wt + 220)\n",
      "I: 13.0[67.38013505195958º]\n"
     ]
    }
   ],
   "source": [
    "print(\"Problema Prático 9.5\")\n",
    "\n",
    "print(\"v(t) = 25cos(wt + 220)\")\n",
    "\n",
    "#j(12 - j5) = 5 + 12j\n",
    "\n",
    "r = np.sqrt(5**2 + 12**2)\n",
    "phi = np.arctan(12/5)*180/np.pi\n",
    "\n",
    "print(\"I: {}[{}º]\".format(r,phi))"
   ]
  },
  {
   "cell_type": "markdown",
   "metadata": {},
   "source": [
    "**Exemplo 9.6**\n",
    "\n",
    "Dados i1(t) = 4 cos(wt + 30°) A e i2(t) = 5 sen(wt + 20°) A, determine sua soma."
   ]
  },
  {
   "cell_type": "code",
   "execution_count": 60,
   "metadata": {},
   "outputs": [
    {
     "name": "stdout",
     "output_type": "stream",
     "text": [
      "Exemplo 9.6\n",
      "i1 + i2: 1.7540008985094113 + j-2.6984631039295426\n",
      "I: 3.218419219934048[-56.976134221108644]\n",
      "i(t): 3.218419219934048cos(wt + -56.976134221108644)\n"
     ]
    }
   ],
   "source": [
    "print(\"Exemplo 9.6\")\n",
    "\n",
    "#4cos(wt + 30) = 4[30]\n",
    "#5sen(wt + 20) = 5cos(wt + 70) = 5[-110]\n",
    "\n",
    "x = 4*np.cos(30*np.pi/180) + 5*np.cos(-110*np.pi/180)\n",
    "y = 4*np.sin(30*np.pi/180) + 5*np.sin(-110*np.pi/180)\n",
    "\n",
    "print(\"i1 + i2: {} + j{}\".format(x,y))\n",
    "\n",
    "r = np.sqrt(x**2 + y**2)\n",
    "phi = np.arctan(y/x)*180/np.pi\n",
    "\n",
    "print(\"I: {}[{}]\".format(r,phi))\n",
    "print(\"i(t): {}cos(wt + {})\".format(r,phi))"
   ]
  },
  {
   "cell_type": "markdown",
   "metadata": {},
   "source": [
    "**Problema Prático 9.6**\n",
    "\n",
    "Se v1(t) = –10 sen(vt – 30°) V e v2(t) = 20 cos(vt + 45°), determine v = v1 + v2."
   ]
  },
  {
   "cell_type": "code",
   "execution_count": 61,
   "metadata": {},
   "outputs": [
    {
     "name": "stdout",
     "output_type": "stream",
     "text": [
      "Problema Prático 9.6\n",
      "v1 + v2: 19.14213562373095 + j22.802389661575337\n",
      "V: 29.771972230868872[49.98723472563248]\n",
      "v(t): 29.771972230868872cos(wt + 49.98723472563248)\n"
     ]
    }
   ],
   "source": [
    "print(\"Problema Prático 9.6\")\n",
    "\n",
    "#-10sen(wt - 30) = 10sen(wt + 150) = 10sen(wt + 60) = 10[60]\n",
    "#20cos(wt + 45) = 20[45]\n",
    "\n",
    "x = 10*np.cos(60*np.pi/180) + 20*np.cos(45*np.pi/180)\n",
    "y = 10*np.sin(60*np.pi/180) + 20*np.sin(45*np.pi/180)\n",
    "\n",
    "print(\"v1 + v2: {} + j{}\".format(x,y))\n",
    "\n",
    "r = np.sqrt(x**2 + y**2)\n",
    "phi = np.arctan(y/x)*180/np.pi\n",
    "\n",
    "print(\"V: {}[{}]\".format(r,phi))\n",
    "print(\"v(t): {}cos(wt + {})\".format(r,phi))"
   ]
  },
  {
   "cell_type": "markdown",
   "metadata": {},
   "source": [
    "**Exemplo 9.7**\n",
    "\n",
    "Usando o método de fasores, determine a corrente i(t) em um circuito descrito pela\n",
    "equação diferencial\n",
    "\n",
    "\\begin{align}\n",
    "{\\Large 4i + 8 \\int idt - 3 \\frac{di}{dt} = 50cos(2t + 75)}\n",
    "\\end{align}"
   ]
  },
  {
   "cell_type": "code",
   "execution_count": 64,
   "metadata": {},
   "outputs": [
    {
     "name": "stdout",
     "output_type": "stream",
     "text": [
      "Exemplo 9.7\n",
      "Fasor I: 4.642383454426297[143.19859051364818]\n",
      "i(t) = 4.642383454426297cos(wt + 143.19859051364818º)\n"
     ]
    }
   ],
   "source": [
    "print(\"Exemplo 9.7\")\n",
    "\n",
    "#4I + 8I/jw - 3jwI = 50[75]\n",
    "#4I -4jI - 6jI = 50[75]\n",
    "#I = 50[75] / (4 - j10)\n",
    "\n",
    "r = np.sqrt(4**2 + (-10)**2)\n",
    "phi = np.arctan((-10)/4)*180/np.pi\n",
    "\n",
    "R = 50/r\n",
    "Phi = 75 - phi\n",
    "\n",
    "print(\"Fasor I: {}[{}]\".format(R,Phi))\n",
    "print(\"i(t) = {}cos(wt + {}º)\".format(R,Phi))"
   ]
  },
  {
   "cell_type": "markdown",
   "metadata": {},
   "source": [
    "**Problema prático 9.7**\n",
    "\n",
    "Determine a tensão v(t) em um circuito descrito pela equação integro-diferencial a seguir:\n",
    "    \n",
    "\\begin{align}\n",
    "{\\Large 2\\frac{dv}{dt} + 5v + 10 \\int vdt = 50cos(5t - 30º)}\n",
    "\\end{align}"
   ]
  },
  {
   "cell_type": "code",
   "execution_count": 66,
   "metadata": {},
   "outputs": [
    {
     "name": "stdout",
     "output_type": "stream",
     "text": [
      "Problema Prático 9.7\n",
      "Fasor I: 5.299989400031801[-87.9946167919165]\n",
      "i(t) = 5.299989400031801cos(wt + -87.9946167919165º)\n"
     ]
    }
   ],
   "source": [
    "print(\"Problema Prático 9.7\")\n",
    "\n",
    "#2Vjw + 5V + 10v/jw = 50[-30]\n",
    "#5V -2jV + 10jV = 50[-30]\n",
    "#V = 50[-30] / (5 + j8)\n",
    "\n",
    "r = np.sqrt(5**2 + 8**2)\n",
    "phi = np.arctan(8/5)*180/np.pi\n",
    "\n",
    "R = 50/r\n",
    "Phi = -30 - phi\n",
    "\n",
    "print(\"Fasor I: {}[{}]\".format(R,Phi))\n",
    "print(\"i(t) = {}cos(wt + {}º)\".format(R,Phi))"
   ]
  }
 ],
 "metadata": {
  "kernelspec": {
   "display_name": "Python 3",
   "language": "python",
   "name": "python3"
  },
  "language_info": {
   "codemirror_mode": {
    "name": "ipython",
    "version": 3
   },
   "file_extension": ".py",
   "mimetype": "text/x-python",
   "name": "python",
   "nbconvert_exporter": "python",
   "pygments_lexer": "ipython3",
   "version": "3.5.3"
  }
 },
 "nbformat": 4,
 "nbformat_minor": 2
}
