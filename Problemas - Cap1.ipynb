{
 "cells": [
  {
   "cell_type": "markdown",
   "metadata": {},
   "source": [
    "# Seção 1.3 - Carga e Corrente"
   ]
  },
  {
   "cell_type": "markdown",
   "metadata": {},
   "source": [
    "**1.1 Quantos coulombs são representados pelas seguintes quantidades de elétrons?**\n",
    "\n",
    "(a) 6,482 * 10^17\n",
    "\n",
    "(b) 1,24 * 10^18\n",
    "\n",
    "(c) 2,46 * 10^19\n",
    "\n",
    "(d) 1,628 * 10^20"
   ]
  },
  {
   "cell_type": "code",
   "execution_count": 5,
   "metadata": {},
   "outputs": [
    {
     "name": "stdout",
     "output_type": "stream",
     "text": [
      "1.1\n",
      "Carga (a): -0.10384164 C\n",
      "Carga (b): -0.198648 C\n",
      "Carga (c): -3.9409199999999998 C\n",
      "Carga (d): -26.08056 C\n"
     ]
    }
   ],
   "source": [
    "print(\"1.1\")\n",
    "carga_eletron = 1.602*10**(-19) #coulombs\n",
    "n_eletrons = 1/carga_eletron\n",
    "a = 6.482*10**17\n",
    "b = 1.24*10**18\n",
    "c = 2.46*10**19\n",
    "d = 1.628*10**20\n",
    "carga_a = -a / n_eletrons\n",
    "carga_b = -b / n_eletrons\n",
    "carga_c = -c / n_eletrons\n",
    "carga_d = -d / n_eletrons\n",
    "print(\"Carga (a):\", carga_a, \"C\")\n",
    "print(\"Carga (b):\", carga_b, \"C\")\n",
    "print(\"Carga (c):\", carga_c, \"C\")\n",
    "print(\"Carga (d):\", carga_d, \"C\")"
   ]
  },
  {
   "cell_type": "markdown",
   "metadata": {},
   "source": [
    "**1.2 Determine a corrente que flui por um elemento se o fluxo de carga for dado por:**\n",
    "\n",
    "(a) q(t) = (3t + 8) mC\n",
    "\n",
    "(b) q(t) = (8t^2 + 4t - 2) C\n",
    "\n",
    "(c) q(t) = (3e^-t - 5e^-2t) nC\n",
    "\n",
    "(d) q(t) = 10sen(120*pi*t) pC\n",
    "\n",
    "(e) q(t) = 20e^-4tcos(50t) uC"
   ]
  },
  {
   "cell_type": "code",
   "execution_count": 13,
   "metadata": {},
   "outputs": [
    {
     "name": "stdout",
     "output_type": "stream",
     "text": [
      "1.2\n",
      "Resposta (a): 3 mA\n",
      "Resposta (b): 16*t + 4 A\n",
      "Resposta (c): -3*exp(-t) + 10*exp(-2*t) nA\n",
      "Resposta (d): 3769.91118430775*cos(376.991118430775*t) pA\n",
      "Resposta (e): -1000*exp(-4*t)*sin(50*t) - 80*exp(-4*t)*cos(50*t) uA\n"
     ]
    }
   ],
   "source": [
    "print(\"1.2\")\n",
    "import numpy as np\n",
    "from sympy import *\n",
    "\n",
    "t = symbols('t')\n",
    "q = 3*t + 8\n",
    "i = diff(q,t)\n",
    "print(\"Resposta (a):\", i, \"mA\")\n",
    "q = 8*t**2 + 4*t - 2\n",
    "i = diff(q,t)\n",
    "print(\"Resposta (b):\", i, \"A\")\n",
    "q = 3*exp(-t) - 5*exp(-2*t)\n",
    "i = diff(q,t)\n",
    "print(\"Resposta (c):\", i, \"nA\")\n",
    "q = 10*sin(120*np.pi*t)\n",
    "i = diff(q,t)\n",
    "print(\"Resposta (d):\", i, \"pA\")\n",
    "q = 20*exp(-4*t)*cos(50*t)\n",
    "i = diff(q,t)\n",
    "print(\"Resposta (e):\", i, \"uA\")"
   ]
  },
  {
   "cell_type": "markdown",
   "metadata": {},
   "source": [
    "**1.3 Determine a carga q(t) que flui por um dispositivo se a corrente for:**\n",
    "\n",
    "(a) i(t) = 3 A, q(0) = 1 C\n",
    "\n",
    "(b) i(t) = (2t + 5) mA, q(0) = 0\n",
    "\n",
    "(c) i(t) = 20cos(10t + pi/6) uA, q(0) = uC\n",
    "\n",
    "(d) i(t) = 10e^(-30t)sen(40t) A, q(0) = 0"
   ]
  },
  {
   "cell_type": "code",
   "execution_count": 22,
   "metadata": {},
   "outputs": [
    {
     "name": "stdout",
     "output_type": "stream",
     "text": [
      "1.3\n",
      "Resposta (a): 3*t + 1 C\n",
      "Resposta (b): t**2 + 5*t mC\n",
      "Resposta (c): 2*sin(10*t + 0.523598775598299) + 2 uC\n",
      "Resposta (d): -3*exp(-30*t)*sin(40*t)/25 - 4*exp(-30*t)*cos(40*t)/25 C\n"
     ]
    }
   ],
   "source": [
    "print(\"1.3\")\n",
    "i = 3\n",
    "q = integrate(i,t)\n",
    "q0 = 1\n",
    "print(\"Resposta (a):\", q + q0, \"C\")\n",
    "i = 2*t + 5\n",
    "q = integrate(i,t)\n",
    "q0 = 0\n",
    "print(\"Resposta (b):\", q + q0, \"mC\")\n",
    "i = 20*cos(10*t + np.pi/6)\n",
    "q = integrate(i,t)\n",
    "q0 = 2\n",
    "print(\"Resposta (c):\", q + q0, \"uC\")\n",
    "i = 10*exp(-30*t)*sin(40*t)\n",
    "q = integrate(i,t)\n",
    "q0 = 0\n",
    "print(\"Resposta (d):\", q + q0, \"C\")"
   ]
  },
  {
   "cell_type": "markdown",
   "metadata": {},
   "source": [
    "**1.4 Uma corrente de 7,4 A passa por um condutor. Calcule\n",
    "qual a carga que passa através de qualquer seção transversal desse condutor em 20 s.**"
   ]
  },
  {
   "cell_type": "code",
   "execution_count": 25,
   "metadata": {},
   "outputs": [
    {
     "name": "stdout",
     "output_type": "stream",
     "text": [
      "1.4\n",
      "Carga total é: 148.000000000000 C\n"
     ]
    }
   ],
   "source": [
    "print(\"1.4\")\n",
    "\n",
    "from sympy import *\n",
    "i = 7.4\n",
    "t = symbols('t')\n",
    "tf = 20\n",
    "q = integrate(i,(t,0,tf))\n",
    "print(\"Carga total é:\", q, \"C\")"
   ]
  },
  {
   "cell_type": "markdown",
   "metadata": {},
   "source": [
    "**1.5 Determine a carga total transferida ao longo do intervalo 0 <= t <= 10 s quando i(t) = 1/2t A.**"
   ]
  },
  {
   "cell_type": "code",
   "execution_count": 26,
   "metadata": {},
   "outputs": [
    {
     "name": "stdout",
     "output_type": "stream",
     "text": [
      "1.5\n",
      "Carga total é: 25.0000000000000 C\n"
     ]
    }
   ],
   "source": [
    "print(\"1.5\")\n",
    "from sympy import *\n",
    "t = symbols('t')\n",
    "i = (1/2)*t\n",
    "ti = 0 #tempo inicial\n",
    "tf = 10 #tempo final\n",
    "q = integrate(i,(t,ti,tf))\n",
    "print(\"Carga total é:\", q, \"C\")"
   ]
  },
  {
   "cell_type": "markdown",
   "metadata": {},
   "source": [
    "**1.6 A carga que entra em determinado elemento é mostrada na Figura 1.23. Determine a corrente em:**\n",
    "\n",
    "(a) t = 1ms\n",
    "\n",
    "(b) t = 6ms\n",
    "\n",
    "(c) t = 10ms\n",
    "\n",
    "![](http://i.imgur.com/t7B7AwE.png)"
   ]
  },
  {
   "cell_type": "code",
   "execution_count": 37,
   "metadata": {},
   "outputs": [
    {
     "name": "stdout",
     "output_type": "stream",
     "text": [
      "1.6\n",
      "Resposta (a): 15.0000000000000 mA\n",
      "Resposta (b): 0 mA\n",
      "Resposta (c): -7.50000000000000 mA\n"
     ]
    }
   ],
   "source": [
    "print(\"1.6\")\n",
    "from sympy import *\n",
    "t = symbols('t')\n",
    "qa = (30/2)*t #intervalo de 0ms a 2ms\n",
    "i = diff(qa,t)\n",
    "print(\"Resposta (a):\", i.subs(t,1), \"mA\")\n",
    "qb = 30 #intervalo de 2ms a 8ms\n",
    "i = diff(qb,t)\n",
    "print(\"Resposta (b):\", i.subs(t,6), \"mA\")\n",
    "qc = (-30/4)*t #intervalo de 8ms a 12ms\n",
    "i = diff(qc,t)\n",
    "print(\"Resposta (c):\", i.subs(t,10), \"mA\")"
   ]
  },
  {
   "cell_type": "markdown",
   "metadata": {},
   "source": [
    "**1.7 A carga que flui por um fio é representada na Figura 1.24. Represente a corrente correspondente.**\n",
    "\n",
    "![](http://i.imgur.com/aBMoQRV.png)"
   ]
  },
  {
   "cell_type": "code",
   "execution_count": 101,
   "metadata": {},
   "outputs": [
    {
     "name": "stdout",
     "output_type": "stream",
     "text": [
      "1.7\n"
     ]
    },
    {
     "data": {
      "image/png": "[encoded data removed]",
      "text/plain": [
       "<matplotlib.figure.Figure at 0x17fdd726710>"
      ]
     },
     "metadata": {},
     "output_type": "display_data"
    },
    {
     "data": {
      "image/png": "[encoded data removed]",
      "text/plain": [
       "<matplotlib.figure.Figure at 0x17fdd6bdcc0>"
      ]
     },
     "metadata": {},
     "output_type": "display_data"
    }
   ],
   "source": [
    "print(\"1.7\")\n",
    "import matplotlib.pyplot as plt\n",
    "from sympy import *\n",
    "from scipy import signal\n",
    "import numpy as np\n",
    "import matplotlib.pyplot as plt\n",
    "\n",
    "t = np.linspace(0, 8, 500)\n",
    "triangle = 50*signal.sawtooth(np.pi * 0.5 * t, 0.5)\n",
    "plt.plot(t, triangle)\n",
    "plt.xlabel('tempo(s)')\n",
    "plt.ylabel('carga(C)')\n",
    "plt.show()\n",
    "\n",
    "i = np.diff(triangle)\n",
    "t = np.linspace(0,8,499)\n",
    "plt.plot(t,i)\n",
    "plt.xlabel('tempo(s)')\n",
    "plt.ylabel('corrente(A)')\n",
    "plt.show()"
   ]
  },
  {
   "cell_type": "markdown",
   "metadata": {},
   "source": [
    "**1.8 A corrente que flui por um ponto em um dispositivo é mostrada na Figura 1.25. Calcule a carga total através do ponto.**\n",
    "\n",
    "![](http://i.imgur.com/9XoxhAb.png)"
   ]
  },
  {
   "cell_type": "code",
   "execution_count": 102,
   "metadata": {},
   "outputs": [
    {
     "name": "stdout",
     "output_type": "stream",
     "text": [
      "1.8\n",
      "Carga total: 15 mC\n"
     ]
    }
   ],
   "source": [
    "print(\"1.8\")\n",
    "from sympy import *\n",
    "\n",
    "t = symbols('t')\n",
    "i1 = 10*t\n",
    "q1 = integrate(i1,(t,0,1)) #carga do intervalo 0ms a 1ms\n",
    "i2 = 10\n",
    "q2 = integrate(i2,(t,1,2)) #carga do intervalo 1ms a 2msb\n",
    "print(\"Carga total:\", q1+q2, \"mC\")"
   ]
  },
  {
   "cell_type": "markdown",
   "metadata": {},
   "source": [
    "**1.9 A corrente através de um elemento é ilustrada na Figura 1.26. Determine a carga total que passa pelo elemento em:**\n",
    "\n",
    "(a) t = 1s\n",
    "\n",
    "(b) t = 3s\n",
    "\n",
    "(c) t = 5s\n",
    "\n",
    "![](http://i.imgur.com/FgRRRP1.png)"
   ]
  },
  {
   "cell_type": "code",
   "execution_count": 111,
   "metadata": {},
   "outputs": [
    {
     "name": "stdout",
     "output_type": "stream",
     "text": [
      "1.9\n",
      "Resposta (a): 10 C\n",
      "Resposta (b): 45/2 C\n",
      "Resposta (c): 30 C\n"
     ]
    }
   ],
   "source": [
    "print(\"1.9\")\n",
    "from sympy import *\n",
    "\n",
    "t = symbols('t')\n",
    "i1 = 10\n",
    "q1 = integrate(i1,(t,0,1))\n",
    "print(\"Resposta (a):\", q1, \"C\")\n",
    "i2 = 10 - 5*t\n",
    "q2 = integrate(i2,(t,0,1))\n",
    "i3 = 5\n",
    "q3 = integrate(i3,(t,0,1))\n",
    "print(\"Resposta (b):\", q1+q2+q3, \"C\")\n",
    "q3 = integrate(i3,(t,0,2))\n",
    "i4 = 5 - 5*t\n",
    "q4 = integrate(i4,(t,0,1))\n",
    "print(\"Resposta (c):\", q1+q2+q3+q4, \"C\")"
   ]
  },
  {
   "cell_type": "markdown",
   "metadata": {},
   "source": [
    "# Seções 1.4 e 1.5 Tensão, potência e energia"
   ]
  }
 ],
 "metadata": {
  "kernelspec": {
   "display_name": "Python 3",
   "language": "python",
   "name": "python3"
  },
  "language_info": {
   "codemirror_mode": {
    "name": "ipython",
    "version": 3
   },
   "file_extension": ".py",
   "mimetype": "text/x-python",
   "name": "python",
   "nbconvert_exporter": "python",
   "pygments_lexer": "ipython3",
   "version": "3.5.3"
  }
 },
 "nbformat": 4,
 "nbformat_minor": 2
}
