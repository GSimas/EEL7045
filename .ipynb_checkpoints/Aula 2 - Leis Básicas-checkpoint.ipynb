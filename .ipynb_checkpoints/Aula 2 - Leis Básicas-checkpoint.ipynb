{
 "cells": [
  {
   "cell_type": "markdown",
   "metadata": {},
   "source": [
    "# Aula 2 - Leis Básicas\n",
    "\n",
    "> \"*Existem muitas pessoas orando para que as montanhas de dificuldades sejam removidas,\n",
    "quando o que elas realmente precisam é de coragem para escalá-las*\"\n",
    "\n",
    "Autor desconhecido"
   ]
  },
  {
   "cell_type": "markdown",
   "metadata": {},
   "source": [
    "## Lei de Ohm\n",
    "\n",
    "Os materiais geralmente possuem um comportamento característico de resistir\n",
    "ao fluxo de carga elétrica. Essa propriedade física, ou habilidade, é\n",
    "conhecida como resistência e é representada pelo símbolo **R**. A resistência de\n",
    "qualquer material com uma área da seção transversal (**A**) uniforme depende\n",
    "de A e de seu comprimento **l**\n",
    "\n",
    "\\begin{align}\n",
    "R = \\rho \\frac{l}{A}\n",
    "\\end{align}\n",
    "\n",
    "![](http://i.imgur.com/QOOhd2A.png)\n",
    "\n",
    "onde ρ é conhecida como resistividade do material em ohms-metro. Bons condutores,\n",
    "como cobre e alumínio, possuem baixa resistividade, enquanto isolantes,\n",
    "como mica e papel, têm alta resistividade\n",
    "\n",
    "![](http://i.imgur.com/gH8g8eg.png)\n",
    "\n",
    "**A lei de Ohm afirma que a tensão v em um resistor é diretamente proporcional à corrente i através dele.**\n",
    "\n",
    "**A resistência R de um elemento representa sua capacidade de resistir ao fluxo de corrente elétrica; ela é medida em ohms (V).**\n",
    "\n",
    "\\begin{align}\n",
    "V = Ri\n",
    "\\end{align}\n",
    "\n",
    "\n",
    "## Curto-circuito\n",
    "\n",
    "Uma vez que o valor de **R** pode variar de zero a infinito, é importante considerarmos\n",
    "os dois possíveis valores extremos de R. Um elemento com R = 0 é denominado\n",
    "*curto-circuito*\n",
    "\n",
    "\\begin{align}\n",
    "V = iR = 0\n",
    "\\end{align}\n",
    "\n",
    "A corrente poderia assumir qualquer valor. Na prática, um curto-circuito em geral é um fio de conexão que é, supostamente,\n",
    "um condutor perfeito.\n",
    "\n",
    "**Curto-circuito é um elemento de circuito com resistência que se aproxima de zero.**\n",
    "\n",
    "## Circuito aberto\n",
    "\n",
    "De forma similar, um elemento com R = ∞ é conhecido como um circuito aberto\n",
    "\n",
    "\\begin{align}\n",
    "i = \\lim_{R\\rightarrow \\infty} \\frac{V}{R} = 0\n",
    "\\end{align}\n",
    "\n",
    "Isso indica que a corrente é zero, embora o valor da tensão possa ser qualquer um.\n",
    "\n",
    "**Circuito aberto é um elemento de circuito com resistência que se aproxima de infinito**\n",
    "\n",
    "A Figura a seguir apresenta (a) curto-circuito e (b) circuito aberto\n",
    "\n",
    "![](http://i.imgur.com/ZWmUGC8.png)\n",
    "\n",
    "## Resistores e Condutância\n",
    "\n",
    "Um resistor pode ser fixo ou variável, sendo que a maior parte é do tipo fixo, significando que sua resistência permanece constante. Os resistores variáveis têm resistência ajustável e um tipo comum é conhecido como **potenciômetro**, que é um elemento de três terminais com um contato deslizante ou cursor móvel. Deslizando-se o contato, a resistência entre o terminal do contato e os terminais fixos varia. Assim como os resistores fixos, os resistores variáveis podem ser de fio ou de compostos.\n",
    "\n",
    "As Figuras a seguir apresentam a simbologia e exemplo de potenciômetro:\n",
    "\n",
    "![](http://i.imgur.com/LU6pkG8.png)\n",
    "\n",
    "Uma medida útil em análise de circuitos é o inverso da resistência R, conhecida\n",
    "como **condutância**, uma medida que representa quanto um elemento\n",
    "conduz corrente elétrica, e representada por G:\n",
    "\n",
    "\\begin{align}\n",
    "G = \\frac{1}{R} = \\frac{i}{V}\n",
    "\\end{align}\n",
    "\n",
    "A unidade de condutância é o mho (ohm escrito ao contrário), com símbolo, ℧,  o ômega invertido. Embora os engenheiros muitas vezes usem o mho, preferimos utilizar o siemens (S), a unidade SI para condutância:\n",
    "\n",
    "\\begin{align}\n",
    "1 S = 1 ℧ = 1 A/V\n",
    "\\end{align}\n",
    "\n",
    "**Condutância é a capacidade de um elemento conduzir corrente elétrica; ela é medida em mho (V) ou siemens (S).**\n",
    "\n",
    "A mesma resistência pode ser expressa em ohms ou siemens. Por exemplo,\n",
    "10 V é o mesmo que 0,1 S\n",
    "\n",
    "\\begin{align}\n",
    "i = Gv\n",
    "\\end{align}\n",
    "\n",
    "A potência dissipada por um resistor pode ser expressa em termos de R. \n",
    "\n",
    "\\begin{align}\n",
    "p = vi = i^2R = \\frac{v^2}{R}\n",
    "\\end{align}\n",
    "\n",
    "A potência dissipada por um resistor também poderia ser expressa em termos\n",
    "de G como\n",
    "\n",
    "\\begin{align}\n",
    "p = vi = v^2G = \\frac{i^2}{G}\n",
    "\\end{align}\n",
    "\n",
    "**Observação:**\n",
    "\n",
    "**1. A potência dissipada em um resistor é uma função não linear da corrente ou tensão**\n",
    "\n",
    "**2. Já que R e G são quantidades positivas, a potência dissipada em um resistor é sempre positiva. Portanto, um resistor sempre absorve potência do circuito, confirmando a ideia de que é um elemento passivo, incapaz de gerar energia.**\n"
   ]
  },
  {
   "cell_type": "markdown",
   "metadata": {},
   "source": [
    "**Exemplo 2.1**\n",
    "\n",
    "Um ferro elétrico drena 2 A em uma tensão de 120 V. Determine a resistência"
   ]
  },
  {
   "cell_type": "code",
   "execution_count": 1,
   "metadata": {},
   "outputs": [
    {
     "name": "stdout",
     "output_type": "stream",
     "text": [
      "Exemplo 2.1\n",
      "Resposta é: 60.0 ohm\n"
     ]
    }
   ],
   "source": [
    "print(\"Exemplo 2.1\")\n",
    "i = 2 #valor da corrente em A\n",
    "V = 120 #valor da tensao em V\n",
    "R = V/i\n",
    "print(\"Resposta é:\", R, \"ohm\")"
   ]
  },
  {
   "cell_type": "markdown",
   "metadata": {},
   "source": [
    "**Problema Prático 2.1**\n",
    "\n",
    "O componente essencial de uma tostadeira é um elemento elétrico (um resistor) que\n",
    "converte energia elétrica em energia térmica. Quanta corrente é absorvida por uma\n",
    "torradeira com resistência 15 Ω a 110 V?"
   ]
  },
  {
   "cell_type": "code",
   "execution_count": 2,
   "metadata": {},
   "outputs": [
    {
     "name": "stdout",
     "output_type": "stream",
     "text": [
      "Problema Prático 2.1\n",
      "Resposta é: 7.333333333333333 A\n"
     ]
    }
   ],
   "source": [
    "print(\"Problema Prático 2.1\")\n",
    "R = 15 #resistencia em ohms\n",
    "V = 110 #tensao em V\n",
    "i = V/R\n",
    "print(\"Resposta é:\", i, \"A\")"
   ]
  },
  {
   "cell_type": "markdown",
   "metadata": {},
   "source": [
    "**Exemplo 2.2**\n",
    "\n",
    "No circuito elétrico mostrado na Figura 2.8, calcule a corrente i, a condutância G e a\n",
    "potência p.\n",
    "\n",
    "![](http://i.imgur.com/U2e3eUb.png)"
   ]
  },
  {
   "cell_type": "code",
   "execution_count": 4,
   "metadata": {},
   "outputs": [
    {
     "name": "stdout",
     "output_type": "stream",
     "text": [
      "Exemplo 2.2\n",
      "Corrente é: 0.006 A\n",
      "Condutância é: 0.0002 S\n",
      "Potência é: 0.18 W\n"
     ]
    }
   ],
   "source": [
    "print(\"Exemplo 2.2\")\n",
    "V = 30\n",
    "R = 5000\n",
    "G = 1/R\n",
    "i = V/R\n",
    "p = V*i\n",
    "print(\"Corrente é:\", i, \"A\")\n",
    "print(\"Condutância é:\", G, \"S\")\n",
    "print(\"Potência é:\", p, \"W\")b"
   ]
  },
  {
   "cell_type": "markdown",
   "metadata": {},
   "source": [
    "**Problema Prático 2.2**\n",
    "\n",
    "Para o circuito mostrado na Figura 2.9, calcule a tensão v, a condutância G e a potência p.\n",
    "\n",
    "![](http://i.imgur.com/DzhG74H.png)"
   ]
  },
  {
   "cell_type": "code",
   "execution_count": 5,
   "metadata": {},
   "outputs": [
    {
     "name": "stdout",
     "output_type": "stream",
     "text": [
      "Problema Prático 2.2\n",
      "Tensão é: 30.0 V\n",
      "Condutância é: 0.0001 S\n",
      "Potência é: 0.09 W\n"
     ]
    }
   ],
   "source": [
    "print(\"Problema Prático 2.2\")\n",
    "i = 0.003\n",
    "k = 1000\n",
    "R = 10*k\n",
    "v = R*i\n",
    "G = 1/R\n",
    "p = v*i\n",
    "print(\"Tensão é:\", v, \"V\")\n",
    "print(\"Condutância é:\", G, \"S\")\n",
    "print(\"Potência é:\", p, \"W\")"
   ]
  },
  {
   "cell_type": "markdown",
   "metadata": {},
   "source": [
    "**Exemplo 2.3**\n",
    "\n",
    "Uma fonte de tensão de 20 sen(pi t) V é conectada em um resistor de 5 kΩ. Determine a\n",
    "corrente que passa pelo resistor e a potência dissipada."
   ]
  },
  {
   "cell_type": "code",
   "execution_count": 8,
   "metadata": {},
   "outputs": [
    {
     "name": "stdout",
     "output_type": "stream",
     "text": [
      "Exemplo 2.3\n",
      "Corrente é: sin(3.14159265358979*t)/250 A\n"
     ]
    }
   ],
   "source": [
    "print(\"Exemplo 2.3\")\n",
    "import numpy as np\n",
    "from sympy import *\n",
    "\n",
    "t = symbols('t')\n",
    "v = 20*sin(np.pi*t)\n",
    "k = 1000\n",
    "R = 5*k\n",
    "i = v/R\n",
    "print(\"Corrente é:\",i,\"A\")"
   ]
  },
  {
   "cell_type": "markdown",
   "metadata": {},
   "source": [
    "**Problema Prático 2.3**\n",
    "\n",
    "Um resistor absorve uma potência instantânea de 30 cos^2(t) mW, quando conectado a\n",
    "uma fonte de tensão v = 15 cos(t) V. Determine i e R"
   ]
  },
  {
   "cell_type": "code",
   "execution_count": 15,
   "metadata": {},
   "outputs": [
    {
     "name": "stdout",
     "output_type": "stream",
     "text": [
      "Problema Prático 2.3\n",
      "Corrente é: 0.002*cos(t) A\n",
      "Resistência é: 7500.00000000000 ohm\n"
     ]
    }
   ],
   "source": [
    "print(\"Problema Prático 2.3\")\n",
    "from sympy import *\n",
    "\n",
    "t = symbols('t')\n",
    "mili = 10**(-3)\n",
    "p = 30*mili*cos(t)**2\n",
    "v = 15*cos(t)\n",
    "i = p/v\n",
    "R = v/i\n",
    "print(\"Corrente é:\", i, \"A\")\n",
    "print(\"Resistência é:\", R, \"ohm\")"
   ]
  },
  {
   "cell_type": "markdown",
   "metadata": {},
   "source": [
    "## Nós, ramos e laços\n",
    "\n",
    "**Ramo representa um elemento único como fonte de tensão ou resistor**\n",
    "\n",
    "Em outras palavras, um ramo representa qualquer elemento de dois terminais.\n",
    "O circuito da Figura 2.10 tem cinco ramos, como: a fonte de tensão de 10 V, a\n",
    "fonte de corrente de 2 A e os três resistores.\n",
    "\n",
    "**Nó é o ponto de conexão entre dois ou mais ramos**\n",
    "\n",
    "Em um circuito, um nó é normalmente indicado por um ponto. Se um\n",
    "curto-circuito (um fio de conexão) conecta dois nós, estes constituem um\n",
    "único nó, e o circuito da Figura 2.10 possui três nós: a, b e c. Observe que\n",
    "os três pontos que formam o nó b são conectados por fios perfeitamente\n",
    "condutores e, portanto, compõem um único ponto\n",
    "\n",
    "![](http://i.imgur.com/mGQygC8.png)\n",
    "\n",
    "**Laço é qualquer caminho fechado em um circuito.**\n",
    "\n",
    "Laço é um caminho fechado formado iniciando-se em um nó, passando por\n",
    "uma série de nós e retornando ao nó de partida sem passar por qualquer outro\n",
    "mais de uma vez. Diz-se que um laço é independente se ele contiver pelo\n",
    "menos um ramo que não faça parte de qualquer outro laço independente.\n",
    "Os laços, ou caminhos independentes, resultam em conjuntos de equações\n",
    "independentes.\n",
    "\n",
    "Uma rede com b ramos, n nós e l laços independentes vão satisfazer o\n",
    "teorema fundamental da topologia de rede:\n",
    "\n",
    "\\begin{align}\n",
    "b = l + n - 1\n",
    "\\end{align}\n",
    "\n",
    "**Dois ou mais elementos estão em série se eles compartilharem exclusivamente\n",
    "um único nó e, consequentemente, transportarem a mesma\n",
    "corrente.**\n",
    "\n",
    "**Dois ou mais elementos estão em paralelo se eles estiverem conectados\n",
    "aos mesmos dois nós e, consequentemente, tiverem a mesma tensão entre\n",
    "eles.**"
   ]
  },
  {
   "cell_type": "markdown",
   "metadata": {},
   "source": [
    "**Exemplo 2.4**\n",
    "\n",
    "Determine o número de ramos e nós no circuito mostrado na Figura 2.12. Identifique\n",
    "quais elementos estão em série e quais estão em paralelo.\n",
    "\n",
    "**Solução:** *Existem quatro elementos no circuito, que tem quatro ramos: 10 V, 5 V, 6 V\n",
    "e 2 A. O circuito tem três nós conforme identificado na Figura 2.13. O resistor de 5 V\n",
    "está em série com a fonte de tensão de 10 V, pois a mesma corrente fluiria em ambos.\n",
    "O resistor de 6 V está em paralelo com a fonte de corrente de 2 A, já que ambos estão\n",
    "conectados aos mesmos nós 2 e 3.*\n",
    "\n",
    "![](http://i.imgur.com/Bl6bSW1.png)"
   ]
  },
  {
   "cell_type": "markdown",
   "metadata": {},
   "source": [
    "**Problema Prático 2.4**\n",
    "\n",
    "Quantos ramos e nós o circuito da Figura 2.14 tem? Identifique os elementos que estão em série e em paralelo.\n",
    "\n",
    "**Resposta:** *Podemos identificar cinco ramos e três nós na Figura 2.15. Os resistores\n",
    "de 1V e 2 V estão em paralelo, assim como resistor de 4 V e a fonte de 10 V.*\n",
    "\n",
    "![](http://i.imgur.com/OZXvE1G.png)"
   ]
  },
  {
   "cell_type": "markdown",
   "metadata": {},
   "source": [
    "## Leis de Kirchhoff\n",
    "\n",
    "**A lei de Kirchhoff para corrente (LKC) diz que a soma algébrica das correntes\n",
    "que entram em um nó (ou um limite fechado) é zero.**\n",
    "\n",
    "\\begin{align}\n",
    "\\sum_{n=1}^{N} i_n = 0\n",
    "\\end{align}\n",
    "\n",
    "Ou seja **A soma das correntes que entram em um nó é igual à soma das correntes\n",
    "que saem desse nó.**\n",
    "\n",
    "Pela Figura 2.16: i1 + i3 + i4 = i2 + i5\n",
    "\n",
    "![](http://i.imgur.com/KQ3Kj7Q.png)\n",
    "\n",
    "**A lei de Kirchhoff para tensão (LKT) diz que a soma algébrica de todas as\n",
    "tensões em torno de um caminho fechado (ou laço) é zero.**\n",
    "\n",
    "\\begin{align}\n",
    "\\sum_{m=1}^{M} v_m = 0\n",
    "\\end{align}\n",
    "\n",
    "**A soma das quedas de tensão é igual à soma das elevações de tensão**\n",
    "\n",
    "Pela Figura 2.19: v2 + v3 + v5 = v1 + v4\n",
    "\n",
    "![](http://i.imgur.com/lcrj3XD.png)"
   ]
  },
  {
   "cell_type": "markdown",
   "metadata": {},
   "source": [
    "**Exemplo 2.5**\n",
    "\n",
    "Para o circuito da Figura 2.21a, determine as tensões v1 e v2.\n",
    "\n",
    "![](http://i.imgur.com/HIIc758.png)"
   ]
  },
  {
   "cell_type": "code",
   "execution_count": 1,
   "metadata": {},
   "outputs": [
    {
     "name": "stdout",
     "output_type": "stream",
     "text": [
      "Exemplo 2.5\n",
      "Tensão v1: 8.0 V\n",
      "Tensão v2: 12.0 V\n"
     ]
    }
   ],
   "source": [
    "print(\"Exemplo 2.5\")\n",
    "Vfonte = 20\n",
    "R1 = 2\n",
    "R2 = 3\n",
    "#-20V + 2*i + 3*i = 0\n",
    "i = Vfonte/(R1+R2)\n",
    "v1 = R1*i\n",
    "v2 = R2*i\n",
    "print(\"Tensão v1:\",v1,\"V\")\n",
    "print(\"Tensão v2:\",v2,\"V\")"
   ]
  },
  {
   "cell_type": "markdown",
   "metadata": {},
   "source": [
    "**Problema Prático 2.5**\n",
    "\n",
    "Determine v1 e v2 no circuito da Figura 2.22.\n",
    "\n",
    "![](http://i.imgur.com/OHajHiR.png)"
   ]
  },
  {
   "cell_type": "code",
   "execution_count": 8,
   "metadata": {},
   "outputs": [
    {
     "name": "stdout",
     "output_type": "stream",
     "text": [
      "Problema Prático 2.5\n",
      "Tensão v1: 16.0 V\n",
      "Tensão v2: -8.0 V\n"
     ]
    }
   ],
   "source": [
    "print(\"Problema Prático 2.5\")\n",
    "Vfonte1 = 32\n",
    "Vfonte2 = -8\n",
    "R1 = 4\n",
    "R2 = 2\n",
    "#-32 + 4*i +8 + 2*i = 0\n",
    "i = (Vfonte1 + Vfonte2)/(R1+R2)\n",
    "v1 = R1*i\n",
    "v2 = -R2*i\n",
    "print(\"Tensão v1:\",v1,\"V\")\n",
    "print(\"Tensão v2:\",v2,\"V\")"
   ]
  },
  {
   "cell_type": "markdown",
   "metadata": {},
   "source": [
    "** Exemplo 2.6**\n",
    "\n",
    "Determine v0 e i no circuito mostrado na Figura 2.23a.\n",
    "\n",
    "![](http://i.imgur.com/syewZSv.png)"
   ]
  },
  {
   "cell_type": "code",
   "execution_count": 44,
   "metadata": {},
   "outputs": [
    {
     "name": "stdout",
     "output_type": "stream",
     "text": [
      "Exemplo 2.6\n",
      "Resposta: 48.0 V\n"
     ]
    }
   ],
   "source": [
    "print(\"Exemplo 2.6\")\n",
    "Vt1 = 12\n",
    "R1 = 4\n",
    "Vt2 = 4\n",
    "R2 = 6\n",
    "FTCT = -2*R2 #2*v0*i, porem, v0 = R2*i = 6*i, para o calculo foi suprimido \"i\"\n",
    "#-12 + 4*i -2*6*i - 4 + 6*i = 0\n",
    "i =(Vt1 + Vt2)/(R1 + R2 + FTCT)\n",
    "v0 = -R2*i\n",
    "print(\"Resposta:\",v0,\"V\")"
   ]
  },
  {
   "cell_type": "markdown",
   "metadata": {},
   "source": [
    "**Problema Prático 2.6**\n",
    "\n",
    "Determine vx e v0 no circuito da Figura 2.24\n",
    "\n",
    "![](http://i.imgur.com/XYW0wZM.png)"
   ]
  },
  {
   "cell_type": "code",
   "execution_count": 45,
   "metadata": {},
   "outputs": [
    {
     "name": "stdout",
     "output_type": "stream",
     "text": [
      "Problema Prático 2.6\n",
      "Tensão vx: 20.0 V\n",
      "Tensão v0: -10.0 V\n"
     ]
    }
   ],
   "source": [
    "print(\"Problema Prático 2.6\")\n",
    "Vf = 70\n",
    "R1 = 10\n",
    "R2 = 5\n",
    "FTCT = 2*R1\n",
    "#-70 + 10*i + 2*10*i + 5*i = 0\n",
    "i = (Vf)/(R1 + R2 + FTCT)\n",
    "v0 = -R2*i\n",
    "vx = R1*i\n",
    "print(\"Tensão vx:\",vx,\"V\")\n",
    "print(\"Tensão v0:\",v0,\"V\")"
   ]
  },
  {
   "cell_type": "markdown",
   "metadata": {},
   "source": [
    "**Exemplo 2.7**\n",
    "\n",
    "Determine a corrente i0 e a tensão v0 no circuito apresentado na Figura 2.25.\n",
    "\n",
    "![](http://i.imgur.com/qgrLVBM.png)"
   ]
  },
  {
   "cell_type": "code",
   "execution_count": 51,
   "metadata": {},
   "outputs": [
    {
     "name": "stdout",
     "output_type": "stream",
     "text": [
      "Exemplo 2.7\n",
      "Corrente i0: 6.0 A\n",
      "Tensão v0: 24.0 V\n"
     ]
    }
   ],
   "source": [
    "print(\"Exemplo 2.7\")\n",
    "C1 = 3 #fonte de corrente\n",
    "R1 = 4\n",
    "#0.5*i0 - i0 + 3 = 0\n",
    "i0 = -C1/-0.5\n",
    "v0 = R1*i0\n",
    "FCCC = 0.5*v0/R1\n",
    "print(\"Corrente i0:\",i0,\"A\")\n",
    "print(\"Tensão v0:\",v0,\"V\")"
   ]
  },
  {
   "cell_type": "markdown",
   "metadata": {},
   "source": [
    "**Problema Prático 2.6**\n",
    "\n",
    "Determine v0 e i0 no circuito da Figura 2.26\n",
    "\n",
    "![](http://i.imgur.com/6bBJ2ZL.png)"
   ]
  },
  {
   "cell_type": "code",
   "execution_count": 52,
   "metadata": {},
   "outputs": [
    {
     "name": "stdout",
     "output_type": "stream",
     "text": [
      "Problema Prático 2.7\n",
      "Corrente i0: 6.0 A\n",
      "Tensão v0: 12.0 V\n"
     ]
    }
   ],
   "source": [
    "print(\"Problema Prático 2.7\")\n",
    "C1 = 9\n",
    "R1 = 2\n",
    "R2 = 8\n",
    "FCCC = 1/4 #i0/4, o i0 foi suprimido para calculo\n",
    "#v0 = R1*i0, pois o resistor R1 esta sob o mesmo potencial do resistor R2\n",
    "#i2 = v0/R2 = v0/8 = R1*i0/8 = i0/4, corrente que passa pelo resistor R2\n",
    "#9 - i0 - i0/4 - i0/4 = 0\n",
    "i0 = C1/(3/2)\n",
    "v0 = R1*i0 #o que é igual a R2*i2\n",
    "print(\"Corrente i0:\",i0,\"A\")\n",
    "print(\"Tensão v0:\",v0,\"V\")"
   ]
  },
  {
   "cell_type": "markdown",
   "metadata": {},
   "source": [
    "**Exemplo 2.8**\n",
    "\n",
    "Determine as correntes e tensões no circuito mostrado na Figura 2.27a\n",
    "\n",
    "![](http://i.imgur.com/5gljJFA.png)"
   ]
  },
  {
   "cell_type": "code",
   "execution_count": 55,
   "metadata": {},
   "outputs": [
    {
     "name": "stdout",
     "output_type": "stream",
     "text": [
      "Exemplo 2.8\n",
      "Corrente i1: 3.0 A\n",
      "Corrente i2: 2.0 A\n",
      "Corrente i3: 1.0 A\n",
      "Tensão v1: 24.0 V\n",
      "Tensão v2 6.0 V\n",
      "Tensão v3 6.0 V\n"
     ]
    }
   ],
   "source": [
    "print(\"Exemplo 2.8\")\n",
    "V = 30\n",
    "R1 = 8\n",
    "R2 = 3\n",
    "R3 = 6\n",
    "#-30 + 8*i1 + 3*i2 = 0\n",
    "#i1 = i2 + i3\n",
    "#R2*i2 = R3*i3 => 3*i2 = 6*i3 => i3 = i2/2\n",
    "#-30 + 8*(i2 + i2/2) + 3*i2 = 0\n",
    "i2 = V/15\n",
    "i3 = i2/2\n",
    "i1 = i3 + i2\n",
    "v1 = R1*i1\n",
    "v2 = R2*i2\n",
    "v3 = R3*i3\n",
    "print(\"Corrente i1:\", i1, \"A\")\n",
    "print(\"Corrente i2:\", i2, \"A\")\n",
    "print(\"Corrente i3:\", i3, \"A\")\n",
    "print(\"Tensão v1:\",v1,\"V\")\n",
    "print(\"Tensão v2\",v2,\"V\")\n",
    "print(\"Tensão v3\",v3,\"V\")"
   ]
  },
  {
   "cell_type": "markdown",
   "metadata": {},
   "source": [
    "**Problema Prático 2.8**\n",
    "\n",
    "Determine as correntes e tensões no circuito apresentado na Figura 2.28\n",
    "\n",
    "![](http://i.imgur.com/wdtJWwE.png)"
   ]
  },
  {
   "cell_type": "code",
   "execution_count": 62,
   "metadata": {},
   "outputs": [
    {
     "name": "stdout",
     "output_type": "stream",
     "text": [
      "Problema Prático 2.8\n",
      "Corrente i1: 3.0 A\n",
      "Corrente i2: 0.5 A\n",
      "Corrente i3: 2.5 A\n",
      "Tensão v1: 6.0 V\n",
      "Tensão v2 4.0 V\n",
      "Tensão v3 10.0 V\n"
     ]
    }
   ],
   "source": [
    "print(\"Problema Prático 2.8\")\n",
    "V1 = 10\n",
    "R1 = 2\n",
    "R2 = 8\n",
    "R3 = 4\n",
    "V2 = -6\n",
    "#-10 + 2*i1 + 8*i2 = 0 => i1 = 5 - 4*i2\n",
    "#-6 -8*i2 + 4*i3 = 0 => i3 = 3/2 + 2*i2\n",
    "#i1 = i2 + i3 => 5 - 4*i2 = i2 + 3/2 + 2*i2 (Eq 1)\n",
    "#-10 + 2*i1 + 4*i3 - 6 = 0\n",
    "i2 = (7/2)/7 #da Eq 1\n",
    "i3 = 3/2 + 2*i2\n",
    "i1 = i2 + i3\n",
    "v1 = R1*i1\n",
    "v2 = R2*i2\n",
    "v3 = R3*i3\n",
    "print(\"Corrente i1:\", i1, \"A\")\n",
    "print(\"Corrente i2:\", i2, \"A\")\n",
    "print(\"Corrente i3:\", i3, \"A\")\n",
    "print(\"Tensão v1:\",v1,\"V\")\n",
    "print(\"Tensão v2\",v2,\"V\")\n",
    "print(\"Tensão v3\",v3,\"V\")"
   ]
  },
  {
   "cell_type": "markdown",
   "metadata": {},
   "source": [
    "## Resistores em Série e Divisor de Tensão\n",
    "\n",
    "Tendo isso em mente, considere o circuito\n",
    "com um único laço da Figura 2.29 e veja que ambos os resistores estão em\n",
    "série, já que a mesma corrente i flui em ambos. Aplicando a lei de Ohm a cada\n",
    "um dos resistores, obtemos\n",
    "\n",
    "\\begin{align}\n",
    "v_1 = iR_1\n",
    "\\\\v_2 = iR_2\n",
    "\\end{align}\n",
    "\n",
    "Sendo assim:\n",
    "\n",
    "\\begin{align}\n",
    "i = \\frac{v}{R_1 + R_2}\n",
    "\\end{align}\n",
    "\n",
    "podendo ser reescrita como:\n",
    "\n",
    "\\begin{align}\n",
    "v = iReq\n",
    "\\end{align}\n",
    "\n",
    "![](http://i.imgur.com/ORRdEF6.png)\n",
    "\n",
    "**A resistência equivalente de qualquer número de resistores ligados em\n",
    "série é a soma das resistências individuais.**\n",
    "\n",
    "**Resistores em série se comportam\n",
    "como um único resistor cuja\n",
    "resistência é igual à soma\n",
    "das resistências dos resistores\n",
    "individuais.**\n",
    "\n",
    "\\begin{align}\n",
    "Req = R_1 + R_2 + ... + R_N = \\sum_{n=1}^{N} R_n\n",
    "\\end{align}\n",
    "\n",
    "Note que a tensão da fonte v é dividida entre os resistores na proporção direta\n",
    "de suas resistências; quanto maior for a resistência, maior a queda de tensão.\n",
    "Isso é chamado princípio da divisão de tensão e o circuito na Figura 2.29 é\n",
    "denominado divisor de tensão\n",
    "\n",
    "\\begin{align}\n",
    "v_1 = \\frac{R_1}{R_1 + R_2} v\n",
    "\\\\\n",
    "\\\\v_2 = \\frac{R_2}{R_1 + R_2} v\n",
    "\\\\\n",
    "\\\\v_n = \\frac{R_n}{\\sum_{j=1}^{N} R_j} v\n",
    "\\end{align}"
   ]
  },
  {
   "cell_type": "markdown",
   "metadata": {},
   "source": [
    "## Resistores em Paralelo e Divisão de Corrente\n",
    "\n",
    "\n",
    "Consideremos o circuito da Figura 2.31, em que dois resistores estão conectados\n",
    "em paralelo e, portanto, possuem a mesma queda de tensão entre eles. Da\n",
    "lei de Ohm\n",
    "\n",
    "\\begin{align}\n",
    "v = i_1R_1 = i_2R_2\n",
    "\\end{align}\n",
    "\n",
    "Aplicando a LKC em um nó a obtemos a corrente total i, conforme indicado\n",
    "a seguir:\n",
    "\n",
    "\\begin{align}\n",
    "i = i_1 + i_2 = \\frac{v}{R_1} + \\frac{v}{R_2} = \\frac{v}{Req}\n",
    "\\end{align}\n",
    "\n",
    "onde Req é a resistência equivalente dos resistores em paralelo:\n",
    "\n",
    "\\begin{align}\n",
    "\\frac{1}{Req} = \\frac{1}{R_1} + \\frac{1}{R_2}\n",
    "\\end{align}\n",
    "\n",
    "\\begin{align}\n",
    "\\frac{1}{Req} = \\frac{1}{R_1} + \\frac{1}{R_2} + ... + \\frac{1}{R_N}\n",
    "\\end{align}\n",
    "\n",
    "\\begin{align}\n",
    "Req = (\\sum_{n=1}^{N} R_n^{-1})^{-1}\n",
    "\\end{align}\n",
    "\n",
    "\n",
    "![](http://i.imgur.com/vQunyA7.png)\n",
    "\n",
    "Porém para dois resistores podemos fazer:\n",
    "\n",
    "\\begin{align}\n",
    "Req = \\frac{R_1R_2}{R_1 + R_2}\n",
    "\\end{align}\n",
    "\n",
    "**A resistência equivalente de dois resistores em paralelo é igual ao produto\n",
    "de suas resistências dividido pela sua soma.**\n",
    "\n",
    "Observe que Req ***é sempre menor que a resistência do menor resistor na associação\n",
    "em paralelo. Se R1 = R2 = ... = RN = R***, então\n",
    "\n",
    "\\begin{align}\n",
    "Req = \\frac{R}{N}\n",
    "\\end{align}\n",
    "\n",
    "Normalmente é mais conveniente usar condutância em vez de resistência\n",
    "ao lidar com resistores em paralelo. As condutâncias em paralelo\n",
    "se comportam como uma\n",
    "única condutância cujo valor é\n",
    "igual à soma das condutâncias\n",
    "individuais.\n",
    "\n",
    "**A condutância equivalente de resistores conectados em paralelo é a soma\n",
    "de suas condutâncias individuais.**\n",
    "\n",
    "\\begin{align}\n",
    "Geq = G_1 + G_2 + ... + G_N\n",
    "\\end{align}\n",
    "\n",
    "**O inverso da condutância equivalente de resistores conectados em série é a soma\n",
    "do inverso de suas condutâncias individuais.**\n",
    "\n",
    "\\begin{align}\n",
    "\\frac{1}{Geq} = \\frac{1}{G_1} + \\frac{1}{G_2} + ... + \\frac{1}{G_N}\n",
    "\\end{align}\n",
    "\n",
    "A corrente total i é compartilhada pelos resistores na proporção\n",
    "inversa de suas resistências. Isso é conhecido como princípio da divisão de\n",
    "corrente e o circuito da Figura 2.31 é conhecido como divisor de corrente.\n",
    "Perceba que a maior corrente flui pela menor resistência\n",
    "\n",
    "\\begin{align}\n",
    "i_1 = \\frac{R_2}{R_1 + R_2} i\n",
    "\\\\\n",
    "\\\\i_2 = \\frac{R_1}{R_1 + R_2} i\n",
    "\\end{align}\n",
    "\n",
    "![](http://i.imgur.com/eVA9XLY.png)\n",
    "\n",
    "Caso seja trabalho com condutâncias, utilizamos:\n",
    "\n",
    "\\begin{align}\n",
    "i_1 = \\frac{G_1}{G_1 + G_2} i\n",
    "\\\\\n",
    "\\\\i_2 = \\frac{G_2}{G_1 + G_2} i\n",
    "\\end{align}"
   ]
  },
  {
   "cell_type": "markdown",
   "metadata": {},
   "source": [
    "**Exemplo 2.9**\n",
    "\n",
    "Determine a Req para o circuito mostrado na Figura 2.34.\n",
    "\n",
    "![](http://i.imgur.com/IrguUj8.png)"
   ]
  },
  {
   "cell_type": "code",
   "execution_count": 1,
   "metadata": {},
   "outputs": [
    {
     "name": "stdout",
     "output_type": "stream",
     "text": [
      "Exemplo 2.9\n",
      "Req é: 14.4 ohm\n"
     ]
    }
   ],
   "source": [
    "print(\"Exemplo 2.9\")\n",
    "\n",
    "def Req(x,y): # funcao que calcula resistencia equivalente em paralelo entre x e y\n",
    "    r = (x*y)/(x+y)\n",
    "    return r\n",
    "\n",
    "R1 = 4\n",
    "R2 = 2\n",
    "R3 = 1\n",
    "R4 = 5\n",
    "R5 = 6\n",
    "R6 = 3\n",
    "R7 = 8\n",
    "Req1 = Req(R5,R6)\n",
    "Req2 = Req1 + R2\n",
    "Req3 = R3 + R4\n",
    "Req4 = Req(Req3,Req2)\n",
    "Reqf = Req4 + R1 + R7\n",
    "print(\"Req é:\", Reqf, \"ohm\")"
   ]
  },
  {
   "cell_type": "markdown",
   "metadata": {},
   "source": [
    "** Problema Prático 2.9**\n",
    "\n",
    "Associando os resistores da Figura 2.36, determine Req.\n",
    "\n",
    "![](http://i.imgur.com/MHvPhmb.png)"
   ]
  },
  {
   "cell_type": "code",
   "execution_count": 2,
   "metadata": {},
   "outputs": [
    {
     "name": "stdout",
     "output_type": "stream",
     "text": [
      "Problema Prático 2.9\n",
      "Req é: 10.0 ohm\n"
     ]
    }
   ],
   "source": [
    "print(\"Problema Prático 2.9\")\n",
    "Req1 = 3 + 5 + 4 #req em serie de resistores da direita para esquerda\n",
    "Req2 = Req(Req1, 4)\n",
    "Req3 = 3 + Req2\n",
    "Req4 = Req(Req3,6)\n",
    "Reqf = 4 + Req4 + 3\n",
    "print(\"Req é:\",Reqf,\"ohm\")"
   ]
  },
  {
   "cell_type": "markdown",
   "metadata": {},
   "source": [
    "**Exemplo 2.10**\n",
    "\n",
    "Calcule a resistência equivalente Rab no circuito da Figura 2.37.\n",
    "\n",
    "![](http://i.imgur.com/yMVZbiW.png)"
   ]
  },
  {
   "cell_type": "code",
   "execution_count": 3,
   "metadata": {},
   "outputs": [
    {
     "name": "stdout",
     "output_type": "stream",
     "text": [
      "Exemplo 2.10\n",
      "Req é: 11.2 ohm\n"
     ]
    }
   ],
   "source": [
    "print(\"Exemplo 2.10\")\n",
    "Req1 = 1 + 5 #req entre resistores da direita para esquerda\n",
    "Req2 = 1/(1/Req1 + 1/12 + 1/4)\n",
    "Req3 = Req2 + 1\n",
    "Req4 = 1/(1/Req3 + 1/6 + 1/3)\n",
    "Reqf = Req4 + 10\n",
    "print(\"Req é:\",Reqf,\"ohm\")"
   ]
  },
  {
   "attachments": {
    "image.png": {
     "image/png": "[encoded data removed]"
    }
   },
   "cell_type": "markdown",
   "metadata": {},
   "source": [
    "**Problema Prático 2.10**\n",
    "\n",
    "Determine Rab para o circuito da Figura 2.39.\n",
    "\n",
    "![image.png](attachment:image.png)"
   ]
  },
  {
   "cell_type": "code",
   "execution_count": 4,
   "metadata": {},
   "outputs": [
    {
     "name": "stdout",
     "output_type": "stream",
     "text": [
      "Problema Prático 2.10\n",
      "Req é: 19.0 ohm\n"
     ]
    }
   ],
   "source": [
    "print(\"Problema Prático 2.10\")\n",
    "Req1 = Req(20,5)\n",
    "Req2 = Req1 + 1\n",
    "Req3 = Req(Req2,20)\n",
    "Req4 = Req3 + 2\n",
    "Req5 = 1/(1/Req4 + 1/9 + 1/18)\n",
    "Reqf = Req5 + 16\n",
    "print(\"Req é:\",Reqf,\"ohm\")"
   ]
  },
  {
   "attachments": {
    "image.png": {
     "image/png": "[encoded data removed]"
    }
   },
   "cell_type": "markdown",
   "metadata": {},
   "source": [
    "**Exemplo 2.11**\n",
    "\n",
    "Determine a condutância equivalente Geq para o circuito da Figura 2.40a.\n",
    "\n",
    "![image.png](attachment:image.png)"
   ]
  },
  {
   "cell_type": "code",
   "execution_count": 5,
   "metadata": {},
   "outputs": [
    {
     "name": "stdout",
     "output_type": "stream",
     "text": [
      "Exemplo 2.11\n",
      "Geq é: 10.0 S\n"
     ]
    }
   ],
   "source": [
    "print(\"Exemplo 2.11\")\n",
    "Geq1 = 8 + 12 #condutancias em paralelo se somam\n",
    "Geq2 = Req(Geq1,5) #o calculo de condutancias em serie é equivalente ao calculo de resistencias em paralelo\n",
    "Geqf = Geq2 + 6\n",
    "print(\"Geq é:\",Geqf,\"S\")"
   ]
  },
  {
   "attachments": {
    "image.png": {
     "image/png": "[encoded data removed]"
    }
   },
   "cell_type": "markdown",
   "metadata": {},
   "source": [
    "**Problema Prático 2.11**\n",
    "\n",
    "Calcule Geq no circuito da Figura 2.41.\n",
    "\n",
    "![image.png](attachment:image.png)"
   ]
  },
  {
   "cell_type": "code",
   "execution_count": 6,
   "metadata": {},
   "outputs": [
    {
     "name": "stdout",
     "output_type": "stream",
     "text": [
      "Problema Prático 2.11\n",
      "Geq é: 4.0 S\n"
     ]
    }
   ],
   "source": [
    "print(\"Problema Prático 2.11\")\n",
    "Geq1 = Req(6,12)\n",
    "Geq2 = 8 + 4\n",
    "Geq3 = Geq1 + 2\n",
    "Geqf = Req(Geq2,Geq3)\n",
    "print(\"Geq é:\", Geqf,\"S\")"
   ]
  },
  {
   "attachments": {
    "image.png": {
     "image/png": "[encoded data removed]"
    }
   },
   "cell_type": "markdown",
   "metadata": {},
   "source": [
    "**Exemplo 2.12**\n",
    "\n",
    "Determine io e vo no circuito mostrado na Figura 2.42a. Calcule a potência dissipada\n",
    "no resistor de 3 V.\n",
    "\n",
    "![image.png](attachment:image.png)"
   ]
  },
  {
   "cell_type": "code",
   "execution_count": 7,
   "metadata": {},
   "outputs": [
    {
     "name": "stdout",
     "output_type": "stream",
     "text": [
      "Exemplo 2.12\n",
      "i0: 1.3333333333333333 A\n",
      "v0: 4.0 V\n",
      "potencia: 5.333333333333333 W\n"
     ]
    }
   ],
   "source": [
    "print(\"Exemplo 2.12\")\n",
    "V = 12\n",
    "R1 = 4\n",
    "R2 = 6\n",
    "R3 = 3\n",
    "Req1 = Req(R2,R3)\n",
    "Reqf = Req1 + R1\n",
    "i = V/Reqf\n",
    "i0 = i*R2/(R3+R2) #divisor de corrente\n",
    "v0 = R3 * i0\n",
    "p = v0*i0\n",
    "print(\"i0:\",i0,\"A\")\n",
    "print(\"v0:\",v0,\"V\")\n",
    "print(\"potencia:\",p,\"W\")"
   ]
  },
  {
   "attachments": {
    "image.png": {
     "image/png": "[encoded data removed]"
    }
   },
   "cell_type": "markdown",
   "metadata": {},
   "source": [
    "**Problema Prático 2.12**\n",
    "\n",
    "Determine v1 e v2 no circuito mostrado na Figura 2.43. Calcule também i1 e i2 e a potência dissipada nos resistores de 12 V e 40 V.\n",
    "\n",
    "![image.png](attachment:image.png)"
   ]
  },
  {
   "cell_type": "code",
   "execution_count": 8,
   "metadata": {},
   "outputs": [
    {
     "name": "stdout",
     "output_type": "stream",
     "text": [
      "Problema Prático 2.12\n",
      "i1: 0.8333333333333334 A\n",
      "v1: 10.0 V\n",
      "p1 8.333333333333334 W\n",
      "i2: 0.5 A\n",
      "v2: 20.0 V\n",
      "p2 10.0 W\n"
     ]
    }
   ],
   "source": [
    "print(\"Problema Prático 2.12\")\n",
    "V = 30\n",
    "R1 = 12\n",
    "R2 = 6\n",
    "R3 = 10\n",
    "R4 = 40\n",
    "Req1 = Req(R3,R4)\n",
    "Req2 = Req(R1,R2)\n",
    "Reqf= Req1 + Req2\n",
    "i = V/Reqf\n",
    "i1 = i*R2/(R1+R2)\n",
    "v1 = R1*i1\n",
    "p1 = v1*i1\n",
    "i2 = i*R3/(R3+R4)\n",
    "v2 = R4*i2\n",
    "p2 = v2*i2\n",
    "print(\"i1:\",i1,\"A\")\n",
    "print(\"v1:\",v1,\"V\")\n",
    "print(\"p1\",p1,\"W\")\n",
    "print(\"i2:\",i2,\"A\")\n",
    "print(\"v2:\",v2,\"V\")\n",
    "print(\"p2\",p2,\"W\")"
   ]
  },
  {
   "attachments": {
    "image.png": {
     "image/png": "[encoded data removed]"
    }
   },
   "cell_type": "markdown",
   "metadata": {},
   "source": [
    "**Exemplo 2.13**\n",
    "\n",
    "Para o circuito mostrado na Figura 2.44a, determine: (a) tensão vo; (b) potência fornecida\n",
    "pela fonte de corrente; (c) potência absorvida por cada resistor.\n",
    "\n",
    "![image.png](attachment:image.png)"
   ]
  },
  {
   "cell_type": "code",
   "execution_count": 10,
   "metadata": {},
   "outputs": [
    {
     "name": "stdout",
     "output_type": "stream",
     "text": [
      "Exemplo 2.13\n",
      "v0: 180.0 V\n",
      "p1: 3.6 W\n",
      "p2: 0.5999999999999998 W\n",
      "p3: 1.1999999999999995 W\n",
      "Potencia total: 5.3999999999999995 W\n"
     ]
    }
   ],
   "source": [
    "print(\"Exemplo 2.13\")\n",
    "m = 0.001 #mili\n",
    "k = 1000 #quilo\n",
    "Cs = 30*m #Cs de current source = fonte de corrente\n",
    "R1 = 9*k\n",
    "R2 = 6*k\n",
    "R3 = 12*k\n",
    "Req1 = R2+R3\n",
    "i1 = Cs*Req1/(Req1 + R1)\n",
    "v0 = R1*i1\n",
    "p1 = v0*i1\n",
    "i2 = Cs - i1\n",
    "p2 = R2*i2**2\n",
    "p3 = R3*i2**2\n",
    "pt = p1+p2+p3\n",
    "print(\"v0:\",v0,\"V\")\n",
    "print(\"p1:\",p1,\"W\")\n",
    "print(\"p2:\",p2,\"W\")\n",
    "print(\"p3:\",p3,\"W\")\n",
    "print(\"Potencia total:\",pt,\"W\")"
   ]
  },
  {
   "attachments": {
    "image.png": {
     "image/png": "[encoded data removed]"
    }
   },
   "cell_type": "markdown",
   "metadata": {},
   "source": [
    "**Problema Prático 2.13**\n",
    "\n",
    "Para o circuito mostrado na Figura 2.45, determine: (a) v1 e v2; (b) potência dissipada\n",
    "nos resistores de 3 kV e 20 kV; e (c) potência fornecida pela fonte de corrente.\n",
    "\n",
    "![image.png](attachment:image.png)"
   ]
  },
  {
   "cell_type": "code",
   "execution_count": 12,
   "metadata": {},
   "outputs": [
    {
     "name": "stdout",
     "output_type": "stream",
     "text": [
      "Problema Prático 2.13\n",
      "v1: 45.0 V\n",
      "v2: 60.0 V\n",
      "p1: 0.6749999999999999 W\n",
      "p2: 0.18 W\n",
      "Potencia total: 1.7999999999999998 W\n"
     ]
    }
   ],
   "source": [
    "print(\"Problema Prático 2.13\")\n",
    "Cs = 30*m\n",
    "R1 = 3*k\n",
    "R2 = 1*k\n",
    "R3 = 5*k\n",
    "R4 = 20*k\n",
    "Req1 = R1+R2\n",
    "Req2 = Req(R3,R4)\n",
    "i1 = Cs*Req2/(Req1+Req2)\n",
    "v1 = R1*i1\n",
    "p1 = v1*i1\n",
    "i2 = Cs - i1\n",
    "i3 = i2*R3/(R3+R4)\n",
    "v2 = R4*i3\n",
    "p2 = v2*i3\n",
    "pt = Cs*v2 #potencia total = corrente da fonte * tensao a que esta submetida\n",
    "print(\"v1:\",v1,\"V\")\n",
    "print(\"v2:\",v2,\"V\")\n",
    "print(\"p1:\",p1,\"W\")\n",
    "print(\"p2:\",p2,\"W\")\n",
    "print(\"Potencia total:\",pt,\"W\")"
   ]
  }
 ],
 "metadata": {
  "kernelspec": {
   "display_name": "Python 3",
   "language": "python",
   "name": "python3"
  },
  "language_info": {
   "codemirror_mode": {
    "name": "ipython",
    "version": 3
   },
   "file_extension": ".py",
   "mimetype": "text/x-python",
   "name": "python",
   "nbconvert_exporter": "python",
   "pygments_lexer": "ipython3",
   "version": "3.5.3"
  }
 },
 "nbformat": 4,
 "nbformat_minor": 2
}
