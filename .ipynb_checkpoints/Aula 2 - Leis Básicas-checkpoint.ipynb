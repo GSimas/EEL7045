{
 "cells": [
  {
   "cell_type": "markdown",
   "metadata": {},
   "source": [
    "# Aula 2 - Leis Básicas\n",
    "\n",
    "> \"*Existem muitas pessoas orando para que as montanhas de dificuldades sejam removidas,\n",
    "quando o que elas realmente precisam é de coragem para escalá-las*\"\n",
    "\n",
    "Autor desconhecido"
   ]
  },
  {
   "cell_type": "markdown",
   "metadata": {},
   "source": [
    "## Lei de Ohm\n",
    "\n",
    "Os materiais geralmente possuem um comportamento característico de resistir\n",
    "ao fluxo de carga elétrica. Essa propriedade física, ou habilidade, é\n",
    "conhecida como resistência e é representada pelo símbolo **R**. A resistência de\n",
    "qualquer material com uma área da seção transversal (**A**) uniforme depende\n",
    "de A e de seu comprimento **l**\n",
    "\n",
    "\\begin{align}\n",
    "R = \\rho \\frac{l}{A}\n",
    "\\end{align}\n",
    "\n",
    "![](http://i.imgur.com/QOOhd2A.png)\n",
    "\n",
    "onde ρ é conhecida como resistividade do material em ohms-metro. Bons condutores,\n",
    "como cobre e alumínio, possuem baixa resistividade, enquanto isolantes,\n",
    "como mica e papel, têm alta resistividade\n",
    "\n",
    "![](http://i.imgur.com/gH8g8eg.png)\n",
    "\n",
    "**A lei de Ohm afirma que a tensão v em um resistor é diretamente proporcional à corrente i através dele.**\n",
    "\n",
    "**A resistência R de um elemento representa sua capacidade de resistir ao fluxo de corrente elétrica; ela é medida em ohms (V).**\n",
    "\n",
    "\\begin{align}\n",
    "V = Ri\n",
    "\\end{align}\n",
    "\n",
    "\n",
    "## Curto-circuito\n",
    "\n",
    "Uma vez que o valor de **R** pode variar de zero a infinito, é importante considerarmos\n",
    "os dois possíveis valores extremos de R. Um elemento com R = 0 é denominado\n",
    "*curto-circuito*\n",
    "\n",
    "\\begin{align}\n",
    "V = iR = 0\n",
    "\\end{align}\n",
    "\n",
    "A corrente poderia assumir qualquer valor. Na prática, um curto-circuito em geral é um fio de conexão que é, supostamente,\n",
    "um condutor perfeito.\n",
    "\n",
    "**Curto-circuito é um elemento de circuito com resistência que se aproxima de zero.**\n",
    "\n",
    "## Circuito aberto\n",
    "\n",
    "De forma similar, um elemento com R = ∞ é conhecido como um circuito aberto\n",
    "\n",
    "\\begin{align}\n",
    "i = \\lim_{R\\rightarrow \\infty} \\frac{V}{R} = 0\n",
    "\\end{align}\n",
    "\n",
    "Isso indica que a corrente é zero, embora o valor da tensão possa ser qualquer um.\n",
    "\n",
    "**Circuito aberto é um elemento de circuito com resistência que se aproxima de infinito**\n",
    "\n",
    "A Figura a seguir apresenta (a) curto-circuito e (b) circuito aberto\n",
    "\n",
    "![](http://i.imgur.com/ZWmUGC8.png)\n",
    "\n",
    "## Resistores e Condutância\n",
    "\n",
    "Um resistor pode ser fixo ou variável, sendo que a maior parte é do tipo fixo, significando que sua resistência permanece constante. Os resistores variáveis têm resistência ajustável e um tipo comum é conhecido como **potenciômetro**, que é um elemento de três terminais com um contato deslizante ou cursor móvel. Deslizando-se o contato, a resistência entre o terminal do contato e os terminais fixos varia. Assim como os resistores fixos, os resistores variáveis podem ser de fio ou de compostos.\n",
    "\n",
    "As Figuras a seguir apresentam a simbologia e exemplo de potenciômetro:\n",
    "\n",
    "![](http://i.imgur.com/LU6pkG8.png)\n",
    "\n",
    "Uma medida útil em análise de circuitos é o inverso da resistência R, conhecida\n",
    "como **condutância**, uma medida que representa quanto um elemento\n",
    "conduz corrente elétrica, e representada por G:\n",
    "\n",
    "\\begin{align}\n",
    "G = \\frac{1}{R} = \\frac{i}{V}\n",
    "\\end{align}\n",
    "\n",
    "A unidade de condutância é o mho (ohm escrito ao contrário), com símbolo, ℧,  o ômega invertido. Embora os engenheiros muitas vezes usem o mho, preferimos utilizar o siemens (S), a unidade SI para condutância:\n",
    "\n",
    "\\begin{align}\n",
    "1 S = 1 ℧ = 1 A/V\n",
    "\\end{align}\n",
    "\n",
    "**Condutância é a capacidade de um elemento conduzir corrente elétrica; ela é medida em mho (V) ou siemens (S).**\n",
    "\n",
    "A mesma resistência pode ser expressa em ohms ou siemens. Por exemplo,\n",
    "10 V é o mesmo que 0,1 S\n",
    "\n",
    "\\begin{align}\n",
    "i = Gv\n",
    "\\end{align}\n",
    "\n",
    "A potência dissipada por um resistor pode ser expressa em termos de R. \n",
    "\n",
    "\\begin{align}\n",
    "p = vi = i^2R = \\frac{v^2}{R}\n",
    "\\end{align}\n",
    "\n",
    "A potência dissipada por um resistor também poderia ser expressa em termos\n",
    "de G como\n",
    "\n",
    "\\begin{align}\n",
    "p = vi = v^2G = \\frac{i^2}{G}\n",
    "\\end{align}\n",
    "\n",
    "**Observação:**\n",
    "\n",
    "**1. A potência dissipada em um resistor é uma função não linear da corrente ou tensão**\n",
    "\n",
    "**2. Já que R e G são quantidades positivas, a potência dissipada em um resistor é sempre positiva. Portanto, um resistor sempre absorve potência do circuito, confirmando a ideia de que é um elemento passivo, incapaz de gerar energia.**\n"
   ]
  },
  {
   "cell_type": "markdown",
   "metadata": {},
   "source": [
    "**Exemplo 2.1**\n",
    "\n",
    "Um ferro elétrico drena 2 A em uma tensão de 120 V. Determine a resistência"
   ]
  },
  {
   "cell_type": "code",
   "execution_count": 1,
   "metadata": {},
   "outputs": [
    {
     "name": "stdout",
     "output_type": "stream",
     "text": [
      "Exemplo 2.1\n",
      "Resposta é: 60.0 ohm\n"
     ]
    }
   ],
   "source": [
    "print(\"Exemplo 2.1\")\n",
    "i = 2 #valor da corrente em A\n",
    "V = 120 #valor da tensao em V\n",
    "R = V/i\n",
    "print(\"Resposta é:\", R, \"ohm\")"
   ]
  },
  {
   "cell_type": "markdown",
   "metadata": {},
   "source": [
    "**Problema Prático 2.1**\n",
    "\n",
    "O componente essencial de uma tostadeira é um elemento elétrico (um resistor) que\n",
    "converte energia elétrica em energia térmica. Quanta corrente é absorvida por uma\n",
    "torradeira com resistência 15 Ω a 110 V?"
   ]
  },
  {
   "cell_type": "code",
   "execution_count": 2,
   "metadata": {},
   "outputs": [
    {
     "name": "stdout",
     "output_type": "stream",
     "text": [
      "Problema Prático 2.1\n",
      "Resposta é: 7.333333333333333 A\n"
     ]
    }
   ],
   "source": [
    "print(\"Problema Prático 2.1\")\n",
    "R = 15 #resistencia em ohms\n",
    "V = 110 #tensao em V\n",
    "i = V/R\n",
    "print(\"Resposta é:\", i, \"A\")"
   ]
  },
  {
   "cell_type": "markdown",
   "metadata": {},
   "source": [
    "**Exemplo 2.2**\n",
    "\n",
    "No circuito elétrico mostrado na Figura 2.8, calcule a corrente i, a condutância G e a\n",
    "potência p.\n",
    "\n",
    "![](http://i.imgur.com/U2e3eUb.png)"
   ]
  },
  {
   "cell_type": "code",
   "execution_count": 4,
   "metadata": {},
   "outputs": [
    {
     "name": "stdout",
     "output_type": "stream",
     "text": [
      "Exemplo 2.2\n",
      "Corrente é: 0.006 A\n",
      "Condutância é: 0.0002 S\n",
      "Potência é: 0.18 W\n"
     ]
    }
   ],
   "source": [
    "print(\"Exemplo 2.2\")\n",
    "V = 30\n",
    "R = 5000\n",
    "G = 1/R\n",
    "i = V/R\n",
    "p = V*i\n",
    "print(\"Corrente é:\", i, \"A\")\n",
    "print(\"Condutância é:\", G, \"S\")\n",
    "print(\"Potência é:\", p, \"W\")"
   ]
  },
  {
   "cell_type": "markdown",
   "metadata": {},
   "source": [
    "**Problema Prático 2.2**\n",
    "\n",
    "Para o circuito mostrado na Figura 2.9, calcule a tensão v, a condutância G e a potência p.\n",
    "\n",
    "![](http://i.imgur.com/DzhG74H.png)"
   ]
  },
  {
   "cell_type": "code",
   "execution_count": 5,
   "metadata": {},
   "outputs": [
    {
     "name": "stdout",
     "output_type": "stream",
     "text": [
      "Problema Prático 2.2\n",
      "Tensão é: 30.0 V\n",
      "Condutância é: 0.0001 S\n",
      "Potência é: 0.09 W\n"
     ]
    }
   ],
   "source": [
    "print(\"Problema Prático 2.2\")\n",
    "i = 0.003\n",
    "k = 1000\n",
    "R = 10*k\n",
    "v = R*i\n",
    "G = 1/R\n",
    "p = v*i\n",
    "print(\"Tensão é:\", v, \"V\")\n",
    "print(\"Condutância é:\", G, \"S\")\n",
    "print(\"Potência é:\", p, \"W\")"
   ]
  },
  {
   "cell_type": "markdown",
   "metadata": {},
   "source": [
    "**Exemplo 2.3**\n",
    "\n",
    "Uma fonte de tensão de 20 sen(pi t) V é conectada em um resistor de 5 kΩ. Determine a\n",
    "corrente que passa pelo resistor e a potência dissipada."
   ]
  },
  {
   "cell_type": "code",
   "execution_count": 8,
   "metadata": {},
   "outputs": [
    {
     "name": "stdout",
     "output_type": "stream",
     "text": [
      "Exemplo 2.3\n",
      "Corrente é: sin(3.14159265358979*t)/250 A\n"
     ]
    }
   ],
   "source": [
    "print(\"Exemplo 2.3\")\n",
    "import numpy as np\n",
    "from sympy import *\n",
    "\n",
    "t = symbols('t')\n",
    "v = 20*sin(np.pi*t)\n",
    "k = 1000\n",
    "R = 5*k\n",
    "i = v/R\n",
    "print(\"Corrente é:\",i,\"A\")"
   ]
  },
  {
   "cell_type": "markdown",
   "metadata": {},
   "source": [
    "**Problema Prático 2.3**\n",
    "\n",
    "Um resistor absorve uma potência instantânea de 30 cos^2(t) mW, quando conectado a\n",
    "uma fonte de tensão v = 15 cos(t) V. Determine i e R"
   ]
  },
  {
   "cell_type": "code",
   "execution_count": 15,
   "metadata": {},
   "outputs": [
    {
     "name": "stdout",
     "output_type": "stream",
     "text": [
      "Problema Prático 2.3\n",
      "Corrente é: 0.002*cos(t) A\n",
      "Resistência é: 7500.00000000000 ohm\n"
     ]
    }
   ],
   "source": [
    "print(\"Problema Prático 2.3\")\n",
    "from sympy import *\n",
    "\n",
    "t = symbols('t')\n",
    "mili = 10**(-3)\n",
    "p = 30*mili*cos(t)**2\n",
    "v = 15*cos(t)\n",
    "i = p/v\n",
    "R = v/i\n",
    "print(\"Corrente é:\", i, \"A\")\n",
    "print(\"Resistência é:\", R, \"ohm\")"
   ]
  },
  {
   "cell_type": "code",
   "execution_count": null,
   "metadata": {
    "collapsed": true
   },
   "outputs": [],
   "source": []
  }
 ],
 "metadata": {
  "kernelspec": {
   "display_name": "Python 3",
   "language": "python",
   "name": "python3"
  },
  "language_info": {
   "codemirror_mode": {
    "name": "ipython",
    "version": 3
   },
   "file_extension": ".py",
   "mimetype": "text/x-python",
   "name": "python",
   "nbconvert_exporter": "python",
   "pygments_lexer": "ipython3",
   "version": "3.5.3"
  }
 },
 "nbformat": 4,
 "nbformat_minor": 2
}
