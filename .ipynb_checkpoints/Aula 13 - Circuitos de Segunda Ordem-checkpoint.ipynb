{
 "cells": [
  {
   "cell_type": "markdown",
   "metadata": {},
   "source": [
    "# Circuitos de 2ª Ordem\n",
    "Jupyter Notebook desenvolvido por [Gustavo S.S.](https://github.com/GSimas)\n",
    "\n",
    "> \"Todos os que podem cursar um mestrado em engenharia devem fazê-lo a fim de estender o sucesso de sua\n",
    "carreira! Se você quer trabalhar com pesquisa, o estado da arte em engenharia, lecionar em uma universidade\n",
    "ou iniciar seu próprio negócio, você realmente precisa cursar um doutorado!\" - **Charles K. Alexander**\n",
    "\n",
    "Circuitos contendo dois elementos de armazenamento,\n",
    "que são conhecidos como circuitos de segunda ordem, porque\n",
    "suas respostas são descritas como equações diferenciais contendo derivadas\n",
    "segundas.\n",
    "\n",
    "Exemplos comuns de circuitos de segunda ordem são os RLC, onde estão\n",
    "presentes os três tipos de elementos passivos, como mostram Figuras 8.1a e b.\n",
    "Outros exemplos são circuitos RL e RC, como os indicados nas Figuras 8.1c e\n",
    "d.\n",
    "\n",
    "![](https://i.imgur.com/hbSDLUk.png)\n",
    "\n",
    "Um circuito com amplificadores operacionais com dois elementos de armazenamento\n",
    "também pode ser um circuito de segunda ordem. Assim como nos\n",
    "circuitos de primeira ordem, o de segunda ordem pode conter vários resistores\n",
    "e fontes dependentes e independentes.\n",
    "\n",
    "**Um circuito de segunda ordem é caracterizado por uma equação diferencial\n",
    "de segunda ordem. Ele é formado por resistores e o equivalente de dois\n",
    "elementos de armazenamento.**"
   ]
  }
 ],
 "metadata": {
  "kernelspec": {
   "display_name": "Python 3",
   "language": "python",
   "name": "python3"
  },
  "language_info": {
   "codemirror_mode": {
    "name": "ipython",
    "version": 3
   },
   "file_extension": ".py",
   "mimetype": "text/x-python",
   "name": "python",
   "nbconvert_exporter": "python",
   "pygments_lexer": "ipython3",
   "version": "3.5.3"
  }
 },
 "nbformat": 4,
 "nbformat_minor": 2
}
