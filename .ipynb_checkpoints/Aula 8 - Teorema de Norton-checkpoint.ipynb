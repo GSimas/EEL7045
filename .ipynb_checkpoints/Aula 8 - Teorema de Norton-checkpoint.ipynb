{
 "cells": [
  {
   "cell_type": "markdown",
   "metadata": {},
   "source": [
    "# Teorema de Norton\n",
    "\n",
    "Jupyter Notebook desenvolvido por [Gustavo S.S.](https://github.com/GSimas)\n",
    "\n",
    "**O teorema de Norton afirma que um circuito linear de dois terminais pode\n",
    "ser substituído por um circuito equivalente formado por uma fonte de\n",
    "corrente IN em paralelo com um resistor RN, em que IN é a corrente de curto-\n",
    "-circuito através dos terminais e RN é a resistência de entrada ou equivalente\n",
    "nos terminais quando as fontes independentes forem desligadas.**\n",
    "\n",
    "![](http://i.imgur.com/qwJys9n.png)\n",
    "\n",
    "\\begin{align}\n",
    "{\\Large R_{Th} = R_N}\n",
    "\\end{align}\n",
    "\n",
    "Para descobrir a corrente IN de Norton, determinamos a corrente de curto--circuito que flui entre os terminais a e b em ambos os circuitos da Figura 4.37.\n",
    "Os circuitos equivalentes\n",
    "de Thévenin e de Norton\n",
    "estão relacionados por uma\n",
    "transformação de fontes.\n",
    "\n",
    "\\begin{align}\n",
    "{\\Large I_N = \\frac{V_{Th}}{R_{Th}}}\n",
    "\\end{align}"
   ]
  },
  {
   "attachments": {},
   "cell_type": "markdown",
   "metadata": {},
   "source": [
    "**Exemplo 4.11**\n",
    "\n",
    "Determine o circuito equivalente de Norton do circuito da Figura 4.39 nos terminais a-b\n",
    "\n",
    "![](https://i.imgur.com/smvtq1Y.png)"
   ]
  },
  {
   "cell_type": "code",
   "execution_count": 31,
   "metadata": {},
   "outputs": [
    {
     "name": "stdout",
     "output_type": "stream",
     "text": [
      "Exemplo 4.11\n",
      "Corrente In: 1 A\n",
      "Resistência Rn: 4\n"
     ]
    }
   ],
   "source": [
    "print(\"Exemplo 4.11\")\n",
    "\n",
    "#Superposicao\n",
    "\n",
    "#Analise Fonte de Tensao\n",
    "#Req1 = 4 + 8 + 8 = 20\n",
    "#i1 = 12/20 = 3/5 A\n",
    "\n",
    "#Analise Fonte de Corrente\n",
    "#i2 = 2*4/(4 + 8 + 8) = 8/20 = 2/5 A\n",
    "\n",
    "#in = i1 + i2 = 1A\n",
    "\n",
    "In = 1\n",
    "\n",
    "#Req2 = paralelo entre Req 1 e 5\n",
    "#20*5/(20 + 5) = 100/25 = 4\n",
    "\n",
    "Rn = 4\n",
    "\n",
    "print(\"Corrente In:\",In,\"A\")\n",
    "print(\"Resistência Rn:\",Rn)"
   ]
  },
  {
   "attachments": {},
   "cell_type": "markdown",
   "metadata": {},
   "source": [
    "**Problema Prático 4.11**\n",
    "\n",
    "Determine o equivalente de Norton para o circuito da Figura 4.42 nos terminais a-b.\n",
    "\n",
    "![](https://i.imgur.com/KJ4LwYQ.png)"
   ]
  },
  {
   "cell_type": "code",
   "execution_count": 32,
   "metadata": {},
   "outputs": [
    {
     "name": "stdout",
     "output_type": "stream",
     "text": [
      "Problema Prático 4.11\n",
      "Corrente In: 4.5 A\n",
      "Resistência Rn: 3\n"
     ]
    }
   ],
   "source": [
    "print(\"Problema Prático 4.11\")\n",
    "\n",
    "#Analise Vs\n",
    "#i1 = 15/(3 + 3) = 15/6 A\n",
    "\n",
    "#Analise Cs\n",
    "#i2 = 4*3/(3 + 3) = 2 A\n",
    "\n",
    "#in = i1 + i2 = 15/6 + 2 = 27/6 = 4.5\n",
    "\n",
    "In = 4.5\n",
    "\n",
    "#Rn = 6*6/(6 + 6) = 3\n",
    "Rn = 3\n",
    "\n",
    "print(\"Corrente In:\",In,\"A\")\n",
    "print(\"Resistência Rn:\",Rn)"
   ]
  },
  {
   "attachments": {},
   "cell_type": "markdown",
   "metadata": {},
   "source": [
    "**Exemplo 4.12**\n",
    "\n",
    "Usando o teorema de Norton, determine RN e IN do circuito da Figura 4.43 nos terminais\n",
    "a-b.\n",
    "\n",
    "![](https://i.imgur.com/0NeaL0E.png)"
   ]
  },
  {
   "cell_type": "code",
   "execution_count": 33,
   "metadata": {},
   "outputs": [
    {
     "name": "stdout",
     "output_type": "stream",
     "text": [
      "Exemplo 4.12\n",
      "Corrente In: 7 A\n",
      "Resistência Rn: 5\n"
     ]
    }
   ],
   "source": [
    "print(\"Exemplo 4.12\")\n",
    "\n",
    "#Aplica-se tensao Vo = 1V entre os terminais a-b\n",
    "#Assim Rth = Rn = 5\n",
    "Rn = 5\n",
    "\n",
    "#Analise Nodal\n",
    "#ix = 10/4 = 2.5 A\n",
    "#i1 = 10/5 = 2 A\n",
    "#in = 2ix + i1 = 5 + 2 = 7 A\n",
    "In = 7\n",
    "print(\"Corrente In:\",In,\"A\")\n",
    "print(\"Resistência Rn:\",Rn)"
   ]
  },
  {
   "attachments": {},
   "cell_type": "markdown",
   "metadata": {},
   "source": [
    "**Problema Prático 4.12**\n",
    "\n",
    "Determine o circuito equivalente de Norton do circuito da Figura 4.45 nos terminais a-b.\n",
    "\n",
    "![](https://i.imgur.com/vIGcYOQ.png)"
   ]
  },
  {
   "cell_type": "code",
   "execution_count": 34,
   "metadata": {},
   "outputs": [
    {
     "name": "stdout",
     "output_type": "stream",
     "text": [
      "Problema Prático 4.12\n",
      "Resistência Rn: 1\n",
      "Corrente In: 10 A\n"
     ]
    }
   ],
   "source": [
    "print(\"Problema Prático 4.12\")\n",
    "\n",
    "#Aplica-se Vo = 2V entre os terminais a-b\n",
    "#Assim Vx = 2V\n",
    "\n",
    "#Analise Nodal\n",
    "#V1 = tensao sobre resistor 6 = 3Vx = 6V\n",
    "#i1 = 1 A\n",
    "#i2 = 2/2 = 1 A\n",
    "#io = i1 + i2 = 2 A\n",
    "#Rn = Vo/io = 2/2 = 1\n",
    "Rn = 1\n",
    "\n",
    "#In = 10 = corrente de curto circuito\n",
    "In = 10\n",
    "\n",
    "print(\"Resistência Rn:\",Rn)\n",
    "print(\"Corrente In:\",In,\"A\")"
   ]
  },
  {
   "cell_type": "markdown",
   "metadata": {},
   "source": [
    "## Máxima Transferência de Potência\n",
    "\n",
    "Para um dado circuito, VTh e RTh são fixas. Variando a resistência de carga RL, a\n",
    "potência liberada à carga varia conforme descrito na Figura 4.49. Percebemos,\n",
    "dessa figura, que a potência é pequena para valores pequenos ou grandes de RL,\n",
    "mas máxima para o mesmo valor de RL entre 0 e ∞.\n",
    "\n",
    "\\begin{align}\n",
    "{\\Large P = i^2R_L = (\\frac{V_{Th}}{R_{Th} + R_L})^2R_L}\n",
    "\\end{align}\n",
    "\n",
    "**A potência máxima é transferida a uma carga quando a resistência de carga\n",
    "for igual à resistência de Thévenin quando vista da carga (RL = RTh).**\n",
    "\n",
    "![](http://i.imgur.com/Ts2QG4w.png)\n",
    "\n",
    "A fonte e a carga são ditas casadas\n",
    "quando RL = RTh. Assim, a potência máxima para elementos casados é:\n",
    "\n",
    "\\begin{align}\n",
    "{\\Large P_{max} = \\frac{V_{Th}^2}{4R_{Th}}}\n",
    "\\end{align}"
   ]
  },
  {
   "attachments": {},
   "cell_type": "markdown",
   "metadata": {},
   "source": [
    "**Exemplo 4.13**\n",
    "\n",
    "Determine o valor de RL para a máxima transferência de potência no circuito da Figura\n",
    "4.50. Determine a potência máxima.\n",
    "\n",
    "![](https://i.imgur.com/h3CZjmO.png)"
   ]
  },
  {
   "cell_type": "code",
   "execution_count": 35,
   "metadata": {},
   "outputs": [
    {
     "name": "stdout",
     "output_type": "stream",
     "text": [
      "Exemplo 4.13\n",
      "Corrente In: 2.4444444444444446 A\n",
      "Potência Máxima Transferida: 13.444444444444446 W\n"
     ]
    }
   ],
   "source": [
    "print(\"Exemplo 4.13\")\n",
    "\n",
    "#Req1 = 6*12/(6 + 12) = 4\n",
    "#Rn = 4 + 3 + 2 = 9\n",
    "Rn = 9\n",
    "\n",
    "#Superposicao\n",
    "#Fonte de Corrente\n",
    "#i1 = 2*7/(7 + 2) = 14/9\n",
    "\n",
    "#Fonte de Tensao\n",
    "#Req2 = 12*5/(12 + 5) = 60/17\n",
    "#Req3 = 6 + 60/17 = 162/17\n",
    "#it = 12/(162/17) = 12*17/162\n",
    "#i2 = it*12/(12 + 5) = 8/9\n",
    "\n",
    "#in = i1 + i2 = 14/9 + 8/9 = 22/9\n",
    "In = 22/9\n",
    "\n",
    "P = (Rn/4)*In**2\n",
    "\n",
    "print(\"Corrente In:\",In,\"A\")\n",
    "print(\"Potência Máxima Transferida:\",P,\"W\")"
   ]
  },
  {
   "attachments": {},
   "cell_type": "markdown",
   "metadata": {},
   "source": [
    "**Problema Prático 4.13**\n",
    "\n",
    "Determine o valor de RL que irá drenar a potência máxima do restante do circuito na\n",
    "Figura 4.52. Calcule a potência máxima.\n",
    "\n",
    "![](https://i.imgur.com/9SJwaMo.png)"
   ]
  },
  {
   "cell_type": "code",
   "execution_count": 36,
   "metadata": {},
   "outputs": [
    {
     "name": "stdout",
     "output_type": "stream",
     "text": [
      "Problema Prático 4.13\n",
      "Resistencia Rl para potência Maxima: 4.222222222222222\n",
      "Potencia maxima: 2.9013157894736836 W\n"
     ]
    }
   ],
   "source": [
    "print(\"Problema Prático 4.13\")\n",
    "\n",
    "import numpy as np\n",
    "\n",
    "#Analise In\n",
    "#vx = 2i1\n",
    "\n",
    "#vx + (i1 - i2) + 3vx = 9\n",
    "    #i1 - i2 + 4vx = 9\n",
    "    #9i1 - i2 = 9\n",
    "\n",
    "#(i2 - i1) + 4i2 = 3vx\n",
    "    #-i1 + 5i2 = 6i1\n",
    "    #-7i1 + 5i2 = 0\n",
    "\n",
    "coef = np.matrix(\"9 -1;-7 5\")\n",
    "res = np.matrix(\"9;0\")\n",
    "I = np.linalg.inv(coef)*res\n",
    "In = -I[1]\n",
    "\n",
    "#Analise Rn\n",
    "#io = 1 A\n",
    "\n",
    "#vx = 2i1\n",
    "\n",
    "#vx + (i1 + io) + 3vx = 0\n",
    "    #i1 + 4vx = -1\n",
    "    #i1 + 8i1 = -1\n",
    "    #i1 = -1/9\n",
    "\n",
    "#vx = -2/9\n",
    "\n",
    "#Vab = 4io + (io + i1) + 3vx\n",
    "    #Vab = 4 + 1 -1/9 -6/9 = 38/9\n",
    "\n",
    "#Rn = Vab/io = 38/9\n",
    "Rn = 38/9\n",
    "\n",
    "P = (Rn/4) * In**2\n",
    "\n",
    "print(\"Resistencia Rl para potência Maxima:\",Rn)\n",
    "print(\"Potencia maxima:\",float(P),\"W\")"
   ]
  },
  {
   "cell_type": "markdown",
   "metadata": {},
   "source": [
    "## Resumo\n",
    "\n",
    "1. Uma **rede linear** é formada por elementos lineares, fontes dependentes lineares e fontes independentes lineares.\n",
    "\n",
    "2. O princípio da **superposição** afirma que para um circuito com várias fontes independentes, a tensão (ou a corrente) em um elemento é igual à soma algébrica de todas as tensões (ou correntes) individuais devido a cada fonte independente atuando em dado instante.\n",
    "\n",
    "3. **Transformação de fontes** é um procedimento para transformar uma fonte de tensão em série com um resistor em uma fonte de corrente em paralelo com um resistor, ou vice-versa.\n",
    "\n",
    "4. O circuito equivalente de **Thévenin** é formado por uma fonte de tensão VTh em série com um resistor RTh, enquanto o de **Norton** é constituído por uma fonte de corrente IN em paralelo com um resistor RN.\n",
    "\n",
    "\\begin{align}\n",
    "{\\Large R_n = R_{Th}}\n",
    "\\\\\n",
    "\\\\{\\Large I_n = \\frac{V_{Th}}{R_{Th}}}\n",
    "\\end{align}\n",
    "\n",
    "5. O circuito equivalente de Thévenin é formado por uma fonte de tensão VTh em série com um resistor RTh, enquanto o de Norton é constituído por uma fonte de corrente IN em paralelo com um resistor RN.\n",
    "\n",
    "\\begin{align}\n",
    "{\\Large P_{max} = \\frac{V_{Th}^2}{4R_{Th}}}\n",
    "\\end{align}"
   ]
  }
 ],
 "metadata": {
  "kernelspec": {
   "display_name": "Python 3",
   "language": "python",
   "name": "python3"
  },
  "language_info": {
   "codemirror_mode": {
    "name": "ipython",
    "version": 3
   },
   "file_extension": ".py",
   "mimetype": "text/x-python",
   "name": "python",
   "nbconvert_exporter": "python",
   "pygments_lexer": "ipython3",
   "version": "3.5.3"
  }
 },
 "nbformat": 4,
 "nbformat_minor": 2
}
