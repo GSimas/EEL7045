{
 "cells": [
  {
   "cell_type": "markdown",
   "metadata": {},
   "source": [
    "# Transformação de Fontes\n",
    "\n",
    "Jupyter Notebook desenvolvido por [Gustavo S.S.](https://github.com/GSimas)\n",
    "\n",
    "**Transformação de fontes é o processo de substituir uma fonte de tensão\n",
    "vs em série com um resistor R por uma fonte de corrente is em paralelo com\n",
    "um resistor R, ou vice-versa.**\n",
    "\n",
    "Assim como na transformação estrela-triângulo, uma\n",
    "transformação de fontes não afeta a parte remanescente do circuito.\n",
    "\n",
    "![](http://i.imgur.com/GsLP8eZ.png)\n",
    "\n",
    "Portanto, a transformação de fontes requer que\n",
    "\n",
    "\\begin{align}\n",
    "{\\Large v_s = i_sR}\n",
    "\\\\\n",
    "\\\\{\\Large i_s = \\frac{v_s}{R}}\n",
    "\\end{align}\n",
    "\n",
    "A transformação de fontes também se aplica a fontes dependentes, desde\n",
    "que tratemos adequadamente a variável dependente.\n",
    "\n",
    "![](http://i.imgur.com/JZ8Mj35.png)"
   ]
  },
  {
   "attachments": {},
   "cell_type": "markdown",
   "metadata": {},
   "source": [
    "**Exemplo 4.6**\n",
    "\n",
    "Use transformação de fontes para determinar vo no circuito da Figura 4.17.\n",
    "\n",
    "![](https://i.imgur.com/PUM7ZGi.png)"
   ]
  },
  {
   "cell_type": "code",
   "execution_count": 7,
   "metadata": {},
   "outputs": [
    {
     "name": "stdout",
     "output_type": "stream",
     "text": [
      "Exemplo 4.6\n",
      "Tensao v0 3.2 V\n"
     ]
    }
   ],
   "source": [
    "print(\"Exemplo 4.6\")\n",
    "#trasforma fonte 1 (corrente -> tensao)\n",
    "#vs1 = is*R = 12V\n",
    "\n",
    "#Req em serie entre 4 e 2\n",
    "#Req1 = 4 + 2 = 6\n",
    "\n",
    "#transforma fonte 2 (tensao -> corrente)\n",
    "#is2 = 12/3 = 4A\n",
    "\n",
    "#transforma fonte 1 (tensao -> corrente)\n",
    "#is1 = 12/6 = 2A\n",
    "\n",
    "#Req paralelo entre 6 e 3\n",
    "#Req2 = 6*3/(6 + 3) = 2\n",
    "\n",
    "#fonte resultante\n",
    "#ir = is2 - is1 = 4 - 2 = 2A\n",
    "\n",
    "#transforma fonte 2 (corrente -> tensao)\n",
    "#vs2 = Req2*ir = 2 * 2 = 4V\n",
    "\n",
    "#divisor tensao\n",
    "#v0 = vs2*8/(8 + Req2)\n",
    "v0 = 4*8/(8 + 2)\n",
    "\n",
    "print(\"Tensao v0\",v0,\"V\")"
   ]
  },
  {
   "attachments": {},
   "cell_type": "markdown",
   "metadata": {},
   "source": [
    "**Problema Prático 4.6**\n",
    "\n",
    "Determine io no circuito da Figura 4.19 usando transformação de fontes.\n",
    "\n",
    "![](https://i.imgur.com/PUM7ZGi.png)"
   ]
  },
  {
   "cell_type": "code",
   "execution_count": 3,
   "metadata": {},
   "outputs": [
    {
     "name": "stdout",
     "output_type": "stream",
     "text": [
      "Problema Prático 4.6\n",
      "Corrente i0: 1.7796610169491525 A\n"
     ]
    }
   ],
   "source": [
    "print(\"Problema Prático 4.6\")\n",
    "#Req serie 4 e 1 = 5\n",
    "#Req paralelo 6 e 3 = 2\n",
    "\n",
    "#transforma fonte 1 (corrente -> tensao)\n",
    "#vs1 = R*is1 = 5*2 = 10V\n",
    "\n",
    "#soma fonte 1 e 2 = 5 + 10 = 15V\n",
    "\n",
    "#transforma fonte soma (tensao -> corrente)\n",
    "#is = 15/2 = 7,5A\n",
    "\n",
    "#Req paralelo 5 e 2 = 10/7\n",
    "\n",
    "#soma fonte corrente = 7,5 + 3 = 10,5 A\n",
    "\n",
    "#divisor corrente\n",
    "i0 = 10.5*(10/7)/((10/7) + 7)\n",
    "\n",
    "print(\"Corrente i0:\",i0,\"A\")"
   ]
  },
  {
   "attachments": {},
   "cell_type": "markdown",
   "metadata": {},
   "source": [
    "**Exemplo 4.7**\n",
    "\n",
    "Determine vx na Figura 4.20 usando transformação de fontes.\n",
    "\n",
    "![](https://i.imgur.com/KUpb5AQ.png)"
   ]
  },
  {
   "cell_type": "code",
   "execution_count": 10,
   "metadata": {},
   "outputs": [
    {
     "name": "stdout",
     "output_type": "stream",
     "text": [
      "Exemplo 4.7\n",
      "Tensão Vx 7.5 V\n"
     ]
    }
   ],
   "source": [
    "print(\"Exemplo 4.7\")\n",
    "\n",
    "#transforma fonte 1 (tensao -> corrente)\n",
    "#is1 = 6/2 = 3 A\n",
    "\n",
    "#transforma fonte dep. (corrente -> tensao)\n",
    "#vs_dep = 0.25Vx * 4 = Vx\n",
    "\n",
    "#soma fonte dep. e fonte 2 = 18 + Vx\n",
    "\n",
    "#Req paralelo 2 e 2 = 1\n",
    "\n",
    "#transforma fontes soma (tensao -> corrente)\n",
    "#is_soma = 18/4 + Vx/4\n",
    "\n",
    "#soma fontes = 18/4 + Vx/4 + 3 = 30/4 + Vx/4 = (30 + Vx)/4\n",
    "\n",
    "#transforma fontes soma (corrente -> tensao)\n",
    "#fonte resultante = ((30 + Vx)/4)*4 = 30 + Vx\n",
    "\n",
    "#LKT\n",
    "#(30 + Vx) - 4*ix - Vx = 0\n",
    "#ix = (30 + Vx)/5 = 6 + Vx/5\n",
    "#30 - 24 - 4Vx/5 = 0\n",
    "vx = 6*5/4\n",
    "print(\"Tensão Vx\",vx,\"V\")"
   ]
  },
  {
   "attachments": {},
   "cell_type": "markdown",
   "metadata": {},
   "source": [
    "**Problema Prático 4.7**\n",
    "\n",
    "Use transformação de fontes para determinar ix no circuito exposto na Figura 4.22.\n",
    "\n",
    "![](https://i.imgur.com/1CUcFL5.png)"
   ]
  },
  {
   "cell_type": "code",
   "execution_count": 16,
   "metadata": {},
   "outputs": [
    {
     "name": "stdout",
     "output_type": "stream",
     "text": [
      "Problema Prático 4.7\n",
      "0.008\n"
     ]
    }
   ],
   "source": [
    "print(\"Problema Prático 4.7\")\n",
    "\n",
    "#transforma fonte dep. (tensao -> corrente)\n",
    "#is_dep = 2ix/5\n",
    "\n",
    "#soma fontes = 0.024 - 2ix\n",
    "\n",
    "#divisor corrente\n",
    "#ix = (24m - 2ix)*5/(5 + 10)\n",
    "    #ix = (0.12 - 10ix)/15\n",
    "    #ix + 2ix/3 = 0.008\n",
    "    #5ix/3 = 0.008\n",
    "ix = 0.008*3/5\n",
    "print(\"Corrente ix:\",ix,\"A\")"
   ]
  },
  {
   "cell_type": "markdown",
   "metadata": {},
   "source": [
    "# Teorema de Thèvenin\n",
    "\n",
    "**O teorema de Thévenin afirma que um circuito linear de dois terminais\n",
    "pode ser substituído por um circuito equivalente formado por uma fonte\n",
    "de tensão VTh em série com um resistor RTh, onde VTh é a tensão de circuito\n",
    "aberto nos terminais e RTh, a resistência de entrada ou equivalente nos\n",
    "terminais quando as fontes independentes forem desativadas.**\n",
    "\n",
    "O teorema de Thévenin é muito importante na análise de circuitos, porque\n",
    "ajuda a simplificar um circuito, e um circuito grande pode ser substituído por\n",
    "uma única fonte de tensão independente e um único resistor.\n",
    "\n",
    "![](http://i.imgur.com/lK5RAbj.png)\n",
    "\n",
    "Para tanto, suponha\n",
    "que os dois circuitos da Figura 4.23 sejam equivalentes – dois circuitos são\n",
    "ditos equivalentes se tiverem a mesma relação tensão-corrente em seus terminais. Se\n",
    "os terminais a-b forem tornados um circuito aberto (eliminando-se a carga),\n",
    "nenhuma corrente fluirá e, portanto, a tensão nos terminais a-b da Figura 4.23a\n",
    "terá de ser igual à fonte de tensão VTh da Figura 4.23b, já que os dois circuitos\n",
    "são equivalentes. Logo:\n",
    "\n",
    "\\begin{align}\n",
    "{\\Large V_{Th} = v_{oc}}\n",
    "\\end{align}\n",
    "\n",
    "A resistência de entrada (ou\n",
    "resistência equivalente) do circuito inativo nos terminais a-b da Figura 4.23a\n",
    "deve ser igual a RTh da Figura 4.23b, pois os dois circuitos são equivalentes.\n",
    "Portanto, RTh é a resistência de entrada nos terminais quando as fontes\n",
    "independentes forem desligadas. Logo:\n",
    "\n",
    "\\begin{align}\n",
    "{\\Large R_{Th} = R_{oc}}\n",
    "\\end{align}\n",
    "\n",
    "![](http://i.imgur.com/W5t9iyw.png)\n",
    "\n",
    "- **Caso 1:** Se a rede não tiver fontes dependentes, **desligamos todas as fontes independentes**. RTh é a resistência de entrada da rede, olhando-se entre os terminais a e b.\n",
    "- **Caso 2:** Se a rede tiver fontes dependentes, **desligamos todas as fontes independentes**. As fontes dependentes não devem ser desligadas, pois elas são controladas por variáveis de circuito. Aplicamos uma tensão vo aos terminais a e b, e determinamos a corrente resultante io. Então, RTh = vo/io. De forma alternativa, poderíamos inserir uma fonte de corrente io nos terminais a e b, como na Figura 4.25b, e encontrar a tensão entre os terminais vo. Chegamos novamente a RTh = vo/io. Qualquer um dos dois métodos leva ao mesmo resultado. Em ambos os métodos, podemos supor qualquer valor de vo e io. Poderíamos usar, por exemplo, vo = 1 V ou io = 1 A, ou até mesmo valores não especificados de vo ou io.\n",
    "\n",
    "![](http://i.imgur.com/N1VdZnd.png)\n",
    "\n",
    "Muitas vezes, pode ocorrer de RTh assumir um valor negativo; nesse caso,\n",
    "a resistência negativa (v = –iR) implica o fato de o circuito estar **fornecendo\n",
    "energia.**"
   ]
  },
  {
   "attachments": {},
   "cell_type": "markdown",
   "metadata": {},
   "source": [
    "**Exemplo 4.8**\n",
    "\n",
    "Determine o circuito equivalente de Thévenin do circuito mostrado na Figura 4.27,\n",
    "à esquerda dos terminais a-b. Em seguida, determine a corrente através de RL = 6 Ω,\n",
    "16 Ω e 36 Ω.\n",
    "\n",
    "![](https://i.imgur.com/YbC9ugh.png)"
   ]
  },
  {
   "cell_type": "code",
   "execution_count": 29,
   "metadata": {},
   "outputs": [
    {
     "name": "stdout",
     "output_type": "stream",
     "text": [
      "Exemplo 4.8\n",
      "Para RL = 6, Corrente: 3.0 A\n",
      "Para RL = 6, Corrente: 1.5 A\n",
      "Para RL = 6, Corrente: 0.75 A\n"
     ]
    }
   ],
   "source": [
    "print(\"Exemplo 4.8\")\n",
    "\n",
    "#Req1 = 4*12/(4 + 12) = 48/16 = 3\n",
    "#Rth = 3 + 1 = 4\n",
    "\n",
    "#transforma fonte 1 (tensao -> corrente)\n",
    "#is1 = 32/4 = 8 A\n",
    "\n",
    "#soma fontes = 8 + 2 = 10 A\n",
    "\n",
    "#ix = 10*4/(4 + 12) = 40/16 = 5/2\n",
    "#Vab = 12*(5/2) = 30 = Vth\n",
    "\n",
    "Vth = 30\n",
    "Rth = 4\n",
    "\n",
    "Rl = 6\n",
    "Il = Vth/(Rl + Rth)\n",
    "print(\"Para RL = 6, Corrente:\",Il,\"A\")\n",
    "\n",
    "Rl = 16\n",
    "Il = Vth/(Rl + Rth)\n",
    "print(\"Para RL = 6, Corrente:\",Il,\"A\")\n",
    "\n",
    "Rl = 36\n",
    "Il = Vth/(Rl + Rth)\n",
    "print(\"Para RL = 6, Corrente:\",Il,\"A\")"
   ]
  },
  {
   "attachments": {},
   "cell_type": "markdown",
   "metadata": {},
   "source": [
    "**Problema Prático 4.8**\n",
    "\n",
    "Usando o teorema de Thévenin, determine o circuito equivalente à esquerda dos terminais do circuito da Figura 4.30. Em seguida, determine I.\n",
    "\n",
    "![](https://i.imgur.com/DTltA8T.png)"
   ]
  },
  {
   "cell_type": "code",
   "execution_count": 3,
   "metadata": {},
   "outputs": [
    {
     "name": "stdout",
     "output_type": "stream",
     "text": [
      "Problema Prático 4.8\n",
      "Tensao Vth: 6 V\n",
      "Resistencia Rth: 3\n",
      "Corrente I: 1.5 A\n"
     ]
    }
   ],
   "source": [
    "print(\"Problema Prático 4.8\")\n",
    "\n",
    "#Req1 = 6 + 6 = 12\n",
    "#Rth = Req1*4/(Req1 + 4) = 48/16 = 3\n",
    "Rth = 3\n",
    "\n",
    "#Superposicao Vsource\n",
    "#Vab1 = Vs*4/(4 + 6 + 6) = 12*4/16 = 3V\n",
    "\n",
    "#Superposicao Csource\n",
    "#Iab = Is*6/(4 + 6 + 6) = 2*6/16 = 3/4\n",
    "#Vab2 = Iab*4 = 3V\n",
    "\n",
    "#Vth = Vab1 + Vab2\n",
    "Vth = 6\n",
    "\n",
    "I = Vth/(Rth + 1)\n",
    "print(\"Tensao Vth:\",Vth,\"V\")\n",
    "print(\"Resistencia Rth:\",Rth)\n",
    "print(\"Corrente I:\",I,\"A\")"
   ]
  },
  {
   "attachments": {},
   "cell_type": "markdown",
   "metadata": {},
   "source": [
    "**Exemplo 4.9**\n",
    "\n",
    "Determine o equivalente de Thévenin do circuito da Figura 4.31.\n",
    "\n",
    "![](https://i.imgur.com/PeHHuVS.png)"
   ]
  },
  {
   "cell_type": "code",
   "execution_count": 7,
   "metadata": {},
   "outputs": [
    {
     "name": "stdout",
     "output_type": "stream",
     "text": [
      "Exemplo 4.9\n",
      "Resistencia Rth: 6.0\n",
      "Tensão Vth: 20.0 V\n"
     ]
    }
   ],
   "source": [
    "print(\"Exemplo 4.9\")\n",
    "\n",
    "import numpy as np\n",
    "\n",
    "#Descobrir Rth - desliga fontes indep., nao se alteram fontes dep.\n",
    "#Aplicar tensao vo arbitraria entre terminais a b\n",
    "#vo = 1 V\n",
    "#Analise de malhas\n",
    "\n",
    "#-2Vx + 2(i1 - i2) = 0\n",
    "    #Vx = i1 - i2\n",
    "    #Vx = -4i2\n",
    "    #i1 + 3i2 = 0\n",
    "#-Vx + 2(i2 - i1) + 6(i2 - i3) = 0\n",
    "    #2i2 - 2i1 + 6i2 - 6i3 = Vx\n",
    "    #-3i1 + 9i2 - 6i3 = 0\n",
    "    #-i1 + 3i2 - 2i3 = 0\n",
    "#Vo + 6(i3 - i2) + 2i3 = 0\n",
    "    #6i3 - 6i2 + 2i3 = -1\n",
    "    #-6i2 + 8i3 = -1\n",
    "\n",
    "coef = np.matrix(\"1 3 0;-1 3 -2;0 -6 8\")\n",
    "res = np.matrix(\"0;0;-1\")\n",
    "I = np.linalg.inv(coef)*res\n",
    "\n",
    "#i3 = -i0\n",
    "io = -I[2]\n",
    "#Rth = Vo/io\n",
    "Rth = 1/io\n",
    "print(\"Resistencia Rth:\",float(Rth))\n",
    "\n",
    "#Descobrir Vth\n",
    "#Analise de tensao em terminais a b\n",
    "#Analise de Malhas\n",
    "\n",
    "#i1 = 5 A\n",
    "#-2Vx + 2(i2 - i3) = 0\n",
    "    #Vx = i2 - i3\n",
    "    #Vx = 4(5 - i3) = 20 - 4i3\n",
    "    #i2 + 3i3 = 20\n",
    "#4(i3 - 5) + 2(i3 - i2) + 6i3 = 0\n",
    "    #4i3 +2i3 - 2i2 + 6i3 = 20\n",
    "    #-2i2 + 12i3 = 20\n",
    "    #-i2 + 6i3 = 10\n",
    "\n",
    "coef = np.matrix(\"1 3;-1 6\")\n",
    "res = np.matrix(\"20;10\")\n",
    "I = np.linalg.inv(coef)*res\n",
    "Vth = 6*I[1]\n",
    "\n",
    "print(\"Tensão Vth:\",float(Vth),\"V\")"
   ]
  },
  {
   "attachments": {},
   "cell_type": "markdown",
   "metadata": {},
   "source": [
    "**Problema Prático 4.9**\n",
    "\n",
    "Determine o equivalente de Thévenin do circuito da Figura 4.34 à esquerda dos terminais.\n",
    "\n",
    "![](https://i.imgur.com/A46u4eX.png)"
   ]
  },
  {
   "cell_type": "code",
   "execution_count": 15,
   "metadata": {},
   "outputs": [
    {
     "name": "stdout",
     "output_type": "stream",
     "text": [
      "Problema Prático 4.9\n",
      "Resistencia Rth: 0.4444444444444444\n",
      "Tensão Vth: 5.333333333333333 V\n"
     ]
    }
   ],
   "source": [
    "print(\"Problema Prático 4.9\")\n",
    "\n",
    "#Descobrir Rth\n",
    "#Vo = 1V\n",
    "#Analise Nodal\n",
    "\n",
    "#i1 - Ix/2 = 0\n",
    "    #v1/5 - Ix/2 = 0\n",
    "    #Ix = (v1 - 1)/3\n",
    "    #v1/5 - (v1 - 1)/6 = 0\n",
    "    #v1/5 - v1/6 = -1/6\n",
    "    #v1/30 = -1/6\n",
    "    #v1 = -5\n",
    "#Ix = (v1 - 1)/3 = -6/3 = -2 A\n",
    "#i2 = 1/4 A\n",
    "#io = -Ix + i2 = 9/4 A\n",
    "\n",
    "#Rth = 1/(9/4) = 4/9\n",
    "Rth = 4/9\n",
    "print(\"Resistencia Rth:\",Rth)\n",
    "\n",
    "#Descobrir Vth\n",
    "#Analise de Malhas\n",
    "#-6 + 5i1 + 3Ix + 4Ix = 0\n",
    "    #5i1 + 7Ix = 6\n",
    "#3Ix/2 + i1 = Ix\n",
    "    #Ix/2 + i1 = 0\n",
    "    #2i1 + Ix = 0\n",
    "\n",
    "coef = np.matrix(\"5 7;2 1\")\n",
    "res = np.matrix(\"6;0\")\n",
    "I = np.linalg.inv(coef)*res\n",
    "Ix = float(I[1])\n",
    "Vth = 4*Ix\n",
    "print(\"Tensão Vth:\",Vth,\"V\")"
   ]
  },
  {
   "attachments": {},
   "cell_type": "markdown",
   "metadata": {},
   "source": [
    "**Exemplo 4.10**\n",
    "\n",
    "Determine o equivalente de Thévenin do circuito da Figura 4.35a nos terminais a-b.\n",
    "\n",
    "![](https://i.imgur.com/56u4stz.png)"
   ]
  },
  {
   "cell_type": "code",
   "execution_count": 18,
   "metadata": {},
   "outputs": [
    {
     "name": "stdout",
     "output_type": "stream",
     "text": [
      "Exemplo 4.10\n",
      "Resistencia Rth: -4\n",
      "Tensao Vth: 0 V\n"
     ]
    }
   ],
   "source": [
    "print(\"Exemplo 4.10\")\n",
    "#vab = -vo = -1 V\n",
    "#i1 = 1/4 A\n",
    "#ix = 1/2 A\n",
    "#i0 = 2ix - ix - i1 = 1 - 1/2 - 1/4 = 1/4 A\n",
    "#Rth = -1/(1/4) = -4\n",
    "Rth = -4\n",
    "print(\"Resistencia Rth:\", Rth)\n",
    "print(\"Tensao Vth:\",0,\"V\")"
   ]
  },
  {
   "attachments": {},
   "cell_type": "markdown",
   "metadata": {},
   "source": [
    "**Problema Prático 4.10**\n",
    "\n",
    "Obtenha o equivalente de Thévenin do circuito da Figura 4.36.\n",
    "\n",
    "![](https://i.imgur.com/da7PGV9.png)"
   ]
  },
  {
   "cell_type": "code",
   "execution_count": 20,
   "metadata": {},
   "outputs": [
    {
     "name": "stdout",
     "output_type": "stream",
     "text": [
      "Problema Prático 4.10\n",
      "Tensao Vth: 0 V\n",
      "Resistencia Rth -7.5\n"
     ]
    }
   ],
   "source": [
    "print(\"Problema Prático 4.10\")\n",
    "#iab = 1 A\n",
    "#-vx + 10i1 + 4vx + 15(i1 - iab) = 0\n",
    "    #3vx + 25i1 - 15iab = 0\n",
    "    #vx = -5i1\n",
    "    #-15i1 + 25i1 = 15\n",
    "    #10i1 = 15\n",
    "    #i1 = 1,5 A = 3/2 A\n",
    "#vx = -5i1 = -7,5 V = -15/2 V\n",
    "#vdep = 4*vx = -30V\n",
    "\n",
    "#vab = vo = 15(i1 - iab) = 15/2 = 7,5V\n",
    "#Rth = vo/(-iab) = -7,5\n",
    "Rth = -7.5\n",
    "print(\"Tensao Vth:\",0,\"V\")\n",
    "print(\"Resistencia Rth\",Rth)"
   ]
  }
 ],
 "metadata": {
  "kernelspec": {
   "display_name": "Python 3",
   "language": "python",
   "name": "python3"
  },
  "language_info": {
   "codemirror_mode": {
    "name": "ipython",
    "version": 3
   },
   "file_extension": ".py",
   "mimetype": "text/x-python",
   "name": "python",
   "nbconvert_exporter": "python",
   "pygments_lexer": "ipython3",
   "version": "3.5.3"
  }
 },
 "nbformat": 4,
 "nbformat_minor": 2
}
