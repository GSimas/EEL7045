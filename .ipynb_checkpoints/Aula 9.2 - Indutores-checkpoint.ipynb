{
 "cells": [
  {
   "cell_type": "markdown",
   "metadata": {},
   "source": [
    "# Indutores\n",
    "\n",
    "Jupyter Notebook desenvolvido por [Gustavo S.S.](https://github.com/GSimas)\n",
    "\n",
    "**Um indutor consiste em uma bobina de fio condutor.**\n",
    "\n",
    "Qualquer condutor de corrente elétrica possui propriedades indutivas e\n",
    "pode ser considerado um indutor. Mas, para aumentar o efeito indutivo, um indutor\n",
    "usado na prática é normalmente formado em uma bobina cilíndrica com\n",
    "várias espiras de fio condutor, conforme ilustrado na Figura 6.21.\n",
    "\n",
    "![](http://i.imgur.com/BLZCNms.png)\n",
    "\n",
    "Ao passar uma corrente através de um indutor, constata-se que a tensão nele\n",
    "é diretamente proporcional à taxa de variação da corrente\n",
    "\n",
    "\\begin{align}\n",
    "{\\Large v = L \\frac{di}{dt}}\n",
    "\\end{align}\n",
    "\n",
    "onde **L** é a constante de proporcionalidade denominada indutância do indutor.\n",
    "\n",
    "**Indutância é a propriedade segundo a qual um indutor se opõe à mudança\n",
    "do fluxo de corrente através dele, medida em henrys (H).**\n",
    "\n",
    "A indutância de um indutor depende de suas dimensões físicas e de sua\n",
    "construção.\n",
    "\n",
    "\\begin{align}\n",
    "{\\Large  L = \\frac{N^2 µ A}{l}}\n",
    "\\end{align}\n",
    "\n",
    "onde N é o número de espiras, / é o comprimento, A é a área da seção transversal\n",
    "e µ é a permeabilidade magnética do núcleo\n",
    "\n",
    "![](http://i.imgur.com/RZdKYr1.png)\n",
    "\n",
    "**Relação Tensão-Corrente:**\n",
    "\n",
    "\\begin{align}\n",
    "{\\Large i = \\frac{1}{L} \\int_{t_0}^{t} v(τ)dτ + i(t_0)}\n",
    "\\end{align}\n",
    "\n",
    "**Potência Liberada pelo Indutor:**\n",
    "\n",
    "\\begin{align}\n",
    "{\\Large p = vi = (L \\frac{di}{dt})i}\n",
    "\\end{align}\n",
    "\n",
    "**Energia Armazenada:**\n",
    "\n",
    "\\begin{align}\n",
    "{\\Large w = \\int_{-∞}^{t} p(τ)dτ = L \\int_{-∞}^{t} \\frac{di}{dτ} idτ = L \\int_{-∞}^{t} i di}\n",
    "\\end{align}\n",
    "\n",
    "\\begin{align}\n",
    "{\\Large w = \\frac{1}{2} Li^2}\n",
    "\\end{align}\n",
    "\n",
    "![](http://i.imgur.com/c77bJPU.png)\n",
    "\n",
    "1. **Um indutor atua como um curto-circuito em CC.**\n",
    "\n",
    "2. A corrente através de um indutor não pode mudar instantaneamente.\n",
    "\n",
    "3. **Assim como o capacitor ideal, o indutor ideal não dissipa energia; a energia armazenada nele pode ser recuperada posteriormente. O indutor absorve potência do circuito quando está armazenando energia e libera potência para o circuito quando retorna a energia previamente armazenada.**\n",
    "\n",
    "4. Um indutor real, não ideal, tem um componente resistivo significativo, conforme pode ser visto na Figura 6.26. Isso se deve ao fato de que o indutor é feito de um material condutor como cobre, que possui certa resistência denominada **resistência de enrolamento Rw**, que aparece em série com a indutância do indutor. A presença de Rw o torna tanto um dispositivo armazenador de energia como um dispositivo dissipador de energia. Uma vez que Rw normalmente é **muito pequena**, ela é ignorada na maioria dos casos. O indutor não ideal também tem uma **capacitância de enrolamento Cw** em decorrência do acoplamento capacitivo entre as bobinas condutoras. A Cw é muito pequena e pode ser ignorada na maioria dos casos, exceto em altas frequências\n",
    "\n",
    "![](http://i.imgur.com/vdm0d6N.png)"
   ]
  },
  {
   "cell_type": "markdown",
   "metadata": {},
   "source": [
    "**Exemplo 6.8**\n",
    "\n",
    "A corrente que passa por um indutor de 0,1 H é i(t) = 10te–5t A. Calcule a tensão no\n",
    "indutor e a energia armazenada nele."
   ]
  },
  {
   "cell_type": "code",
   "execution_count": 2,
   "metadata": {},
   "outputs": [
    {
     "name": "stdout",
     "output_type": "stream",
     "text": [
      "Exemplo 6.8\n",
      "Tensão no indutor: -5.0*t*exp(-5*t) + 1.0*exp(-5*t) V\n",
      "Energia: 5.0*t**2*exp(-10*t) J\n"
     ]
    }
   ],
   "source": [
    "print(\"Exemplo 6.8\")\n",
    "\n",
    "import numpy as np\n",
    "from sympy import *\n",
    "\n",
    "L = 0.1\n",
    "t = symbols('t')\n",
    "i = 10*t*exp(-5*t)\n",
    "\n",
    "v = L*diff(i,t)\n",
    "\n",
    "w = (L*i**2)/2\n",
    "\n",
    "print(\"Tensão no indutor:\",v,\"V\")\n",
    "print(\"Energia:\",w,\"J\")"
   ]
  },
  {
   "cell_type": "markdown",
   "metadata": {},
   "source": [
    "**Problema Prático 6.8**\n",
    "\n",
    "Se a corrente através de um indutor de 1 mH for i(t) = 60 cos(100t) mA, determine a tensão entre os terminais e a energia armazenada."
   ]
  },
  {
   "cell_type": "code",
   "execution_count": 3,
   "metadata": {},
   "outputs": [
    {
     "name": "stdout",
     "output_type": "stream",
     "text": [
      "Problema Prático 6.8\n",
      "Tensão: -0.006*sin(100*t) V\n",
      "Energia: 1.8e-6*cos(100*t)**2 J\n"
     ]
    }
   ],
   "source": [
    "print(\"Problema Prático 6.8\")\n",
    "\n",
    "m = 10**-3 #definicao de mili\n",
    "L = 1*m\n",
    "i = 60*cos(100*t)*m\n",
    "v = L*diff(i,t)\n",
    "w = (L*i**2)/2\n",
    "\n",
    "print(\"Tensão:\",v,\"V\")\n",
    "print(\"Energia:\",w,\"J\")"
   ]
  },
  {
   "cell_type": "markdown",
   "metadata": {},
   "source": [
    "**Exemplo 6.9**\n",
    "\n",
    "Determine a corrente através de um indutor de 5 H se a tensão nele for\n",
    "\n",
    "v(t):\n",
    "\n",
    "    30t^2, t>0\n",
    "    \n",
    "        0, t<0\n",
    "        \n",
    "Determine, também, a energia armazenada no instante t = 5s. Suponha i(v)>0."
   ]
  },
  {
   "cell_type": "code",
   "execution_count": 4,
   "metadata": {},
   "outputs": [
    {
     "name": "stdout",
     "output_type": "stream",
     "text": [
      "Exemplo 6.9\n",
      "Corrente: 2*t**3 A\n",
      "Energia: 156250 J\n"
     ]
    }
   ],
   "source": [
    "print(\"Exemplo 6.9\")\n",
    "\n",
    "L = 5\n",
    "v = 30*t**2\n",
    "\n",
    "i = integrate(v,t)/L\n",
    "\n",
    "print(\"Corrente:\",i,\"A\")\n",
    "\n",
    "w = L*(i.subs(t,5)**2)/2\n",
    "\n",
    "print(\"Energia:\",w,\"J\")"
   ]
  },
  {
   "cell_type": "markdown",
   "metadata": {},
   "source": [
    "**Problema Prático 6.9**\n",
    "\n",
    "A tensão entre os terminais de um indutor de 2 H é v = 10(1 – t) V. Determine a corrente\n",
    "que passa através dele no instante t = 4 s e a energia armazenada nele no instante t = 4s.\n",
    "Suponha i(0) = 2 A."
   ]
  },
  {
   "cell_type": "code",
   "execution_count": 11,
   "metadata": {},
   "outputs": [
    {
     "name": "stdout",
     "output_type": "stream",
     "text": [
      "Problema Prático 6.9\n",
      "Corrente no instante t = 4s: -18 A\n",
      "Energia no instante t = 4s: 320 J\n"
     ]
    }
   ],
   "source": [
    "print(\"Problema Prático 6.9\")\n",
    "\n",
    "L = 2\n",
    "v = 10*(1 - t)\n",
    "i0 = 2\n",
    "\n",
    "i = integrate(v,t)/L + i0\n",
    "i4 = i.subs(t,4)\n",
    "\n",
    "print(\"Corrente no instante t = 4s:\",i4,\"A\")\n",
    "\n",
    "p = v*i\n",
    "\n",
    "w = integrate(p,(t,0,4))\n",
    "\n",
    "print(\"Energia no instante t = 4s:\",w,\"J\")"
   ]
  },
  {
   "attachments": {},
   "cell_type": "markdown",
   "metadata": {},
   "source": [
    "**Exemplo 6.10**\n",
    "\n",
    "Considere o circuito da Figura 6.27a. Em CC, determine: \n",
    "\n",
    "(a) i, vC e iL; \n",
    "\n",
    "(b) a energia armazenada no capacitor e no indutor.\n",
    "\n",
    "![](https://i.imgur.com/7tnCVaB.png)"
   ]
  },
  {
   "cell_type": "code",
   "execution_count": 13,
   "metadata": {},
   "outputs": [
    {
     "name": "stdout",
     "output_type": "stream",
     "text": [
      "Exemplo 6.10\n",
      "Corrente i: 2.0 A\n",
      "Tensão Vc: 10.0 V\n",
      "Corrente il: 2.0 A\n",
      "Energia no Indutor: 4.0 J\n",
      "Energia no Capacitor: 50.0 J\n"
     ]
    }
   ],
   "source": [
    "print(\"Exemplo 6.10\")\n",
    "\n",
    "Req = 1 + 5\n",
    "Vf = 12\n",
    "C = 1\n",
    "L = 2\n",
    "\n",
    "i = Vf/Req\n",
    "\n",
    "print(\"Corrente i:\",i,\"A\")\n",
    "\n",
    "#vc = tensao sobre o capacitor = tensao sobre resistore de 5ohms\n",
    "vc = 5*i\n",
    "\n",
    "print(\"Tensão Vc:\",vc,\"V\")\n",
    "\n",
    "print(\"Corrente il:\",i,\"A\")\n",
    "\n",
    "wl = (L*i**2)/2\n",
    "wc = (C*vc**2)/2\n",
    "\n",
    "print(\"Energia no Indutor:\",wl,\"J\")\n",
    "print(\"Energia no Capacitor:\",wc,\"J\")"
   ]
  },
  {
   "attachments": {},
   "cell_type": "markdown",
   "metadata": {},
   "source": [
    "**Problema Prático 6.10**\n",
    "\n",
    "Determine vC, iL e a energia armazenada no capacitor e no indutor no circuito da Figura\n",
    "6.28 em CC.\n",
    "\n",
    "![](https://i.imgur.com/mQleYVD.png)"
   ]
  },
  {
   "cell_type": "code",
   "execution_count": 14,
   "metadata": {},
   "outputs": [
    {
     "name": "stdout",
     "output_type": "stream",
     "text": [
      "Problema Prático 6.10\n",
      "Corrente il: 7.5 A\n",
      "Tensão vC: 15.0 V\n",
      "Energia no Capacitor: 450.0 J\n",
      "Energia no Indutor: 168.75 J\n"
     ]
    }
   ],
   "source": [
    "print(\"Problema Prático 6.10\")\n",
    "\n",
    "Cf = 10\n",
    "C = 4\n",
    "L = 6\n",
    "\n",
    "il = 10*6/(6 + 2) #divisor de corrente\n",
    "vc = 2*il\n",
    "\n",
    "wl = (L*il**2)/2\n",
    "wc = (C*vc**2)/2\n",
    "\n",
    "print(\"Corrente il:\",il,\"A\")\n",
    "print(\"Tensão vC:\",vc,\"V\")\n",
    "print(\"Energia no Capacitor:\",wc,\"J\")\n",
    "print(\"Energia no Indutor:\",wl,\"J\")"
   ]
  },
  {
   "cell_type": "markdown",
   "metadata": {},
   "source": [
    "## Indutores em Série e Paralelo\n",
    "\n",
    "**A indutância equivalente de indutores conectados em série é a soma das\n",
    "indutâncias individuais.**\n",
    "\n",
    "\\begin{align}\n",
    "L_{eq} = L_1 + L_2 + ... + L_N = \\sum_{i = 1}^{N}L_i\n",
    "\\end{align}\n",
    "\n",
    "![](http://i.imgur.com/vbDHq7Q.png)\n",
    "\n",
    "**A indutância equivalente de indutores paralelos é o inverso da soma dos\n",
    "inversos das indutâncias individuais.**\n",
    "\n",
    "\\begin{align}\n",
    "L_{eq} = \\frac{1}{L_1} + \\frac{1}{L_2} + ... + \\frac{1}{L_N} = (\\sum_{i = 1}^{N} \\frac{1}{L_i})^{-1}\n",
    "\\end{align}\n",
    "\n",
    "Ou, para duas Indutâncias:\n",
    "\n",
    "\\begin{align}\n",
    "L_{eq} = \\frac{L_1 L_2}{L_1 + L_2}\n",
    "\\end{align}\n",
    "\n",
    "![](http://i.imgur.com/vlFBEML.png)\n"
   ]
  },
  {
   "attachments": {},
   "cell_type": "markdown",
   "metadata": {},
   "source": [
    "**Exemplo 6.11**\n",
    "\n",
    "Determine a indutância equivalente do circuito mostrado na Figura 6.31.\n",
    "\n",
    "![](https://i.imgur.com/5sYGsvg.png)"
   ]
  },
  {
   "cell_type": "code",
   "execution_count": 15,
   "metadata": {},
   "outputs": [
    {
     "name": "stdout",
     "output_type": "stream",
     "text": [
      "Exemplo 6.11\n",
      "Indutância Equivalente: 18.0 H\n"
     ]
    }
   ],
   "source": [
    "print(\"Exemplo 6.11\")\n",
    "\n",
    "Leq1 = 20 + 12 + 10\n",
    "Leq2 = Leq1*7/(Leq1 + 7)\n",
    "Leq3 = 4 + Leq2 + 8\n",
    "\n",
    "print(\"Indutância Equivalente:\",Leq3,\"H\")"
   ]
  },
  {
   "attachments": {},
   "cell_type": "markdown",
   "metadata": {},
   "source": [
    "**Problema Prático 6.11**\n",
    "\n",
    "Calcule a indutância equivalente para o circuito indutivo em escada da Figura 6.32.\n",
    "\n",
    "![](https://i.imgur.com/2JG9F5h.png)"
   ]
  },
  {
   "cell_type": "code",
   "execution_count": 16,
   "metadata": {},
   "outputs": [
    {
     "name": "stdout",
     "output_type": "stream",
     "text": [
      "Problema Prático 6.11\n",
      "Indutância Equivalente: 0.025000000000000005 H\n"
     ]
    }
   ],
   "source": [
    "print(\"Problema Prático 6.11\")\n",
    "\n",
    "def Leq(x,y): #definicao de funcao para calculo de duas indutancias equivalentes em paralelo\n",
    "    L = x*y/(x + y)\n",
    "    return L\n",
    "\n",
    "Leq1 = 40*m + 20*m\n",
    "Leq2 = Leq(30*m,Leq1)\n",
    "Leq3 = Leq2 + 100*m\n",
    "Leq4 = Leq(40*m,Leq3)\n",
    "Leq5 = 20*m + Leq4\n",
    "Leq6 = Leq(Leq5,50*m)\n",
    "\n",
    "print(\"Indutância Equivalente:\",Leq6,\"H\")"
   ]
  },
  {
   "attachments": {},
   "cell_type": "markdown",
   "metadata": {},
   "source": [
    "**Exemplo 6.12**\n",
    "\n",
    "Para o circuito da Figura 6.33, \n",
    "\n",
    "i(t) = 4(2 – e–10t) mA. \n",
    "\n",
    "Se i2(0) = –1 mA, determine: \n",
    "\n",
    "(a) i1(0); \n",
    "\n",
    "(b) v(t), v1(t) e v2(t); \n",
    "\n",
    "(c) i1(t) e i2(t).\n",
    "\n",
    "![](https://i.imgur.com/GRFAr0N.png)"
   ]
  },
  {
   "cell_type": "code",
   "execution_count": 23,
   "metadata": {},
   "outputs": [
    {
     "name": "stdout",
     "output_type": "stream",
     "text": [
      "Exemplo 6.12\n",
      "Corrente i1(0): 0.00500000000000000 A\n",
      "Tensão v(t): 0.2*exp(-10*t) V\n",
      "Tensão v1(t): 0.08*exp(-10*t) V\n",
      "Tensão v2(t): 0.12*exp(-10*t) V\n",
      "Corrente i1(t): 0.007 - 0.002*exp(-10*t) A\n",
      "Corrente i2(t): -0.001*exp(-10*t) A\n"
     ]
    }
   ],
   "source": [
    "print(\"Exemplo 6.12\")\n",
    "\n",
    "i = 4*(2 - exp(-10*t))*m\n",
    "i2_0 = -1*m\n",
    "\n",
    "i1_0 = i.subs(t,0) - i2_0\n",
    "\n",
    "print(\"Corrente i1(0):\",i1_0,\"A\")\n",
    "\n",
    "Leq1 = Leq(4,12)\n",
    "Leq2 = Leq1 + 2\n",
    "\n",
    "v = Leq2*diff(i,t)\n",
    "v1 = 2*diff(i,t)\n",
    "v2 = v - v1\n",
    "\n",
    "print(\"Tensão v(t):\",v,\"V\")\n",
    "print(\"Tensão v1(t):\",v1,\"V\")\n",
    "print(\"Tensão v2(t):\",v2,\"V\")\n",
    "\n",
    "i1 = integrate(v1,(t,0,t))/4 + i1_0\n",
    "i2 = integrate(v2,(t,0,t))/12 + i2_0\n",
    "\n",
    "print(\"Corrente i1(t):\",i1,\"A\")\n",
    "print(\"Corrente i2(t):\",i2,\"A\")"
   ]
  },
  {
   "attachments": {},
   "cell_type": "markdown",
   "metadata": {},
   "source": [
    "**Problema Prático 6.12**\n",
    "\n",
    "No circuito da Figura 6.34, \n",
    "\n",
    "i1(t) = 0,6e–2t A. \n",
    "\n",
    "Se i(0) = 1,4 A, determine:\n",
    "\n",
    "(a) i2(0); \n",
    "\n",
    "(b) i2(t) e i(t); \n",
    "\n",
    "(c) v1(t), v2(t) e v(t).\n",
    "\n",
    "![](https://i.imgur.com/o601yAn.png)"
   ]
  },
  {
   "cell_type": "code",
   "execution_count": 26,
   "metadata": {},
   "outputs": [
    {
     "name": "stdout",
     "output_type": "stream",
     "text": [
      "Problema Prático 6.12\n",
      "Corrente i2(0): 0.800000000000000 A\n",
      "Corrente i2(t): -0.4 + 1.2*exp(-2*t) A\n",
      "Corrente i(t): -0.4 + 1.8*exp(-2*t) A\n",
      "Tensão v1(t): -7.2*exp(-2*t) V\n",
      "Tensão v2(t): -28.8*exp(-2*t) V\n",
      "Tensão v(t): -36.0*exp(-2*t) V\n"
     ]
    }
   ],
   "source": [
    "print(\"Problema Prático 6.12\")\n",
    "\n",
    "i1 = 0.6*exp(-2*t)\n",
    "i_0 = 1.4\n",
    "\n",
    "i2_0 = i_0 - i1.subs(t,0)\n",
    "\n",
    "print(\"Corrente i2(0):\",i2_0,\"A\")\n",
    "\n",
    "v1 = 6*diff(i1,t)\n",
    "i2 = integrate(v1,(t,0,t))/3 + i2_0\n",
    "i = i1 + i2\n",
    "\n",
    "print(\"Corrente i2(t):\",i2,\"A\")\n",
    "print(\"Corrente i(t):\",i,\"A\")\n",
    "\n",
    "Leq1 = Leq(3,6)\n",
    "Leq2 = Leq1 + 8\n",
    "v = Leq2*diff(i)\n",
    "v2 = v - v1\n",
    "\n",
    "print(\"Tensão v1(t):\",v1,\"V\")\n",
    "print(\"Tensão v2(t):\",v2,\"V\")\n",
    "print(\"Tensão v(t):\",v,\"V\")"
   ]
  }
 ],
 "metadata": {
  "kernelspec": {
   "display_name": "Python 3",
   "language": "python",
   "name": "python3"
  },
  "language_info": {
   "codemirror_mode": {
    "name": "ipython",
    "version": 3
   },
   "file_extension": ".py",
   "mimetype": "text/x-python",
   "name": "python",
   "nbconvert_exporter": "python",
   "pygments_lexer": "ipython3",
   "version": "3.5.3"
  }
 },
 "nbformat": 4,
 "nbformat_minor": 2
}
