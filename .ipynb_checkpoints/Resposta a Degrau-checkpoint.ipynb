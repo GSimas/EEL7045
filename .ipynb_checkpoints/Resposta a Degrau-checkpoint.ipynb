{
 "cells": [
  {
   "cell_type": "markdown",
   "metadata": {},
   "source": [
    "# Resposta a Degrau\n",
    "Jupyter Notebook desenvolvido por [Gustavo S.S.](https://github.com/GSimas)\n",
    "\n",
    "## Resposta a um degrau de um circuito RC\n",
    "\n",
    "Quando a fonte CC de um circuito RC for aplicada repentinamente, a fonte de\n",
    "tensão ou de corrente pode ser modelada como uma função degrau, e a resposta\n",
    "é conhecida como resposta a um degrau.\n",
    "\n",
    "**A resposta a um degrau de um circuito é seu comportamento quando a\n",
    "excitação for a função degrau, que pode ser uma fonte de tensão ou de\n",
    "corrente.**\n",
    "\n",
    "\\begin{align}\n",
    "{\\Large v(0^-) = v(0^+) = V_0}\n",
    "\\end{align}"
   ]
  }
 ],
 "metadata": {
  "kernelspec": {
   "display_name": "Python 3",
   "language": "python",
   "name": "python3"
  },
  "language_info": {
   "codemirror_mode": {
    "name": "ipython",
    "version": 3
   },
   "file_extension": ".py",
   "mimetype": "text/x-python",
   "name": "python",
   "nbconvert_exporter": "python",
   "pygments_lexer": "ipython3",
   "version": "3.5.3"
  }
 },
 "nbformat": 4,
 "nbformat_minor": 2
}
