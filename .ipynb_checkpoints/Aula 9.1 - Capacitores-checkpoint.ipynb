{
 "cells": [
  {
   "cell_type": "markdown",
   "metadata": {},
   "source": [
    "Jupyter Notebook desenvolvido por [Gustavo S.S.](https://github.com/GSimas)\n",
    "\n",
    "> \"Na ciência, o crédito vai para o homem que convence o mundo,\n",
    "não para o que primeiro teve a ideia\" - Francis Darwin\n",
    "\n",
    "# Capacitores e Indutores\n",
    "\n",
    "**Contrastando com um resistor,\n",
    "que gasta ou dissipa energia de\n",
    "forma irreversível, um indutor ou\n",
    "um capacitor armazena ou libera\n",
    "energia (isto é, eles têm capacidade\n",
    "de memória).**\n",
    "\n",
    "## Capacitor\n",
    "\n",
    "Capacitor é um elemento passivo projetado para armazenar energia em seu\n",
    "campo elétrico. Um capacitor é formado por duas placas condutoras separadas por um\n",
    "isolante (ou dielétrico).\n",
    "\n",
    "![](http://i.imgur.com/zzeoMZz.png)\n",
    "\n",
    "Quando uma fonte de tensão v é conectada ao capacitor, como na Figura\n",
    "6.2, a fonte deposita uma carga positiva q sobre uma placa e uma carga negativa\n",
    "–q na outra placa. Diz-se que o capacitor armazena a carga elétrica. A quantidade\n",
    "de carga armazenada, representada por q, é diretamente proporcional à\n",
    "tensão aplicada v de modo que:\n",
    "\n",
    "\\begin{align}\n",
    "{\\Large q = Cv}\n",
    "\\end{align}\n",
    "\n",
    "**Capacitância é a razão entre a carga depositada em uma placa de um capacitor\n",
    "e a diferença de potencial entre as duas placas, medidas em farads (F).** Embora a capacitância C de um capacitor seja a razão entre a carga q por placa e a tensão aplicada v, ela não depende de q ou v, mas, sim, das dimensões físicas do capacitor\n",
    "\n",
    "\\begin{align}\n",
    "{\\Large C = \\epsilon \\frac{A}{d}}\n",
    "\\end{align}\n",
    "\n",
    "Onde **A** é a área de cada placa, **d** é a distância entre as placas e **ε** é a permissividade elétrica do material dielétrico entre as placas\n",
    "\n",
    "![](http://i.imgur.com/h4LPQhu.png)\n",
    "\n",
    "Para obter a relação corrente-tensão do capacitor, utilizamos:\n",
    "\n",
    "\\begin{align}\n",
    "{\\Large i = C \\frac{dv}{dt}}\n",
    "\\end{align}\n",
    "\n",
    "Diz-se que os capacitores que realizam a Equação acima são lineares. Para um capacitor não linear, o gráfico da relação corrente-tensão não é uma linha reta. E embora alguns capacitores sejam não lineares, a maioria é linear.\n",
    "\n",
    "![](http://i.imgur.com/FoB35Xr.png)\n",
    "\n",
    "**Relação Tensão-Corrente:**\n",
    "\n",
    "\\begin{align}\n",
    "{\\Large v(t) = \\frac{1}{C} \\int_{t_0}^{t} i(\\tau)d\\tau + v(t_0)}\n",
    "\\end{align}\n",
    "\n",
    "**A Potência Instantânea liberada para o capacitor é:**\n",
    "\n",
    "\\begin{align}\n",
    "{\\Large p = vi = Cv \\frac{dv}{dt}}\n",
    "\\end{align}\n",
    "\n",
    "**A energia armazenada no capacitor é:**\n",
    "\n",
    "\\begin{align}\n",
    "{\\Large w = \\int_{-\\infty}^{t} p(\\tau)d\\tau}\n",
    "\\\\= \n",
    "\\\\{\\Large C \\int_{-\\infty}^{t} v \\frac{dv}{d\\tau}d\\tau}\n",
    "\\\\=\n",
    "\\\\{\\Large C \\int_{v(-\\infty)}^{v(t)} vdv}\n",
    "\\\\= \n",
    "\\\\{\\Large \\frac{1}{2} Cv^2}\n",
    "\\end{align}\n",
    "\n",
    "Percebemos que v(-∞) = 0, pois o capacitor foi descarregado em t = -∞. Logo:\n",
    "\n",
    "\\begin{align}\n",
    "{\\Large w = \\frac{1}{2} Cv^2}\n",
    "\\\\\n",
    "\\\\{\\Large w = \\frac{q^2}{2C}}\n",
    "\\end{align}\n",
    "\n",
    "As quais representam a energia armazenada no campo elétrico existente entre as placas do capacitor. Essa energia pode ser recuperada, já que um capacitor ideal não pode dissipar energia. De fato, a palavra capacitor deriva da capacidade de esse elemento armazenar energia em um campo elétrico.\n",
    "\n",
    "1. **Um capacitor é um circuito aberto em CC.**\n",
    "\n",
    "2. A tensão em um capacitor não pode mudar abruptamente.\n",
    "\n",
    "3. **O capacitor ideal não dissipa energia, mas absorve potência do circuito ao armazenar energia em seu campo e retorna energia armazenada previamente ao liberar potência para o circuito.**\n",
    "\n",
    "4. Um capacitor real, não ideal, possui uma resistência de fuga em paralelo conforme pode ser observado no modelo visto na Figura 6.8. A resistência de fuga pode chegar a valores bem elevados como 100 MΩ e pode ser desprezada para a maioria das aplicações práticas.\n",
    "\n",
    "![](http://i.imgur.com/0aNcDzI.png)"
   ]
  },
  {
   "cell_type": "markdown",
   "metadata": {},
   "source": [
    "**Exemplo 6.1**\n",
    "\n",
    "a. Calcule a carga armazenada em um capacitor de 3 pF com 20 V entre seus terminais.\n",
    "\n",
    "b. Determine a energia armazenada no capacitor."
   ]
  },
  {
   "cell_type": "code",
   "execution_count": 7,
   "metadata": {},
   "outputs": [
    {
     "name": "stdout",
     "output_type": "stream",
     "text": [
      "Exemplo 6.1\n",
      "Carga armazenada: 6e-11 C\n",
      "Energia armazenada: 6e-10 J\n"
     ]
    }
   ],
   "source": [
    "print(\"Exemplo 6.1\")\n",
    "\n",
    "C = 3*(10**(-12))\n",
    "V = 20\n",
    "q = C*V\n",
    "\n",
    "print(\"Carga armazenada:\",q,\"C\")\n",
    "\n",
    "w = q**2/(2*C)\n",
    "\n",
    "print(\"Energia armazenada:\",w,\"J\")"
   ]
  },
  {
   "cell_type": "markdown",
   "metadata": {},
   "source": [
    "**Problema Prático 6.1**\n",
    "\n",
    "Qual é a tensão entre os terminais de um capacitor de 4,5 uF se a carga em uma placa\n",
    "for 0,12 mC? Quanta energia é armazenada?"
   ]
  },
  {
   "cell_type": "code",
   "execution_count": 9,
   "metadata": {},
   "outputs": [
    {
     "name": "stdout",
     "output_type": "stream",
     "text": [
      "Problema Prático 6.1\n",
      "Tensão no capacitor: 26.666666666666668 V\n",
      "Energia armazenada: 0.0015999999999999999 J\n"
     ]
    }
   ],
   "source": [
    "print(\"Problema Prático 6.1\")\n",
    "\n",
    "C = 4.5*10**-6\n",
    "q = 0.12*10**-3\n",
    "V = q/C\n",
    "\n",
    "print(\"Tensão no capacitor:\",V,\"V\")\n",
    "\n",
    "w = q**2/(2*C)\n",
    "\n",
    "print(\"Energia armazenada:\",w,\"J\")"
   ]
  },
  {
   "cell_type": "markdown",
   "metadata": {},
   "source": [
    "**Exemplo 6.2**\n",
    "\n",
    "A tensão entre os terminais de um capacitor de 5 uF é:\n",
    "\n",
    "v(t) 10 cos 6.000t V\n",
    "\n",
    "Calcule a corrente que passa por ele."
   ]
  },
  {
   "cell_type": "code",
   "execution_count": 16,
   "metadata": {},
   "outputs": [
    {
     "name": "stdout",
     "output_type": "stream",
     "text": [
      "Exemplo 6.2\n",
      "Corrente que passa no capacitor: -0.3*sin(6000*t) A\n"
     ]
    }
   ],
   "source": [
    "print(\"Exemplo 6.2\")\n",
    "\n",
    "import numpy as np\n",
    "from sympy import *\n",
    "\n",
    "C = 5*10**-6\n",
    "t = symbols('t')\n",
    "v = 10*cos(6000*t)\n",
    "i = C*diff(v,t)\n",
    "\n",
    "print(\"Corrente que passa no capacitor:\",i,\"A\")"
   ]
  },
  {
   "cell_type": "markdown",
   "metadata": {},
   "source": [
    "**Problema Prático 6.2**\n",
    "\n",
    "Se um capacitor de 10 uF for conectado a uma fonte de tensão com:\n",
    "\n",
    "v(t) 75 sen 2.000t V\n",
    "\n",
    "determine a corrente através do capacitor."
   ]
  },
  {
   "cell_type": "code",
   "execution_count": 15,
   "metadata": {},
   "outputs": [
    {
     "name": "stdout",
     "output_type": "stream",
     "text": [
      "Problema Prático 6.2\n",
      "Corrente: 1.5*cos(2000*t) A\n"
     ]
    }
   ],
   "source": [
    "print(\"Problema Prático 6.2\")\n",
    "\n",
    "C = 10*10**-6\n",
    "v = 75*sin(2000*t)\n",
    "i = C * diff(v,t)\n",
    "\n",
    "print(\"Corrente:\",i,\"A\")"
   ]
  },
  {
   "cell_type": "markdown",
   "metadata": {},
   "source": [
    "**Exemplo 6.3**\n",
    "\n",
    "Determine a tensão através de um capacitor de 2 uF se a corrente através dele for\n",
    "\n",
    "i(t) 6e^-3.000t mA\n",
    "\n",
    "Suponha que a tensão inicial no capacitor seja igual a zero."
   ]
  },
  {
   "cell_type": "code",
   "execution_count": 23,
   "metadata": {},
   "outputs": [
    {
     "name": "stdout",
     "output_type": "stream",
     "text": [
      "Exemplo 6.3\n",
      "Tensão no capacitor: 1.0 - 1.0*exp(-3000*t) V\n"
     ]
    }
   ],
   "source": [
    "print(\"Exemplo 6.3\")\n",
    "\n",
    "C = 2*10**-6\n",
    "\n",
    "i = 6*exp(-3000*t)*10**-3\n",
    "v = integrate(i,(t,0,t))\n",
    "v = v/C\n",
    "\n",
    "print(\"Tensão no capacitor:\",v,\"V\")"
   ]
  },
  {
   "cell_type": "markdown",
   "metadata": {},
   "source": [
    "**Problema Prático 6.3**\n",
    "\n",
    "A corrente contínua através de um capacitor de 100 uF é:\n",
    "\n",
    "i(t) = 50 sen(120pi*t) mA. \n",
    "\n",
    "Calcule a tensão nele nos instantes t = 1 ms e t = 5 ms. Considere v(0) = 0."
   ]
  },
  {
   "cell_type": "code",
   "execution_count": 26,
   "metadata": {},
   "outputs": [
    {
     "name": "stdout",
     "output_type": "stream",
     "text": [
      "Problema Prático 6.3\n",
      "Tensão no capacitor para t = 1ms: 0.0931368282680687 V\n",
      "Tensão no capacitor para t = 5ms: 1.73613771038391 V\n"
     ]
    }
   ],
   "source": [
    "print(\"Problema Prático 6.3\")\n",
    "\n",
    "C = 100*10**-6\n",
    "i = 50*sin(120*np.pi*t)*10**-3\n",
    "\n",
    "v = integrate(i,(t,0,0.001))\n",
    "v = v/C\n",
    "\n",
    "print(\"Tensão no capacitor para t = 1ms:\",v,\"V\")\n",
    "\n",
    "v = integrate(i,(t,0,0.005))\n",
    "v = v/C\n",
    "\n",
    "print(\"Tensão no capacitor para t = 5ms:\",v,\"V\")"
   ]
  },
  {
   "cell_type": "markdown",
   "metadata": {},
   "source": [
    "**Exemplo 6.4**\n",
    "\n",
    "Determine a corrente através de um capacitor de 200 mF cuja tensão é mostrada na\n",
    "Figura 6.9.\n",
    "\n",
    "![](![image.png](attachment:image.png))"
   ]
  },
  {
   "cell_type": "code",
   "execution_count": 27,
   "metadata": {},
   "outputs": [
    {
     "name": "stdout",
     "output_type": "stream",
     "text": [
      "Exemplo 6.4\n",
      "Corrente para 0<t<1: 0.0100000000000000 A\n",
      "Corrente para 1<t<3: -0.0100000000000000 A\n",
      "Corrente para 3<t<4: 0.0100000000000000 A\n"
     ]
    }
   ],
   "source": [
    "print(\"Exemplo 6.4\")\n",
    "\n",
    "#v(t) = 50t, 0<t<1\n",
    "#v(t) = 100 - 50t, 1<t<3\n",
    "#v(t) = -200 + 50t, 3<t<4\n",
    "#v(t) = 0, caso contrario\n",
    "\n",
    "C = 200*10**-6\n",
    "\n",
    "v1 = 50*t\n",
    "v2 = 100 - 50*t\n",
    "v3 = -200 + 50*t\n",
    "\n",
    "i1 = C*diff(v1,t)\n",
    "i2 = C*diff(v2,t)\n",
    "i3 = C*diff(v3,t)\n",
    "\n",
    "print(\"Corrente para 0<t<1:\",i1,\"A\")\n",
    "print(\"Corrente para 1<t<3:\",i2,\"A\")\n",
    "print(\"Corrente para 3<t<4:\",i3,\"A\")"
   ]
  },
  {
   "cell_type": "markdown",
   "metadata": {},
   "source": [
    "**Problema Prático 6.4**\n",
    "\n",
    "Um capacitor inicialmente descarregado de 1 mF possui a corrente mostrada na Figura 6.11 entre seus terminais. Calcule a tensão entre seus terminais nos instantes t = 2 ms\n",
    "e t = 5 ms.\n",
    "\n",
    "![](https://i.imgur.com/P5GpxMV.png)"
   ]
  },
  {
   "cell_type": "code",
   "execution_count": 42,
   "metadata": {},
   "outputs": [
    {
     "name": "stdout",
     "output_type": "stream",
     "text": [
      "Problema Prático 6.4\n",
      "Tensão para t=2ms: 0.000100000000000000 V\n",
      "Tensão para t=5ms: 0.500000000000000 V\n"
     ]
    }
   ],
   "source": [
    "print(\"Problema Prático 6.4\")\n",
    "\n",
    "C = 1*10**-3\n",
    "\n",
    "i = 50*t*10**-3\n",
    "v = integrate(i,(t,0,0.002))\n",
    "v = v/C\n",
    "\n",
    "print(\"Tensão para t=2ms:\",v,\"V\")\n",
    "\n",
    "i = 100*10**-3\n",
    "v = integrate(i,(t,0,0.005))\n",
    "v = v/C\n",
    "\n",
    "print(\"Tensão para t=5ms:\",v,\"V\")"
   ]
  },
  {
   "cell_type": "markdown",
   "metadata": {},
   "source": [
    "**Exemplo 6.5**\n",
    "\n",
    "Obtenha a energia armazenada em cada capacitor na Figura 6.12a em condições\n",
    "de CC.\n",
    "\n",
    "![](https://i.imgur.com/hxqJF8A.png)"
   ]
  },
  {
   "cell_type": "code",
   "execution_count": 46,
   "metadata": {},
   "outputs": [
    {
     "name": "stdout",
     "output_type": "stream",
     "text": [
      "Exemplo 6.5\n",
      "Energia do Capacitor 1: 0.016 J\n",
      "Energia do Capacitor 2: 0.128 J\n"
     ]
    }
   ],
   "source": [
    "print(\"Exemplo 6.5\")\n",
    "\n",
    "C1 = 2*10**-3\n",
    "C2 = 4*10**-3\n",
    "\n",
    "I1 = (6*10**-3)*(3000)/(3000 + 2000 + 4000) #corrente que passa no resistor de 2k\n",
    "Vc1 = I1*2000 # tensao sobre o cap1 = tensao sobre o resistor 2k\n",
    "wc1 = (C1*Vc1**2)/2\n",
    "\n",
    "print(\"Energia do Capacitor 1:\",wc1,\"J\")\n",
    "\n",
    "Vc2 = I1*4000\n",
    "wc2 = (C2*Vc2**2)/2\n",
    "\n",
    "print(\"Energia do Capacitor 2:\",wc2,\"J\")"
   ]
  },
  {
   "cell_type": "markdown",
   "metadata": {},
   "source": [
    "**Problema Prático 6.5**\n",
    "\n",
    "Em condições CC, determine a energia armazenada nos capacitores da Figura 6.13.\n",
    "\n",
    "![](https://i.imgur.com/Eb480T4.png)"
   ]
  },
  {
   "cell_type": "code",
   "execution_count": 47,
   "metadata": {},
   "outputs": [
    {
     "name": "stdout",
     "output_type": "stream",
     "text": [
      "Problema Prático 6.5\n",
      "Energia no Capacitor 1: 0.020249999999999997 J\n",
      "Energia no Capacitor 2: 0.0033749999999999995 J\n"
     ]
    }
   ],
   "source": [
    "print(\"Problema Prático 6.5\")\n",
    "\n",
    "C1 = 20*10**-6\n",
    "C2 = 30*10**-6\n",
    "Vf = 50 #tensao da fonte\n",
    "Req = 1000 + 3000 + 6000\n",
    "\n",
    "Vc1 = Vf*(3000+6000)/Req\n",
    "Vc2 = Vf*3000/Req\n",
    "\n",
    "wc1 = (C1*Vc1**2)/2\n",
    "wc2 = (C2*Vc2**2)/2\n",
    "\n",
    "print(\"Energia no Capacitor 1:\",wc1,\"J\")\n",
    "print(\"Energia no Capacitor 2:\",wc2,\"J\")"
   ]
  },
  {
   "cell_type": "markdown",
   "metadata": {},
   "source": [
    "## Capacitores em Série e Paralelo\n",
    "\n",
    "### Paralelo\n",
    "**A capacitância equivalente de N capacitores ligados em paralelo é a soma\n",
    "de suas capacitâncias individuais.**\n",
    "\n",
    "\\begin{align}\n",
    "{\\Large C_{eq} = C_1 + C_2 + ... + C_N = \\sum_{i=1}^{N} C_i}\n",
    "\\end{align}\n",
    "\n",
    "![](http://i.imgur.com/yBY6g85.png)\n",
    "\n",
    "### Série\n",
    "\n",
    "**A capacitância equivalente dos capacitores associados em série é o inverso\n",
    "da soma dos inversos das capacitâncias individuais.**\n",
    "\n",
    "\\begin{align}\n",
    "{\\Large \\frac{1}{C_{eq}} = \\frac{1}{C_1} + \\frac{1}{C_2} + ... + \\frac{1}{C_N}}\n",
    "\\end{align}\n",
    "\n",
    "\\begin{align}\n",
    "{\\Large C_{eq} = \\frac{1}{\\sum_{i=1}^{N} \\frac{1}{C_i}}}\n",
    "\\end{align}\n",
    "\n",
    "\\begin{align}\n",
    "\\\\{\\Large C_{eq} = (\\sum_{i=1}^{N} (C_i)^{-1})^{-1}}\n",
    "\\end{align}\n",
    "\n",
    "![](http://i.imgur.com/xHYTv3T.png)\n",
    "\n",
    "Para 2 Capacitores:\n",
    "\n",
    "\\begin{align}\n",
    "{\\Large C_{eq} = \\frac{C_1 C_2}{C_1 + C_2}}\n",
    "\\end{align}"
   ]
  },
  {
   "cell_type": "markdown",
   "metadata": {},
   "source": [
    "**Exemplo 6.6**\n",
    "\n",
    "Determine a capacitância equivalente vista entre os terminais a-b do circuito da\n",
    "Figura 6.16.\n",
    "\n",
    "![](https://i.imgur.com/bloVxu8.png)"
   ]
  },
  {
   "cell_type": "code",
   "execution_count": 48,
   "metadata": {},
   "outputs": [
    {
     "name": "stdout",
     "output_type": "stream",
     "text": [
      "Exemplo 6.6\n",
      "Capacitância Equivalente: 1.9999999999999998e-05 F\n"
     ]
    }
   ],
   "source": [
    "print(\"Exemplo 6.6\")\n",
    "\n",
    "u = 10**-6 #definicao de micro\n",
    "Ceq1 = (20*u*5*u)/((20 + 5)*u)\n",
    "Ceq2 = Ceq1 + 6*u + 20*u\n",
    "Ceq3 = (Ceq2*60*u)/(Ceq2 + 60*u)\n",
    "\n",
    "print(\"Capacitância Equivalente:\",Ceq3,\"F\")"
   ]
  },
  {
   "cell_type": "markdown",
   "metadata": {},
   "source": [
    "**Problema Prático 6.6**\n",
    "\n",
    "Determine a capacitância equivalente nos terminais do circuito da Figura 6.17.\n",
    "\n",
    "![](https://i.imgur.com/I3KuSlr.png)"
   ]
  },
  {
   "cell_type": "code",
   "execution_count": 49,
   "metadata": {},
   "outputs": [
    {
     "name": "stdout",
     "output_type": "stream",
     "text": [
      "Problema Prático 6.6\n",
      "Capacitância Equivalente: 3.9999999999999996e-05 F\n"
     ]
    }
   ],
   "source": [
    "print(\"Problema Prático 6.6\")\n",
    "\n",
    "Ceq1 = (60*u*120*u)/((60 + 120)*u)\n",
    "Ceq2 = 20*u + Ceq1\n",
    "Ceq3 = 50*u + 70*u\n",
    "Ceq4 = (Ceq2 * Ceq3)/(Ceq2 + Ceq3)\n",
    "\n",
    "print(\"Capacitância Equivalente:\",Ceq4,\"F\")"
   ]
  },
  {
   "cell_type": "markdown",
   "metadata": {},
   "source": [
    "**Exemplo 6.7**\n",
    "\n",
    "Para o circuito da Figura 6.18, determine a tensão em cada capacitor.\n",
    "\n",
    "![](https://i.imgur.com/lHM05HP.png)"
   ]
  },
  {
   "cell_type": "code",
   "execution_count": 53,
   "metadata": {},
   "outputs": [
    {
     "name": "stdout",
     "output_type": "stream",
     "text": [
      "Exemplo 6.7\n",
      "Capacitância Equivalente: 0.009999999999999998 F\n",
      "Tensão v1: 14.999999999999996 V\n",
      "Tensão v2: 9.999999999999998 V\n",
      "Tensão v3: 5.000000000000005 V\n"
     ]
    }
   ],
   "source": [
    "print(\"Exemplo 6.7\")\n",
    "\n",
    "m = 10**-3\n",
    "Vf = 30\n",
    "\n",
    "Ceq1 = 40*m + 20*m\n",
    "Ceq2 = 1/(1/(20*m) + 1/(30*m) + 1/(Ceq1))\n",
    "\n",
    "print(\"Capacitância Equivalente:\",Ceq2,\"F\")\n",
    "\n",
    "q = Ceq2*Vf\n",
    "\n",
    "v1 = q/(20*m)\n",
    "v2 = q/(30*m)\n",
    "v3 = Vf - v1 - v2\n",
    "\n",
    "print(\"Tensão v1:\",v1,\"V\")\n",
    "print(\"Tensão v2:\",v2,\"V\")\n",
    "print(\"Tensão v3:\",v3,\"V\")"
   ]
  },
  {
   "cell_type": "markdown",
   "metadata": {},
   "source": [
    "**Problema Prático 6.7**\n",
    "\n",
    "Determine a tensão em cada capacitor na Figura 6.20.\n",
    "\n",
    "![](https://i.imgur.com/fGoHyWu.png)"
   ]
  },
  {
   "cell_type": "code",
   "execution_count": 61,
   "metadata": {},
   "outputs": [
    {
     "name": "stdout",
     "output_type": "stream",
     "text": [
      "Problema Prático 6.7\n",
      "Capacitância Equivalente: 1.9999999999999998e-05 F\n",
      "Tensão v1: 45.0 V\n",
      "Tensão v2: 45.0 V\n",
      "Tensão v3: 15.000000000000002 V\n",
      "Tensão v4: 30.000000000000004 V\n"
     ]
    }
   ],
   "source": [
    "print(\"Problema Prático 6.7\")\n",
    "\n",
    "Vf = 90\n",
    "\n",
    "Ceq1 = (30*u * 60*u)/(30*u + 60*u)\n",
    "Ceq2 = Ceq1 + 20*u\n",
    "Ceq3 = (40*u * Ceq2)/(40*u + Ceq2)\n",
    "\n",
    "print(\"Capacitância Equivalente:\",Ceq3,\"F\")\n",
    "\n",
    "q1 = Ceq3*Vf\n",
    "\n",
    "v1 = q1/(40*u)\n",
    "v2 = Vf - v1\n",
    "\n",
    "q3 = Ceq1*v2\n",
    "\n",
    "v3 = q3/(60*u)\n",
    "v4 = q3/(30*u)\n",
    "\n",
    "print(\"Tensão v1:\",v1,\"V\")\n",
    "print(\"Tensão v2:\",v2,\"V\")\n",
    "print(\"Tensão v3:\",v3,\"V\")\n",
    "print(\"Tensão v4:\",v4,\"V\")"
   ]
  }
 ],
 "metadata": {
  "kernelspec": {
   "display_name": "Python 3",
   "language": "python",
   "name": "python3"
  },
  "language_info": {
   "codemirror_mode": {
    "name": "ipython",
    "version": 3
   },
   "file_extension": ".py",
   "mimetype": "text/x-python",
   "name": "python",
   "nbconvert_exporter": "python",
   "pygments_lexer": "ipython3",
   "version": "3.5.3"
  }
 },
 "nbformat": 4,
 "nbformat_minor": 2
}
