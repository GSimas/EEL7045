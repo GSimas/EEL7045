{
 "cells": [
  {
   "attachments": {
    "image.png": {
     "image/png": "[encoded data removed]"
    }
   },
   "cell_type": "markdown",
   "metadata": {},
   "source": [
    "# Aula 6 - Superposição\n",
    "\n",
    "Jupyter Notebook desenvolvido por [Gustavo S.S.](https://github.com/GSimas)\n",
    "\n",
    "> \"O seu sucesso como engenheiro será diretamente proporcional à sua habilidade em se comunicar!\" - Charles K. Alexander\n",
    "\n",
    "## Análise de Malhas x Análise Nodal\n",
    "As redes que contêm\n",
    "muitos elementos conectados em série, fontes de tensão ou supermalhas são\n",
    "mais adequadas para análise de malhas, enquanto as redes com elementos associados\n",
    "em paralelo, fontes de corrente ou supernós são mais adequadas para\n",
    "análise nodal.\n",
    "\n",
    "**O segredo é selecionar o método que resulta\n",
    "no menor número de equações.**\n",
    "\n",
    "Para redes não planares, a análise nodal é a única opção,\n",
    "pois a análise de malhas se aplica apenas a redes planares. Da mesma forma,\n",
    "a análise nodal é mais fácil de se resolver via computador, já que é fácil de\n",
    "ser programada.\n",
    "\n",
    "## Análise de circuitos usando o PSpice\n",
    "\n",
    "[PSpice/Orcad](http://www.pspice.com/) é um programa para análise de circuitos (**SPICE** (acrônimo de Simulated Program with Integrated Circuits Emphasis, ou Programa de Simulação com Ênfase em Circuitos Integrados) é um software de simulação de circuitos analógicos) via computador, assim como outros softwares, e.g.: [ISIS Proteus](labcenter.com), [Multisim](http://www.ni.com/multisim/pt/), etc.\n",
    "\n",
    "Tutoriais podem ser encontrados online, recomenda-se o da própria desenvolvedora **OrCAD**:\n",
    "\n",
    "[Tutorial PSpice](https://www.orcad.com/pt/resources/orcad-tutorials)\n",
    "\n",
    "## Propriedade da Linearidade\n",
    "\n",
    "Essa propriedade é uma\n",
    "combinação da propriedade de **homogeneidade** (aplicação de um fator de escala)\n",
    "e da propriedade da **aditividade**.\n",
    "\n",
    "**Homogeneidade**: A propriedade da **homogeneidade** requer que, se a entrada (também chamada\n",
    "excitação) for multiplicada por uma constante, então a saída (também\n",
    "denominada resposta) deverá ser multiplicada por essa mesma constante.\n",
    "\n",
    "\\begin{align}\n",
    "{\\Large v = iR}\n",
    "\\\\{\\Large kv = kiR}\n",
    "\\end{align}\n",
    "\n",
    "**Aditividade**: A propriedade de aditividade requer que a resposta para a soma de entradas\n",
    "seja a soma das respostas a cada entrada aplicada separadamente. Usando\n",
    "a relação tensão-corrente de um resistor:\n",
    "\n",
    "\\begin{align}\n",
    "{\\Large v_1 = i_1R}\n",
    "\\\\{\\Large v_2 = i_2R}\n",
    "\\end{align}\n",
    "\n",
    "\\begin{align}\n",
    "{\\Large v = (i_1 + i_2)R = i_1R + i_2R = v_1 + v_2}\n",
    "\\end{align}\n",
    "\n",
    "Um resistor é um elemento linear, pois a relação tensão-corrente satisfaz tanto\n",
    "a propriedade de homogeneidade quanto de aditividade. Assim:\n",
    "\n",
    "**Um circuito linear é um circuito cuja saída está linearmente relacionada (ou\n",
    "é diretamente proporcional) à sua entrada.**\n",
    "\n",
    "![image.png](attachment:image.png)"
   ]
  },
  {
   "attachments": {},
   "cell_type": "markdown",
   "metadata": {},
   "source": [
    "**Exemplo 4.1**\n",
    "\n",
    "Para o circuito da Figura 4.2, determine Io quando vs = 12 V e vs = 24 V.\n",
    "\n",
    "![](https://i.imgur.com/uGQNJ9P.png)"
   ]
  },
  {
   "cell_type": "code",
   "execution_count": 4,
   "metadata": {},
   "outputs": [
    {
     "name": "stdout",
     "output_type": "stream",
     "text": [
      "Exemplo 4.1\n",
      "Para vs = 12V, i0 é: [[ 0.15789474]] A\n",
      "Para vs = 12V, i0 é: [[ 0.31578947]] A\n"
     ]
    }
   ],
   "source": [
    "print(\"Exemplo 4.1\")\n",
    "import numpy as np\n",
    "\n",
    "#Para vs = 12V\n",
    "#6i1 + 2i1 + 4(i1 - i2) = -12\n",
    "    #12i1 - 4i2 = -12\n",
    "    #3i1 - i2 = -3\n",
    "#-3vx -12 + 4(i2 - i1) + 8i2 + 4i2 = 0\n",
    "    #vx = 2i1\n",
    "    #-6i1 + 16i2 - 4i1 = 12\n",
    "    #-10i1 + 16i2 = 12\n",
    "    #-5i1 + 8i2 = 6\n",
    "#i0 = i2\n",
    "\n",
    "coef = np.matrix('3 -1;-5 8')\n",
    "res = np.matrix('-3;6')\n",
    "I = np.linalg.inv(coef)*res\n",
    "print(\"Para vs = 12V, i0 é:\",I[1],\"A\")\n",
    "\n",
    "#Para vs = 24V\n",
    "#6i1 + 2i1 + 4(i1 - i2) = -24\n",
    "    #12i1 - 4i2 = -24\n",
    "    #3i1 - i2 = -6\n",
    "#-3vx -24 + 4(i2 - i1) + 8i2 + 4i2 = 0\n",
    "    #vx = 2i1\n",
    "    #-6i1 + 16i2 - 4i1 = 24\n",
    "    #-10i1 + 16i2 = 24\n",
    "    #-5i1 + 8i2 = 12\n",
    "#i0 = i2\n",
    "\n",
    "coef = np.matrix('3 -1;-5 8')\n",
    "res = np.matrix('-6;12')\n",
    "I = np.linalg.inv(coef)*res\n",
    "print(\"Para vs = 12V, i0 é:\",I[1],\"A\")"
   ]
  },
  {
   "attachments": {},
   "cell_type": "markdown",
   "metadata": {},
   "source": [
    "**Problema Prático 4.1**\n",
    "\n",
    "Para o circuito da Figura 4.3, determine vo quando is = 30 A e is = 45 A.\n",
    "\n",
    "![](https://i.imgur.com/IbOiCIU.png)"
   ]
  },
  {
   "cell_type": "code",
   "execution_count": 5,
   "metadata": {},
   "outputs": [
    {
     "name": "stdout",
     "output_type": "stream",
     "text": [
      "Problema Prático 4.1\n",
      "Para is = 30A, v0 é: 40.0 V\n",
      "Para is = 45A, v0 é: 60.0 V\n"
     ]
    }
   ],
   "source": [
    "print(\"Problema Prático 4.1\")\n",
    "#Req1 = 12 + 8 = 20\n",
    "\n",
    "#Para is = 30\n",
    "i_s = 30\n",
    "i0 = i_s*4/(4+20)\n",
    "v0 = 8*i0\n",
    "print(\"Para is = 30A, v0 é:\",v0,\"V\")\n",
    "\n",
    "#Para is = 45\n",
    "i_s = 45\n",
    "i0 = i_s*4/(4+20)\n",
    "v0 = 8*i0\n",
    "print(\"Para is = 45A, v0 é:\",v0,\"V\")"
   ]
  },
  {
   "cell_type": "markdown",
   "metadata": {},
   "source": [
    "## Superposição\n",
    "\n",
    "Uma forma de determinar uma variável específica em um circuito é determinar\n",
    "a contribuição de cada fonte independente à variável e então somá-las. Essa\n",
    "última forma é conhecida como **superposição**.\n",
    "\n",
    "**O princípio da superposição afirma que a tensão (ou a corrente) em um\n",
    "elemento em um circuito linear é a soma algébrica da soma das tensões\n",
    "(ou das correntes) naquele elemento em virtude da atuação isolada de cada\n",
    "uma das fontes independentes.**\n",
    "\n",
    "1. Consideramos uma fonte independente por vez enquanto todas as demais fontes independentes estão desligadas. Isso implica substituir cada fonte de tensão por 0 V (ou um curto-circuito) e cada fonte de corrente por 0 A (ou um circuito aberto). \n",
    "\n",
    "2. As fontes dependentes são deixadas intactas, pois elas são controladas por variáveis de circuito.\n",
    "\n",
    "**Etapas para a aplicação do princípio da superposição:**\n",
    "\n",
    "1. Desative todas as fontes independentes, exceto uma delas. Encontre a saída (tensão ou corrente) em razão dessa fonte ativa\n",
    "\n",
    "2. Repita a etapa 1 para cada uma das demais fontes independentes.\n",
    "\n",
    "3. Encontre a contribuição total somando algebricamente todas as contribuições em razão das fontes independentes."
   ]
  },
  {
   "attachments": {},
   "cell_type": "markdown",
   "metadata": {},
   "source": [
    "**Exemplo 4.3**\n",
    "\n",
    "Use o teorema da superposição para encontrar v no circuito da Figura 4.6.\n",
    "\n",
    "![](https://i.imgur.com/ulquDGl.png)"
   ]
  },
  {
   "cell_type": "code",
   "execution_count": 6,
   "metadata": {},
   "outputs": [
    {
     "name": "stdout",
     "output_type": "stream",
     "text": [
      "Exemplo 4.3\n",
      "Tensão V: 10.0 V\n"
     ]
    }
   ],
   "source": [
    "print(\"Exemplo 4.3\")\n",
    "Vs = 6\n",
    "Is = 3\n",
    "#Analise da fonte de tensao\n",
    "v1 = Vs*4/(4 + 8)\n",
    "#Analise da fonte de corrente\n",
    "i2 = Is*8/(4 + 8)\n",
    "v2 = 4*i2\n",
    "v = v1 + v2\n",
    "print(\"Tensão V:\",v,\"V\")"
   ]
  },
  {
   "attachments": {},
   "cell_type": "markdown",
   "metadata": {},
   "source": [
    "**Problema Prático 4.3**\n",
    "\n",
    "Usando o teorema da superposição, determine vo, no circuito da Figura 4.8.\n",
    "\n",
    "![](https://i.imgur.com/OP87uVW.png)"
   ]
  },
  {
   "cell_type": "code",
   "execution_count": 7,
   "metadata": {},
   "outputs": [
    {
     "name": "stdout",
     "output_type": "stream",
     "text": [
      "Problema Prático 4.3\n",
      "Tensão v0: 7.4 V\n"
     ]
    }
   ],
   "source": [
    "print(\"Problema Prático 4.3\")\n",
    "Vs = 12\n",
    "Is = 5\n",
    "#Analise da fonte de tensao\n",
    "v1 = Vs*2/(2 + 3 + 5)\n",
    "#Analise da fonte de corrente\n",
    "i2 = Is*5/(2 + 3 + 5)\n",
    "v2 = i2*2\n",
    "v = v1 + v2\n",
    "print(\"Tensão v0:\",v,\"V\")"
   ]
  },
  {
   "attachments": {},
   "cell_type": "markdown",
   "metadata": {},
   "source": [
    "**Exemplo 4.4**\n",
    "\n",
    "Determine io no circuito da Figura 4.9 usando superposição.\n",
    "\n",
    "![](https://i.imgur.com/skylO4f.png)"
   ]
  },
  {
   "cell_type": "code",
   "execution_count": 13,
   "metadata": {},
   "outputs": [
    {
     "name": "stdout",
     "output_type": "stream",
     "text": [
      "Exemplo 4.4\n",
      "Corrente i0: 7.789473684210527 A\n"
     ]
    }
   ],
   "source": [
    "print(\"Exemplo 4.4\")\n",
    "Is = 4\n",
    "Vs = 20\n",
    "\n",
    "#Analise da fonte de tensao\n",
    "#i1 = -i0\n",
    "#5i1 + (i1 - i2) + 5i0 + 4i1 = 20\n",
    "    #5i1 - i2 = 20\n",
    "#-5i0 + (i2 - i1) + 3i2 + 2i2 = 0\n",
    "    #5i1 -i1 + 6i2 = 0\n",
    "    #4i1 + 6i2 = 0\n",
    "    #2i1 + 3i2 = 0\n",
    "\n",
    "coef = np.matrix('5 -1;2 3')\n",
    "res = np.matrix('20;0')\n",
    "Iv = np.linalg.inv(coef)*res\n",
    "i0v = -I[0]\n",
    "\n",
    "#Analise da fonte de corrente\n",
    "#i0 = Is - i1 = 4 - i1\n",
    "#5i0 + 4i1 + 5(i1 - Is) + i1 - i2 = 0\n",
    "    #5(4 - i1) + 9i1 - 20 + (i1 - i2) = 0\n",
    "    #5i1 - i2 = 0\n",
    "#-5i0 + (i2 - i1) + 3(i2 - Is) + 2i2 = 0\n",
    "    #-5(4 - i1) + 6i2 - i1 - 12 = 0\n",
    "    #4i1 + 6i2 = 32\n",
    "    #2i1 + 3i2 = 16\n",
    "\n",
    "coef = np.matrix('5 -1;2 3')\n",
    "res = np.matrix('0;16')\n",
    "Ic = np.linalg.inv(coef)*res\n",
    "i0c = Is-I[0]\n",
    "\n",
    "i0 = i0v + i0c\n",
    "print(\"Corrente i0:\",float(i0),\"A\")"
   ]
  },
  {
   "attachments": {},
   "cell_type": "markdown",
   "metadata": {},
   "source": [
    "**Problema Prático 4.4**\n",
    "\n",
    "Use superposição para determinar vx no circuito da Figura 4.11.\n",
    "\n",
    "![](https://i.imgur.com/P5add6Q.png)"
   ]
  },
  {
   "cell_type": "code",
   "execution_count": 14,
   "metadata": {},
   "outputs": [
    {
     "name": "stdout",
     "output_type": "stream",
     "text": [
      "Problema Prático 4.4\n",
      "Tensão vx: 31.25 V\n"
     ]
    }
   ],
   "source": [
    "print(\"Problema Prático 4.4\")\n",
    "Vs = 25\n",
    "Is = 5\n",
    "\n",
    "#Analise fonte de tensao\n",
    "#i1 + 0.1vx = i2\n",
    "#i1 = (25 - vx)/20 = 5/4 - vx/20\n",
    "#i2 = vx/4\n",
    "#5/4 - vx/20 + vx/10 = vx/4\n",
    "    # (-vx +2vx - 5vx)/20 = -5/4\n",
    "    #-vx/5 = -5/4\n",
    "    #vx = 25/4\n",
    "\n",
    "#Analise fonte de corrente\n",
    "#i1 + i2 = 5\n",
    "#vx = 4*(i2 + 0.1vx)\n",
    "    #6vx/10 = 4i2\n",
    "    #i2 = 3vx/20\n",
    "#vx = 20i1\n",
    "    #i1 = vx/20\n",
    "#vx/20 + 3vx/20 = 5\n",
    "    #vx = 25\n",
    "\n",
    "vx = 25 + 25/4\n",
    "print(\"Tensão vx:\",vx,\"V\")"
   ]
  },
  {
   "attachments": {},
   "cell_type": "markdown",
   "metadata": {},
   "source": [
    "**Exemplo 4.5**\n",
    "\n",
    "Para o circuito da Figura 4.12, use o teorema da superposição para determinar i.\n",
    "\n",
    "![](https://i.imgur.com/C1uxdjX.png)"
   ]
  },
  {
   "cell_type": "code",
   "execution_count": 23,
   "metadata": {},
   "outputs": [
    {
     "name": "stdout",
     "output_type": "stream",
     "text": [
      "Exemplo 4.5\n",
      "Corrente i: 2.0 A\n"
     ]
    }
   ],
   "source": [
    "print(\"Exemplo 4.5\")\n",
    "\n",
    "#Analise Fonte Tensao 1\n",
    "#Req1 = 8 + 4 = 12\n",
    "#Req2 = (12*4)/(12 + 4) = 3\n",
    "#Vx = 12*3/(3 + Req2) = 36/6 = 6\n",
    "#iv1 = Vx/3 = 12/6 = 2 A\n",
    "iv1 = 2\n",
    "\n",
    "#Analise Fonte de Tensao 2\n",
    "#Req1 = 8 + 4 = 12\n",
    "#Req2 = (4*3)/(4+3) = 12/7\n",
    "#Vx = 24*Req2/(Req2 + Req1)\n",
    "    #Vx = 3\n",
    "#iv2 = -Vx/3 = -1\n",
    "iv2 = -1\n",
    "\n",
    "#Analise da Fonte de Corrente\n",
    "#Req1 = (4*3)/(4 + 3) = 12/7\n",
    "#Req2 = Req1 + 4 = 40/7\n",
    "#i1 = 3*8/(8 + Req2) = 24/(8 + 40/7)\n",
    "i1 = 24/(8 + 40/7)\n",
    "ic = i1*4/(4 + 3) # = 1\n",
    "\n",
    "i = iv1 + iv2 + ic\n",
    "print(\"Corrente i:\",i,\"A\")"
   ]
  },
  {
   "attachments": {},
   "cell_type": "markdown",
   "metadata": {},
   "source": [
    "**Problema Prático 4.5**\n",
    "\n",
    "Determine I no circuito da Figura 4.14 usando o princípio da superposição.\n",
    "\n",
    "![](https://i.imgur.com/vKdfb7E.png)"
   ]
  },
  {
   "cell_type": "code",
   "execution_count": 24,
   "metadata": {},
   "outputs": [
    {
     "name": "stdout",
     "output_type": "stream",
     "text": [
      "Problema Prático 4.5\n",
      "Corrente i: 0.375 A\n"
     ]
    }
   ],
   "source": [
    "print(\"Problema Prático 4.5\")\n",
    "\n",
    "#Analise fonte de Tensao 1\n",
    "iv1 = 8/(6 + 2 + 8)\n",
    "\n",
    "#Analise da fonte de Tensao 2\n",
    "iv2 = -6/(6 + 2 + 8)\n",
    "\n",
    "#Analise da fonte de Corrente\n",
    "ic = 2*2/(2 + 6 + 8)\n",
    "\n",
    "i = iv1 + iv2 + ic\n",
    "\n",
    "print(\"Corrente i:\",i,\"A\")"
   ]
  }
 ],
 "metadata": {
  "kernelspec": {
   "display_name": "Python 3",
   "language": "python",
   "name": "python3"
  },
  "language_info": {
   "codemirror_mode": {
    "name": "ipython",
    "version": 3
   },
   "file_extension": ".py",
   "mimetype": "text/x-python",
   "name": "python",
   "nbconvert_exporter": "python",
   "pygments_lexer": "ipython3",
   "version": "3.5.3"
  }
 },
 "nbformat": 4,
 "nbformat_minor": 2
}
