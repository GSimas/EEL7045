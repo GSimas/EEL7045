{
 "cells": [
  {
   "cell_type": "markdown",
   "metadata": {},
   "source": [
    "# Análise Nodal com Fontes de Tensão\n",
    "\n",
    "Um supernó é formado envolvendo-se uma fonte de tensão (dependente\n",
    "ou independente) conectada entre dois nós que não são de referência e\n",
    "quaisquer elementos conectados em paralelo com ele.\n",
    "\n",
    "![](http://i.imgur.com/spG0j11.png)\n",
    "\n",
    "**Um supernó pode ser\n",
    "considerado uma superfície que\n",
    "engloba a fonte de tensão e seus\n",
    "dois nós.**"
   ]
  }
 ],
 "metadata": {
  "kernelspec": {
   "display_name": "Python 3",
   "language": "python",
   "name": "python3"
  },
  "language_info": {
   "codemirror_mode": {
    "name": "ipython",
    "version": 3
   },
   "file_extension": ".py",
   "mimetype": "text/x-python",
   "name": "python",
   "nbconvert_exporter": "python",
   "pygments_lexer": "ipython3",
   "version": "3.5.3"
  }
 },
 "nbformat": 4,
 "nbformat_minor": 2
}
