{
 "cells": [
  {
   "cell_type": "markdown",
   "metadata": {},
   "source": [
    "**EEL 7045 - Circuitos Elétricos A**\n",
    "Bem-vindo"
   ]
  },
  {
   "cell_type": "code",
   "execution_count": 46,
   "metadata": {},
   "outputs": [
    {
     "name": "stdout",
     "output_type": "stream",
     "text": [
      "Seja Bem-Vindo ao Curso de Circuitos Elétricos A\n",
      "Para rodar os códigos você precisa dos módulos Numpy e Sympy\n"
     ]
    }
   ],
   "source": [
    "print(\"Seja Bem-Vindo ao Curso de Circuitos Elétricos A\")\n",
    "print(\"Para rodar os códigos você precisa dos módulos Numpy e Sympy\")"
   ]
  },
  {
   "cell_type": "markdown",
   "metadata": {},
   "source": [
    "Livro Referência utilizado:\n",
    "[ALEXANDER, Chales; SADIKU, Matthew. **Fundamentos de Circuitos Elétricos**](https://goo.gl/fmQET7)"
   ]
  },
  {
   "cell_type": "markdown",
   "metadata": {},
   "source": [
    "# Introdução\n",
    "\n",
    "**Circuito elétrico é uma interconexão de elementos elétricos**\n",
    "\n",
    "Exemplo de circuito elétrico de um trasmissor de rádio\n",
    "\n",
    "![](http://i.imgur.com/6UaOgib.png)\n",
    "\n",
    "O **Sistema Internacional de Unidades (SI)**, adotado pela Conferência Geral de Pesos e Medidas em 1960, é conhecido como uma linguagem de medição internacional. Nesse sistema, existem seis unidades principais a partir das quais todas as demais grandezas físicas podem ser derivadas.\n",
    "\n",
    "Por exemplo, a seguir temos expressões da mesma distância em metros (m):\n",
    "\n",
    "600.000.000mm     600.000m     600 km\n",
    "\n",
    "Tabela de multiplicadores de unidades e respectivos símbolos:\n",
    "\n",
    "![](http://i.imgur.com/XR2rSnr.png)\n",
    "\n",
    "Tabela de unidades principais do SI e respectivos símbolos:\n",
    "\n",
    "![](http://i.imgur.com/L4uLDAp.png)\n",
    "\n",
    "# Carga e Corrente\n",
    "\n",
    "**Carga é uma propriedade elétrica das partículas atômicas que compõem a matéria, medida em coulombs (C)**\n",
    "\n",
    "Sabemos que a carga e em um elétron é negativa e igual em magnitude a **1,602 * 10^–19 C**, enquanto um próton transporta uma carga positiva de mesma magnitude do elétron. A presença de números iguais de prótons e elétrons deixa um átomo com carga neutra.\n",
    "\n",
    "Em 1 C de carga, existem 1/ (1,602 * 10^–19) = 6,24 * 10^18 elétrons\n",
    "\n",
    "![Circuito simples e deslocamento de carga](http://i.imgur.com/T8XRwpK.png)\n",
    "\n",
    "\n",
    "**Corrente elétrica é o fluxo de carga por unidade de tempo, medido em ampères (A)**\n",
    "\n",
    "\\begin{align}\n",
    "i = dq/dt\n",
    "\\end{align}\n",
    "\n",
    "A carga transferida entre o instante t0 e o instante t é obtida integrando ambos\n",
    "os lados da Equação\n",
    "\n",
    "\\begin{align}\n",
    "Q = \\int_{t0}^{t} i dt\n",
    "\\end{align}\n",
    "\n",
    "Se a corrente não muda com o tempo e permanece constante, podemos chamá-la de corrente contínua (CC).\n",
    "**Corrente contínua (CC) é uma corrente que permanece constante ao longo do tempo**\n",
    "Por convenção, o símbolo I é usado para representar uma corrente contínua desse tipo.\n",
    "\n",
    "\n",
    "Uma corrente que varia com o tempo é conhecida pelo símbolo i. E uma forma comum de corrente é a corrente senoidal ou corrente alternada (CA).\n",
    "**Corrente alternada (CA) é uma corrente que varia com o tempo segundo uma forma de onda senoidal**\n",
    "\n",
    "Gráficos CC (a) e CA (b)\n",
    "\n",
    "![](http://i.imgur.com/dTAZRVU.png)"
   ]
  },
  {
   "cell_type": "markdown",
   "metadata": {},
   "source": [
    "**Exemplo 1.1**\n",
    "\n",
    "Qual é a quantidade de carga representada por 4.600 elétrons?"
   ]
  },
  {
   "cell_type": "code",
   "execution_count": 5,
   "metadata": {},
   "outputs": [
    {
     "name": "stdout",
     "output_type": "stream",
     "text": [
      "Exemplo 1.1\n",
      "Resposta, em Coulombs, é: -7.36e-16\n"
     ]
    }
   ],
   "source": [
    "print(\"Exemplo 1.1\")\n",
    "carga_eletron = -1.6*10**(-19) #unidade em Coulombs\n",
    "numero_eletrons = 4600\n",
    "carga_total1 = carga_eletron * numero_eletrons\n",
    "print(\"Resposta, em Coulombs, é:\", carga_total1)"
   ]
  },
  {
   "cell_type": "markdown",
   "metadata": {},
   "source": [
    "**Problema Prático 1.1**\n",
    "\n",
    "Calcule a quantidade de carga representada por seis milhões de prótons."
   ]
  },
  {
   "cell_type": "code",
   "execution_count": 6,
   "metadata": {},
   "outputs": [
    {
     "name": "stdout",
     "output_type": "stream",
     "text": [
      "Problema Prático 1.1\n",
      "Resposta, em Coulombs, é: 9.600000000000002e-13\n"
     ]
    }
   ],
   "source": [
    "print(\"Problema Prático 1.1\")\n",
    "carga_proton = -carga_eletron\n",
    "numero_protons = 6000000\n",
    "carga_total2 = carga_proton * numero_protons\n",
    "print(\"Resposta, em Coulombs, é:\", carga_total2)"
   ]
  },
  {
   "cell_type": "markdown",
   "metadata": {},
   "source": [
    "**Exemplo 1.2**\n",
    "\n",
    "A carga total entrando em um terminal é dada por q = 5t sen(4 pi t) mC. Calcule a corrente no instante t = 0,5 s"
   ]
  },
  {
   "cell_type": "code",
   "execution_count": 45,
   "metadata": {},
   "outputs": [
    {
     "name": "stdout",
     "output_type": "stream",
     "text": [
      "Exemplo 1.2\n",
      "Função corrente, em miliampères, é: 62.8318530717959*t*cos(12.5663706143592*t) + 5*sin(12.5663706143592*t)\n",
      "Corrente no instante 0.5, em mA, é 31.4159265358979\n"
     ]
    }
   ],
   "source": [
    "print(\"Exemplo 1.2\")\n",
    "\n",
    "import numpy as np #importa biblioteca numpy\n",
    "from sympy import * #importa biblioteca sympy\n",
    "#i = dq/dt\n",
    "\n",
    "t = symbols('t') #define x como elemento simbolo\n",
    "q = 5*t*sin(4*np.pi*t) #carga - funcao\n",
    "i = diff(q, t) #calcula funcao corrente = derivada de q em respeito a t\n",
    "print(\"Função corrente, em miliampères, é:\", i)\n",
    "print(\"Corrente no instante 0.5, em mA, é\", i.subs(t,0.5))"
   ]
  },
  {
   "cell_type": "markdown",
   "metadata": {},
   "source": [
    "**Problema Prático 1.2**\n",
    "\n",
    "Se no Exemplo 1.2, q = (10 – 10e–2t) mC, determine a corrente em t = 1,0 s."
   ]
  },
  {
   "cell_type": "code",
   "execution_count": 48,
   "metadata": {},
   "outputs": [
    {
     "name": "stdout",
     "output_type": "stream",
     "text": [
      "Problema Prático 1.2\n",
      "Função corrente, em miliampères, é: 20*exp(-2*t)\n",
      "Corrente no instante 1.0, em mA, é 2.70670566473225\n"
     ]
    }
   ],
   "source": [
    "print(\"Problema Prático 1.2\")\n",
    "\n",
    "q = 10 - 10*exp(-2*t)\n",
    "i = diff(q,t)\n",
    "print(\"Função corrente, em miliampères, é:\", i)\n",
    "print(\"Corrente no instante 1.0, em mA, é\", i.subs(t,1.0)) #i.subs(t,1.0) substitui o valor t para 1.0"
   ]
  },
  {
   "cell_type": "markdown",
   "metadata": {},
   "source": [
    "**Exemplo 1.3**\n",
    "\n",
    "Determine a carga total que entra em um terminal entre os instantes t = 1 s e t = 2 s se a corrente que passa pelo terminal é i = (3t^2 – t) A."
   ]
  },
  {
   "cell_type": "code",
   "execution_count": 50,
   "metadata": {},
   "outputs": [
    {
     "name": "stdout",
     "output_type": "stream",
     "text": [
      "Exemplo 1.3\n",
      "Funcao integral indefinida de Q é: t**3 - t**2/2\n",
      "Resultado de t=1s até t=2s é, em Coulombs: 11/2\n"
     ]
    }
   ],
   "source": [
    "print(\"Exemplo 1.3\")\n",
    "\n",
    "#Q = Sidt de t0 até t, onde S = operando de integral\n",
    "\n",
    "t = symbols('t') #define t como simbolo para operacoes em python\n",
    "i = 3*t**2 - t # em ampères\n",
    "Q = integrate(i, t)\n",
    "Q2 = integrate(i,(t,1,2))\n",
    "print(\"Funcao integral indefinida de Q é:\", Q)\n",
    "print(\"Resultado de t=1s até t=2s é, em Coulombs:\", Q2)"
   ]
  },
  {
   "cell_type": "markdown",
   "metadata": {},
   "source": [
    "**Problema Prático 1.3**\n",
    "\n",
    "A corrente que flui através de um elemento é:\n",
    "\n",
    "i = 4A, se 0 < t < 1\n",
    "\n",
    "i = 4t^2 A, se >1\n",
    "\n",
    "Calcule a carga que entra no elemento de t = 0 a t = 2 s."
   ]
  },
  {
   "cell_type": "code",
   "execution_count": 115,
   "metadata": {},
   "outputs": [
    {
     "name": "stdout",
     "output_type": "stream",
     "text": [
      "Problema Prático 1.3\n",
      "Resultado é: 40/3 C\n"
     ]
    }
   ],
   "source": [
    "print(\"Problema Prático 1.3\")\n",
    "    \n",
    "t = symbols('t')\n",
    "i1 = 4 #de t=0 até t=1\n",
    "i2 = 4*t**2 #de t=1 até t=2\n",
    "Q = integrate(i2,(t,1,2)) #integracao\n",
    "print(\"Resultado é:\", 4+Q , \"C\")"
   ]
  },
  {
   "cell_type": "markdown",
   "metadata": {},
   "source": [
    "# Tensão\n",
    "\n",
    "**Força Eletromotriz (FEM)** também é conhecida como tensão ou diferença de potencial. A tensão Vab entre dois pontos a e b em um circuito elétrico é a energia (ou trabalho) necessária para deslocar uma carga unitária de a para b; matematicamente:\n",
    "\n",
    "\\begin{align}\n",
    "Vab = dw/dq\n",
    "\\end{align}\n",
    "\n",
    "As unidades são:\n",
    "\n",
    "1 volt = 1 joule/coulomb = 1 newton-metro/coulomb \n",
    "\n",
    "Assim: **Tensão (ou diferença de potencial) é a energia necessária para deslocar uma carga unitária através de um elemento, medida em volts (V)**\n",
    "\n",
    "\\begin{align}\n",
    "Vab = -Vba\n",
    "\\end{align}\n",
    "\n",
    "Conforme a figura:\n",
    "\n",
    "![](http://i.imgur.com/fIkJiIK.png)\n",
    "\n",
    "Assim como a corrente elétrica, uma tensão constante é denominada tensão CC e é representada por V, enquanto uma tensão\n",
    "que varia com o tempo com uma forma senoidal é chamada tensão CA e é representada por v. Uma tensão CC é comumente produzida por uma bateria; uma tensão CA é produzida por um gerador elétrico\n",
    "\n",
    "**Tenha em mente que corrente\n",
    "elétrica passa sempre através de\n",
    "um elemento, já a tensão elétrica\n",
    "é sempre sobre os terminais do\n",
    "elemento ou entre dois pontos**"
   ]
  },
  {
   "cell_type": "markdown",
   "metadata": {},
   "source": [
    "# Potência e Energia\n",
    "\n",
    "**Potência é a velocidade com que se consome ou se absorve energia medida em watts (W)**\n",
    "\n",
    "Escrevemos essa relação como:\n",
    "\n",
    "\\begin{align}\n",
    "p = dw/dt = dw/dq * dq/dt = v * i\n",
    "\\end{align}\n",
    "\n",
    "A potência p na Equação acima é uma quantidade variável com o tempo e é\n",
    "denominada potência instantânea. Portanto, a potência absorvida ou fornecida\n",
    "por um elemento é o produto da tensão no elemento pela corrente através dele.\n",
    "Se a potência tem um sinal +, ela está sendo fornecida para o elemento ou\n",
    "absorvida por ele. Em contrapartida, se a potência tiver um sinal –, a potência\n",
    "está sendo fornecida pelo elemento\n",
    "\n",
    "**A convenção de sinal passivo é realizada quando a corrente entra pelo terminal\n",
    "positivo de um elemento e p = +vi. Se a corrente entra pelo terminal\n",
    "negativo, p = –vi.**\n",
    "\n",
    "\\begin{align}\n",
    "+Pabsorvida = -Pfornecida\n",
    "\\end{align}\n",
    "\n",
    "\\begin{align}\n",
    "ou\n",
    "\\end{align}\n",
    "\n",
    "\\begin{align}\n",
    "\\sum{p} = 0\n",
    "\\end{align}\n",
    "\n",
    "Assim:\n",
    "\n",
    "\\begin{align}\n",
    "w = \\int_{t0}^{t} p dt = \\int_{t0}^{t} vi dt\n",
    "\\end{align}\n",
    "\n",
    "**Energia é a capacidade de realizar trabalho e é medida em joules (J).**\n",
    "As concessionárias de energia elétrica medem a energia em watts-hora (Wh),\n",
    "em que:\n",
    "\n",
    "\\begin{align}\n",
    "1 Wh = 3600 J\n",
    "\\end{align}"
   ]
  },
  {
   "cell_type": "markdown",
   "metadata": {},
   "source": [
    "**Exemplo 1.4**\n",
    "\n",
    "Uma fonte de energia com uma corrente constante de 2 A força a passagem dessa corrente\n",
    "através de uma lâmpada por 10 s. Se forem liberados 2,3 kJ na forma de energia\n",
    "luminosa e calorífica, calcule a queda de tensão na lâmpada"
   ]
  },
  {
   "cell_type": "code",
   "execution_count": 117,
   "metadata": {},
   "outputs": [
    {
     "name": "stdout",
     "output_type": "stream",
     "text": [
      "Exemplo 1.4\n",
      "Resultado é: 115.0 V\n"
     ]
    }
   ],
   "source": [
    "print(\"Exemplo 1.4\")\n",
    "\n",
    "i = 2 #corrente em A\n",
    "t = 10 #tempo em s\n",
    "w = 2300 # energia em kJ\n",
    "q_total = i*t #carga total\n",
    "#v = dw/dq\n",
    "v = w/q_total\n",
    "print(\"Resultado é:\", v, \"V\")"
   ]
  },
  {
   "cell_type": "markdown",
   "metadata": {},
   "source": [
    "**Problema Prático 1.4**\n",
    "\n",
    "Mover uma carga q do ponto a ao ponto b requer –30 J. Determine a queda de tensão\n",
    "Vab se: (a) q = 6 C, (b) q = –3 C."
   ]
  },
  {
   "cell_type": "code",
   "execution_count": 118,
   "metadata": {},
   "outputs": [
    {
     "name": "stdout",
     "output_type": "stream",
     "text": [
      "Problema Prático 1.4\n",
      "Resposta (a): -5.0 V\n",
      "Resposta (b): 10.0 V\n"
     ]
    }
   ],
   "source": [
    "print(\"Problema Prático 1.4\")\n",
    "\n",
    "#v = dw/dq\n",
    "w = -30 #energia em J\n",
    "q1 = 6 #carga em C\n",
    "v1 = w/q1 #tensao em V\n",
    "print(\"Resposta (a):\", v1, \"V\")\n",
    "q2 = -3\n",
    "v2 = w/q2\n",
    "print(\"Resposta (b):\", v2, \"V\")"
   ]
  },
  {
   "cell_type": "markdown",
   "metadata": {},
   "source": [
    "**Exemplo 1.5**\n",
    "\n",
    "Determine a potência fornecida para um elemento no instante t = 3 ms se a corrente que\n",
    "entra pelo terminal positivo for:\n",
    "\n",
    "i = 5 cos(60 * pi * t) A\n",
    "\n",
    "\n",
    "e a tensão for: (a) v = 3i, (b) v = 3di/dt. "
   ]
  },
  {
   "cell_type": "code",
   "execution_count": 123,
   "metadata": {},
   "outputs": [
    {
     "name": "stdout",
     "output_type": "stream",
     "text": [
      "Exemplo 1.5\n",
      "Resposta (a): 53.4667234336902 W\n",
      "Resposta (b): -6395.84554679225 W\n"
     ]
    }
   ],
   "source": [
    "print(\"Exemplo 1.5\")\n",
    "\n",
    "import numpy as np\n",
    "from sympy import *\n",
    "\n",
    "t = symbols('t')\n",
    "i = 5*cos(60*np.pi*t)\n",
    "v1 = 3*i\n",
    "p1 = i.subs(t,0.003)*v1.subs(t,0.003)\n",
    "print(\"Resposta (a):\", p1, \"W\")\n",
    "v2 = 3*diff(i,t)\n",
    "p2 = i.subs(t,0.003)*v2.subs(t,0.003)\n",
    "print(\"Resposta (b):\", p2, \"W\")"
   ]
  },
  {
   "cell_type": "markdown",
   "metadata": {},
   "source": [
    "**Exemplo 1.6**\n",
    "\n",
    "Quanta energia uma lâmpada de 100 W consome em duas horas? "
   ]
  },
  {
   "cell_type": "code",
   "execution_count": 124,
   "metadata": {},
   "outputs": [
    {
     "name": "stdout",
     "output_type": "stream",
     "text": [
      "Exemplo 1.6\n",
      "Energia consumida: 720000 J\n"
     ]
    }
   ],
   "source": [
    "print(\"Exemplo 1.6\")\n",
    "\n",
    "p = 100\n",
    "h = 2\n",
    "w = p*h #energia em Wh\n",
    "w = w*3600 #conversao para J\n",
    "print(\"Energia consumida:\", w, \"J\")"
   ]
  },
  {
   "cell_type": "markdown",
   "metadata": {},
   "source": [
    "**Problema Prático 1.6**\n",
    "\n",
    "Um forno elétrico consome 15 A quando conectado a uma linha de 120 V. Quanto tempo\n",
    "leva para consumir 180 kJ?"
   ]
  },
  {
   "cell_type": "code",
   "execution_count": 127,
   "metadata": {},
   "outputs": [
    {
     "name": "stdout",
     "output_type": "stream",
     "text": [
      "Potencia: 1800 W\n",
      "Tempo necessario: 100.0 s\n"
     ]
    }
   ],
   "source": [
    "i = 15\n",
    "v = 120\n",
    "q = 180000\n",
    "p = v*i\n",
    "print(\"Potencia:\", p, \"W\")\n",
    "#p = dq/dt\n",
    "t = q/p\n",
    "print(\"Tempo necessario:\", t, \"s\")"
   ]
  }
 ],
 "metadata": {
  "kernelspec": {
   "display_name": "Python 3",
   "language": "python",
   "name": "python3"
  },
  "language_info": {
   "codemirror_mode": {
    "name": "ipython",
    "version": 3
   },
   "file_extension": ".py",
   "mimetype": "text/x-python",
   "name": "python",
   "nbconvert_exporter": "python",
   "pygments_lexer": "ipython3",
   "version": "3.5.3"
  }
 },
 "nbformat": 4,
 "nbformat_minor": 2
}
