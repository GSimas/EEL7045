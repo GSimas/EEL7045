{
 "cells": [
  {
   "cell_type": "markdown",
   "metadata": {},
   "source": [
    "# Funções de Singularidade\n",
    "Jupyter Notebook desenvolvido por [Gustavo S.S.](https://github.com/GSimas)\n",
    "\n",
    "As funções de singularidade (também conhecidas como funções de comutação)\n",
    "são muito úteis na análise de circuitos, pois servem como boas aproximações\n",
    "aos sinais de comutação que surgem em circuitos com operações de\n",
    "comutação, e também por serem úteis na descrição compacta e elegante de\n",
    "alguns fenômenos em circuitos, especialmente a resposta a um degrau de circuitos\n",
    "RC ou RL a serem discutidos nas seções seguintes. Por definição,\n",
    "\n",
    "**Funções de singularidade são funções que são descontínuas ou então que\n",
    "apresentam derivadas descontínuas.**\n",
    "\n",
    "As três funções de singularidade mais usadas na análise de circuitos são:\n",
    "***degrau unitário, impulso unitário e rampa unitária.***\n",
    "\n",
    "## Degrau Unitário\n",
    "\n",
    "**A função degrau unitário u(t) é 0 para valores negativos de t e 1 para\n",
    "valores positivos de t.**\n",
    "\n",
    "\\begin{align}\n",
    "{\\Large u(t) =\n",
    "\\begin{cases} 0, &  t < 0\n",
    "\\\\ 1, &  t > 0\n",
    "\\end{cases}}\n",
    "\\end{align}\n",
    "\n",
    "![](https://i.imgur.com/LZFlqkC.png)\n",
    "\n",
    "Usamos a função degrau para representar uma mudança abrupta na tensão\n",
    "ou corrente, como as mudanças que ocorrem em circuitos de sistemas de controle\n",
    "e computadores digitais. Por exemplo, a tensão:\n",
    "\n",
    "\\begin{align}\n",
    "{\\Large v(t) =\n",
    "\\begin{cases} 0, & t < t_0\n",
    "\\\\ 1, & t > t_0\n",
    "\\end{cases}}\n",
    "\\end{align}\n",
    "\n",
    "pode ser expressa em termos da função degrau unitário como\n",
    "\n",
    "\\begin{align}\n",
    "{\\Large v(t) = V_0u(t-t_0)}\n",
    "\\end{align}\n",
    "\n",
    "![](https://i.imgur.com/oELQ07i.png)\n",
    "\n",
    "Se fizermos t0 = 0, então v(t) é simplesmente a tensão degrau V0u(t). Uma fonte\n",
    "de tensão V0u(t) é mostrada na Figura 7.25a, e seu circuito equivalente é ilustrado\n",
    "na Figura 7.25b.\n",
    "\n",
    "![](https://i.imgur.com/7psYeUu.png)\n",
    "\n",
    "\n",
    "## Impulso Unitário\n",
    "\n",
    "A derivada da função degrau unitário u(t) é a função impulso unitário d(t),\n",
    "que é escrita como segue:\n",
    "\n",
    "\\begin{align}\n",
    "{\\Large \\delta(t) = \\frac{d}{dt}u(t) = \n",
    "\\begin{cases}\n",
    "0, & t < 0\n",
    "\\\\ Indefinido, & t = 0\n",
    "\\\\0, & t > 0\n",
    "\\end{cases}}\n",
    "\\end{align}\n",
    "\n",
    "**A função impulso unitário d(t) é zero em qualquer ponto, exceto em\n",
    "t = 0, onde ela é indefinida.**\n",
    "\n",
    "![](https://i.imgur.com/PPGpq05.png)\n",
    "\n",
    "O impulso unitário pode ser considerado um choque elétrico aplicado ou\n",
    "resultante e ser visualizado como um pulso de área unitária de curtíssima duração,\n",
    "sendo expresso matematicamente como:\n",
    "\n",
    "\\begin{align}\n",
    "\\int_{0^-}^{0^+} \\delta(t)dt = 1\n",
    "\\end{align}\n",
    "\n",
    "A área unitária é conhecida como a intensidade\n",
    "da função impulso, e quando essa função tiver uma intensidade diferente da\n",
    "unidade, a área do impulso será igual à sua intensidade. Por exemplo, a função\n",
    "impulso 10d(t) possui uma área igual a 10.\n",
    "\n",
    "Assim:\n",
    "\n",
    "\\begin{align}\n",
    "{\\Large \\int_{a}^{b} f(t)δ(t - t_0)dt = f(t_0)}\n",
    "\\end{align}\n",
    "\n",
    "## Rampa Unitária\n",
    "\n",
    "**Integrando a função degrau unitário u(t), obtemos a função rampa unitária\n",
    "r(t); escrevemos:**\n",
    "\n",
    "\\begin{align}\n",
    "{\\Large r(t) = \\int_{-∞}^{t} u(x)dx = tu(t)}\n",
    "\\end{align}\n",
    "\n",
    "ou:\n",
    "\n",
    "\\begin{align}\n",
    "{\\Large r(t) =\n",
    "\\begin{cases}\n",
    "0, & t \\le 0\n",
    "\\\\t, & t \\ge 0\n",
    "\\end{cases}}\n",
    "\\end{align}\n",
    "\n",
    "**A função rampa unitária é zero para valores negativos de t e apresenta\n",
    "uma inclinação unitária para valores positivos de t.**\n",
    "\n",
    "Deve-se ter em mente que as três funções de singularidade (impulso, degrau\n",
    "e rampa) estão relacionadas por diferenciação como segue:\n",
    "\n",
    "\\begin{align}\n",
    "{\\Large \\delta(t) = \\frac{du(t)}{dt}}\n",
    "\\\\{\\Large u(t) = \\frac{dr(t)}{dt}}\n",
    "\\end{align}\n",
    "\n",
    "## Função Porta\n",
    "\n",
    "As funções de porta são usadas\n",
    "juntamente com chaves para\n",
    "permitir ou bloquear a passagem\n",
    "de outro sinal."
   ]
  },
  {
   "attachments": {},
   "cell_type": "markdown",
   "metadata": {},
   "source": [
    "**Exemplo 7.6**\n",
    "\n",
    "Expresse o pulso de tensão da Figura 7.31 em termos do degrau unitário. Calcule sua\n",
    "derivada e esboce-a.\n",
    "\n",
    "![](https://i.imgur.com/QN8G9xQ.png)"
   ]
  },
  {
   "cell_type": "code",
   "execution_count": 64,
   "metadata": {
    "scrolled": true
   },
   "outputs": [
    {
     "name": "stdout",
     "output_type": "stream",
     "text": [
      "Exemplo 7.6\n",
      "[0, 0, 10*Heaviside(0), 10, 10, 10, 10, 10, 10, 10]\n",
      "[0, 0, 0, 0, 0, -10*Heaviside(0), -10, -10, -10, -10]\n",
      "[-10, 2, 2, 5, 5, 10]\n",
      "[0, 0, 1, 1, 0, 0]\n"
     ]
    },
    {
     "data": {
      "image/png": "[encoded data removed]",
      "text/plain": [
       "<matplotlib.figure.Figure at 0x23f7cea8828>"
      ]
     },
     "metadata": {},
     "output_type": "display_data"
    },
    {
     "data": {
      "image/png": "[encoded data removed]",
      "text/plain": [
       "<matplotlib.figure.Figure at 0x23f7d0e9a58>"
      ]
     },
     "metadata": {},
     "output_type": "display_data"
    },
    {
     "data": {
      "image/png": "[encoded data removed]",
      "text/plain": [
       "<matplotlib.figure.Figure at 0x23f7cdfa0b8>"
      ]
     },
     "metadata": {},
     "output_type": "display_data"
    },
    {
     "data": {
      "image/png": "[encoded data removed]",
      "text/plain": [
       "<matplotlib.figure.Figure at 0x23f7d02edd8>"
      ]
     },
     "metadata": {},
     "output_type": "display_data"
    }
   ],
   "source": [
    "print(\"Exemplo 7.6\")\n",
    "\n",
    "import numpy as np\n",
    "import matplotlib.pyplot as plt\n",
    "from sympy import *\n",
    "\n",
    "t = symbols('t')\n",
    "u1 = 10*Heaviside(t-2) #funcao degrau unitario, tambem chamada de funcao Heaviside\n",
    "u2 = -10*Heaviside(t-5)\n",
    "l = list()\n",
    "m = list()\n",
    "n = list()\n",
    "\n",
    "for i in range(10):\n",
    "    l.append(u1.subs(t,i))\n",
    "    m.append(u2.subs(t,i))\n",
    "\n",
    "print(l)\n",
    "print(m)\n",
    "\n",
    "\n",
    "x1 = [-10,2,2,10]\n",
    "y1 = [0,0,1,1]\n",
    "\n",
    "x2 = [-10,5,5,10]\n",
    "y2 = [0,0,-1,-1]\n",
    "\n",
    "x3 = [-10,2,2,5,5,10]\n",
    "y3 = [0,0,1,1,0,0]\n",
    "\n",
    "x4 = [-10,2,2,5,5,10]\n",
    "y4 = [0,0,10,0,-10,0]\n",
    "\n",
    "print(x3)\n",
    "print(y3)\n",
    "\n",
    "plt.figure(1)\n",
    "plt.subplot(311)\n",
    "plt.step(x1,y1)\n",
    "\n",
    "plt.figure(2)\n",
    "plt.subplot(312)\n",
    "plt.step(x2,y2)\n",
    "\n",
    "plt.figure(3)\n",
    "plt.subplot(313)\n",
    "plt.step(x3,y3)\n",
    "\n",
    "plt.figure(4)\n",
    "plt.subplot(313)\n",
    "plt.step(x4,y4)\n",
    "\n",
    "plt.show()\n",
    "\n",
    "#Resposta\n",
    "#10[u(t-2) u(t-5)]\n",
    "#10[delta(t-2) delta(t-5)]"
   ]
  },
  {
   "cell_type": "markdown",
   "metadata": {},
   "source": [
    "**Problema Prático 7.6**\n",
    "\n",
    "Expresse o pulso de corrente da Figura 7.33 em termos de degrau unitário. Determine\n",
    "sua integral e esboce-a.\n",
    "\n",
    "![](https://i.imgur.com/1pOaidT.png)"
   ]
  },
  {
   "cell_type": "code",
   "execution_count": 90,
   "metadata": {
    "scrolled": true
   },
   "outputs": [
    {
     "name": "stdout",
     "output_type": "stream",
     "text": [
      "Problema Prático 7.6\n",
      "[0, 0, 0, 0, 0, 0, 0, 0, 0, 0, 10, 10, 10, 10, 10, 10, 10, 10, 10, 10]\n",
      "[0, 0, 0, 0, 0, 0, 0, 0, 0, 0, 0, 0, -20, -20, -20, -20, -20, -20, -20, -20]\n",
      "[0 0 0 0 0 0 0 0 0 0 10 10 -10 -10 -10 -10 -10 -10 -10 -10]\n",
      "[-10.          -8.94736842  -7.89473684  -6.84210526  -5.78947368\n",
      "  -4.73684211  -3.68421053  -2.63157895  -1.57894737  -0.52631579\n",
      "   0.52631579   1.57894737   2.63157895   3.68421053   4.73684211\n",
      "   5.78947368   6.84210526   7.89473684   8.94736842  10.        ]\n"
     ]
    },
    {
     "data": {
      "image/png": "[encoded data removed]",
      "text/plain": [
       "<matplotlib.figure.Figure at 0x23f7ce18ac8>"
      ]
     },
     "metadata": {},
     "output_type": "display_data"
    },
    {
     "data": {
      "image/png": "[encoded data removed]",
      "text/plain": [
       "<matplotlib.figure.Figure at 0x23f7cf85940>"
      ]
     },
     "metadata": {},
     "output_type": "display_data"
    }
   ],
   "source": [
    "print(\"Problema Prático 7.6\")\n",
    "\n",
    "u1 = 10*Heaviside(t)\n",
    "u2 = -20*Heaviside(t-2)\n",
    "\n",
    "l,m,n = list(), list(), list()\n",
    "\n",
    "for i in np.linspace(-10,10,20):\n",
    "    l.append(u1.subs(t,i))\n",
    "    m.append(u2.subs(t,i))\n",
    "\n",
    "print(l)\n",
    "print(m)\n",
    "n = np.add(l,m)\n",
    "n = n.reshape((1,20))\n",
    "n = n[0]\n",
    "print(n)\n",
    "\n",
    "o = np.linspace(-10,10,20)\n",
    "print(o)\n",
    "\n",
    "plt.step(o,n)\n",
    "plt.show()\n",
    "\n",
    "x = np.linspace(0,4,20)\n",
    "\n",
    "o = list()\n",
    "\n",
    "for i in range(len(x)):\n",
    "    if(x[i] < 2):\n",
    "        o.append(10*x[i])\n",
    "    elif(x[i] == 2):\n",
    "        o.append(20)\n",
    "    else:\n",
    "        o.append(20 - 10*(x[i] - 2))\n",
    "\n",
    "plt.plot(x,o)\n",
    "plt.show()\n",
    "\n",
    "#Resposta\n",
    "#10[u(t) – 2u(t – 2) + u(t – 4)] A, \n",
    "#10[r(t) – 2r(t – 2) + r(t – 4)] A·s"
   ]
  },
  {
   "cell_type": "markdown",
   "metadata": {},
   "source": [
    "**Exemplo 7.7**\n",
    "\n",
    "Expresse a função dente de serra mostrada na Figura 7.35 em termos de funções de\n",
    "singularidade.\n",
    "\n",
    "![](https://i.imgur.com/Is8nxZR.png)"
   ]
  },
  {
   "cell_type": "code",
   "execution_count": 96,
   "metadata": {},
   "outputs": [
    {
     "name": "stdout",
     "output_type": "stream",
     "text": [
      "Exemplo 7.7\n",
      "[ 0.          0.55555556  1.11111111  1.66666667  2.22222222  2.77777778\n",
      "  3.33333333  3.88888889  4.44444444  5.        ]\n",
      "[  0.           2.77777778   5.55555556   8.33333333  11.11111111\n",
      "  13.88888889  16.66666667  19.44444444  22.22222222  25.        ]\n",
      "[1, 1, 1, 1, 0, 0, 0, 0, 0, 0]\n"
     ]
    },
    {
     "data": {
      "image/png": "[encoded data removed]",
      "text/plain": [
       "<matplotlib.figure.Figure at 0x23f7a8e37b8>"
      ]
     },
     "metadata": {},
     "output_type": "display_data"
    }
   ],
   "source": [
    "print(\"Exemplo 7.7\")\n",
    "\n",
    "#Resposta\n",
    "#5*r(t)*u(-t+2)\n",
    "\n",
    "x = np.linspace(0,5,10)\n",
    "y = 5*x\n",
    "u = Heaviside(-t+2)\n",
    "r = list()\n",
    "\n",
    "for i in x:\n",
    "    r.append(u.subs(t,i))\n",
    "    \n",
    "print(x)\n",
    "print(y)\n",
    "print(r)\n",
    "\n",
    "r = r*y\n",
    "\n",
    "plt.plot(x,r)\n",
    "plt.show()"
   ]
  },
  {
   "cell_type": "markdown",
   "metadata": {},
   "source": [
    "**Problema Prático 7.7**\n",
    "\n",
    "Consulte a Figura 7.39. Expresse i(t) em termos de funções de singularidade.\n",
    "\n",
    "![](https://i.imgur.com/HlFnxRn.png)"
   ]
  },
  {
   "cell_type": "code",
   "execution_count": 119,
   "metadata": {},
   "outputs": [
    {
     "name": "stdout",
     "output_type": "stream",
     "text": [
      "Problema Prático 7.7\n",
      "[-0. -0. -0. -0. -0. -0. -0. -0. -0. -0. -0. -0.  2. -8. -2. -2. -2. -2.\n",
      " -2. -2. -2.]\n"
     ]
    },
    {
     "data": {
      "image/png": "[encoded data removed]",
      "text/plain": [
       "<matplotlib.figure.Figure at 0x23f7aae3c88>"
      ]
     },
     "metadata": {},
     "output_type": "display_data"
    }
   ],
   "source": [
    "print(\"Problema Prático 7.7\")\n",
    "\n",
    "def ret(t,start=-10,end=10,points=21):\n",
    "    x = np.linspace(start,end,points)\n",
    "    l = x > t\n",
    "    l = l*x\n",
    "    return l\n",
    "\n",
    "def heaviside(t, start=-10,end=10,points=21):\n",
    "    x = np.linspace(start,end,points)\n",
    "    l = x > t\n",
    "    l = 1*l\n",
    "    return l\n",
    "\n",
    "y = -(2*heaviside(0) - 2*ret(0) + 4*ret(2) - 2*ret(3))\n",
    "print(y)\n",
    "\n",
    "x = np.linspace(-10,10,21)\n",
    "plt.plot(x,y)\n",
    "plt.show()\n",
    "\n",
    "#Resposta\n",
    "#2u(t) - 2r(t) + 4r(t-2) - 2r(t-3) A."
   ]
  },
  {
   "cell_type": "markdown",
   "metadata": {},
   "source": [
    "**Exemplo 7.8**\n",
    "\n",
    "Dado o sinal:\n",
    "\n",
    "\\begin{align}\n",
    "{\\Large g(t) =\n",
    "\\begin{cases}\n",
    "3, & t < 0\n",
    "\\\\-2, & 0 < t < 1\n",
    "\\\\2t - 4, & t >1\n",
    "\\end{cases}}\n",
    "\\end{align}\n",
    "\n",
    "expresse g(t) em termos de funções degrau e de rampa."
   ]
  },
  {
   "cell_type": "code",
   "execution_count": 120,
   "metadata": {},
   "outputs": [
    {
     "name": "stdout",
     "output_type": "stream",
     "text": [
      "Exemplo 7.8\n"
     ]
    }
   ],
   "source": [
    "print(\"Exemplo 7.8\")\n",
    "\n",
    "#3 - 3*u(t)\n",
    "#-2*u(t) + 2*u(t - 1)\n",
    "#2*r(t - 1) - 4*u(t - 1)\n",
    "\n",
    "#3 - 5u(t) - 2u(t - 1) + 2r(t - 1)"
   ]
  },
  {
   "cell_type": "markdown",
   "metadata": {},
   "source": [
    "**Problema Prático 7.8**\n",
    "\n",
    "Se:\n",
    "\n",
    "\\begin{align}\n",
    "{\\Large h(t) =\n",
    "\\begin{cases}\n",
    "0, & t < 0\n",
    "\\\\-4, & 0 < t < 2\n",
    "\\\\3t - 8, & 2 < t < 6\n",
    "\\\\0, & t > 6\n",
    "\\end{cases}}\n",
    "\\end{align}\n",
    "\n",
    "expresse h(t) em termos de funções de singularidade."
   ]
  },
  {
   "cell_type": "code",
   "execution_count": null,
   "metadata": {
    "collapsed": true
   },
   "outputs": [],
   "source": [
    "print(\"Problema Prático 7.8\")\n",
    "\n",
    "#-4u(t) + 4u(t-2)\n",
    "#3r(t-2) - 8*u(t-2) + 8*u(t-6)"
   ]
  },
  {
   "cell_type": "markdown",
   "metadata": {},
   "source": [
    "**Exemplo 7.9**\n",
    "\n",
    "Calcule as seguintes integrais envolvendo a função impulso.\n",
    "\n",
    "\\begin{align}\n",
    "{\\Large \\int_{0}^{10} (t^2 + 4t - 2)\\delta(t-2)dt}\n",
    "\\\\ {\\Large \\int_{-\\infty}^{\\infty} [\\delta(t - 1)e^{-t} cos(t) + \\delta(t + 1)e^{-t}sen(t)]dt}\n",
    "\\end{align}"
   ]
  },
  {
   "cell_type": "code",
   "execution_count": 139,
   "metadata": {},
   "outputs": [
    {
     "name": "stdout",
     "output_type": "stream",
     "text": [
      "Exemplo 7.9\n",
      "Primeira integral: 10\n",
      "Segunda integral: -E*sin(1) + exp(-1)*cos(1)\n"
     ]
    }
   ],
   "source": [
    "print(\"Exemplo 7.9\")\n",
    "\n",
    "u = (t**2 + 4*t - 2)*DiracDelta(t - 2)\n",
    "y = integrate(u,(t,0,10))\n",
    "print(\"Primeira integral:\", y)\n",
    "\n",
    "u = DiracDelta(t-1)*exp(-t)*cos(t) + DiracDelta(t+1)*exp(-t)*sin(t)\n",
    "y = integrate(u,(t,-oo,oo))\n",
    "print(\"Segunda integral:\", y)"
   ]
  },
  {
   "cell_type": "markdown",
   "metadata": {},
   "source": [
    "**Problema Prático 7.9**\n",
    "\n",
    "Calcule as seguintes integrais:\n",
    "\n",
    "\\begin{align}\n",
    "{\\Large \\int_{-\\infty}^{\\infty} (t^3 + 5t^2 + 10) \\delta(t + 3)dt}\n",
    "\\\\ {\\Large \\int_{0}^{10} \\delta(t - \\pi)cos(3t)dt}\n",
    "\\end{align}"
   ]
  },
  {
   "cell_type": "code",
   "execution_count": 143,
   "metadata": {},
   "outputs": [
    {
     "name": "stdout",
     "output_type": "stream",
     "text": [
      "Problema Prático 7.9\n",
      "Primeira Integral: 28\n",
      "Segunda Integral: -1\n"
     ]
    }
   ],
   "source": [
    "print(\"Problema Prático 7.9\")\n",
    "\n",
    "u = (t**3 + 5*t**2 + 10)*DiracDelta(t+3)\n",
    "y = integrate(u,(t,-oo,oo))\n",
    "print(\"Primeira Integral:\",y)\n",
    "\n",
    "u = DiracDelta(t-pi)*cos(3*t)\n",
    "y = integrate(u,(t,0,10))\n",
    "print(\"Segunda Integral:\",y)"
   ]
  }
 ],
 "metadata": {
  "kernelspec": {
   "display_name": "Python 3",
   "language": "python",
   "name": "python3"
  },
  "language_info": {
   "codemirror_mode": {
    "name": "ipython",
    "version": 3
   },
   "file_extension": ".py",
   "mimetype": "text/x-python",
   "name": "python",
   "nbconvert_exporter": "python",
   "pygments_lexer": "ipython3",
   "version": "3.5.3"
  }
 },
 "nbformat": 4,
 "nbformat_minor": 2
}
