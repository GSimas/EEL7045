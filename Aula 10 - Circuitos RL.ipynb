{
 "cells": [
  {
   "cell_type": "markdown",
   "metadata": {},
   "source": [
    "# Circuitos RL sem fonte\n",
    "\n",
    "Considere a conexão em série de um resistor e um indutor, conforme mostra a\n",
    "Figura 7.11. Em t = 0, supomos que o indutor tenha uma\n",
    "corrente inicial Io.\n",
    "\n",
    "\\begin{align}\n",
    "I(0) = I_0\n",
    "\\end{align}\n",
    "\n",
    "Assim, a energia correspondente armazenada no indutor como segue:\n",
    "\n",
    "\\begin{align}\n",
    "w(0) = \\frac{1}{2} LI_0²\n",
    "\\end{align}\n",
    "\n",
    "Exponenciando em e, obtemos:\n",
    "\n",
    "\\begin{align}\n",
    "i(t) = I_0 e^{-t \\frac{R}{L}}\n",
    "\\end{align}\n",
    "\n",
    "![](http://i.imgur.com/uSDKiS3.png)\n",
    "\n",
    "Isso demonstra que a resposta natural de um circuito RL é uma queda exponencial\n",
    "da corrente inicial. A resposta em corrente é mostrada na Figura 7.12. Fica\n",
    "evidente, da Equação, que a constante de tempo para o circuito RL é:\n",
    "\n",
    "\\begin{align}\n",
    "τ = \\frac{L}{R}\n",
    "\\end{align}\n",
    "\n",
    "![](http://i.imgur.com/qmoBboA.png)"
   ]
  }
 ],
 "metadata": {
  "kernelspec": {
   "display_name": "Python 3",
   "language": "python",
   "name": "python3"
  },
  "language_info": {
   "codemirror_mode": {
    "name": "ipython",
    "version": 3
   },
   "file_extension": ".py",
   "mimetype": "text/x-python",
   "name": "python",
   "nbconvert_exporter": "python",
   "pygments_lexer": "ipython3",
   "version": "3.5.3"
  }
 },
 "nbformat": 4,
 "nbformat_minor": 2
}
