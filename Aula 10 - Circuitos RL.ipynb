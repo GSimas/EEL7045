{
 "cells": [
  {
   "cell_type": "markdown",
   "metadata": {},
   "source": [
    "# Circuitos RL sem fonte\n",
    "\n",
    "Jupyter Notebook desenvolvido por [Gustavo S.S.](https://github.com/GSimas)\n",
    "\n",
    "Considere a conexão em série de um resistor e um indutor, conforme mostra a\n",
    "Figura 7.11. Em t = 0, supomos que o indutor tenha uma\n",
    "corrente inicial Io.\n",
    "\n",
    "\\begin{align}\n",
    "I(0) = I_0\n",
    "\\end{align}\n",
    "\n",
    "Assim, a energia correspondente armazenada no indutor como segue:\n",
    "\n",
    "\\begin{align}\n",
    "w(0) = \\frac{1}{2} LI_0²\n",
    "\\end{align}\n",
    "\n",
    "Exponenciando em e, obtemos:\n",
    "\n",
    "\\begin{align}\n",
    "i(t) = I_0 e^{-t \\frac{R}{L}}\n",
    "\\end{align}\n",
    "\n",
    "![](http://i.imgur.com/uSDKiS3.png)\n",
    "\n",
    "Isso demonstra que a resposta natural de um circuito RL é uma queda exponencial\n",
    "da corrente inicial. A resposta em corrente é mostrada na Figura 7.12. Fica\n",
    "evidente, da Equação, que a constante de tempo para o circuito RL é:\n",
    "\n",
    "\\begin{align}\n",
    "τ = \\frac{L}{R}\n",
    "\\end{align}\n",
    "\n",
    "![](http://i.imgur.com/qmoBboA.png)\n",
    "\n",
    "A tensão no resistor como segue:\n",
    "\n",
    "\\begin{align}\n",
    "v_R(t) = I_0 R e^{-t/τ}\n",
    "\\end{align}\n",
    "\n",
    "A potência dissipada no resistor é:\n",
    "\n",
    "\\begin{align}\n",
    "p = v_R i = I_0^2 R e^{-2t/τ}\n",
    "\\end{align}\n",
    "\n",
    "A energia absorvida pelo resistor é:\n",
    "\n",
    "\\begin{align}\n",
    "w_R(t) = \\int_{0}^{t} p(t)dt = \\frac{1}{2} L I_0^2 (1 - e^{-2t/τ})\n",
    "\\end{align}\n",
    "\n",
    "**Enquanto t → ∞, wr(∞) → 1/2 L I0², que é o mesmo que wl(0), a energia armazenada inicialmente no indutor**\n",
    "\n",
    "Assim, os procedimentos são:\n",
    "\n",
    "1. Determinar corrente inicial i(0) = I0 por meio do indutor.\n",
    "2. Determinar a constante de tempo τ = L/R"
   ]
  },
  {
   "cell_type": "markdown",
   "metadata": {},
   "source": [
    "**Exemplo 7.3**\n",
    "\n",
    "Supondo que i(0) = 10 A, calcule i(t) e ix(t) no circuito da Figura 7.13.\n",
    "\n",
    "![](https://i.imgur.com/VVqoaiM.png)"
   ]
  },
  {
   "cell_type": "code",
   "execution_count": 1,
   "metadata": {},
   "outputs": [
    {
     "name": "stdout",
     "output_type": "stream",
     "text": [
      "Exemplo 7.3\n",
      "Corrente i(t): 10*exp(-0.666666666666667*t) A\n",
      "Corrente ix(t): -1.66666666666667*exp(-0.666666666666667*t) A\n"
     ]
    }
   ],
   "source": [
    "print(\"Exemplo 7.3\")\n",
    "\n",
    "import numpy as np\n",
    "from sympy import *\n",
    "\n",
    "I0 = 10\n",
    "L = 0.5\n",
    "R1 = 2\n",
    "R2 = 4\n",
    "t = symbols('t')\n",
    "\n",
    "#Determinar Req = Rth\n",
    "    #Io hipotético = 1 A\n",
    "    #Analise de Malhas\n",
    "    #4i2 + 2(i2 - i0) = -3i0\n",
    "    #6i2 = 5\n",
    "    #i2 = 5/6\n",
    "    #ix' = i2 - i1 = 5/6 - 1 = -1/6\n",
    "    #Vr1 = ix' * R1 = -1/6 * 2 = -1/3\n",
    "    #Rth = Vr1/i0 = (-1/3)/(-1) = 1/3\n",
    "Rth = 1/3\n",
    "tau = L/Rth\n",
    "i = I0*exp(-t/tau)\n",
    "\n",
    "print(\"Corrente i(t):\",i,\"A\")\n",
    "\n",
    "vl = L*diff(i,t)\n",
    "ix = vl/R1\n",
    "\n",
    "print(\"Corrente ix(t):\",ix,\"A\")"
   ]
  },
  {
   "cell_type": "markdown",
   "metadata": {},
   "source": [
    "**Problema Prático 7.3**\n",
    "\n",
    "Determine i e vx no circuito da Figura 7.15. Façamos i(0) = 12 A.\n",
    "\n",
    "![](https://i.imgur.com/uwR39A9.png)"
   ]
  },
  {
   "cell_type": "code",
   "execution_count": 2,
   "metadata": {},
   "outputs": [
    {
     "name": "stdout",
     "output_type": "stream",
     "text": [
      "Problema Prático 7.3\n",
      "Corrente i(t): 12*exp(-5.75*t) A\n",
      "Tensão vx(t): -12*exp(-5.75*t) V\n"
     ]
    }
   ],
   "source": [
    "print(\"Problema Prático 7.3\")\n",
    "\n",
    "L = 2\n",
    "I0 = 12\n",
    "R1 = 1\n",
    "\n",
    "#Determinar Req = Rth\n",
    "\n",
    "    #i0 hipotetico = 1 A\n",
    "    #vx = 4 V\n",
    "    #vx + 2(i0 - i1) + 2vx - v0 = 0\n",
    "    #-2i1 - v0 = -14\n",
    "    \n",
    "    #-2vx + 2(i1 - i0) + 6i1 = 0\n",
    "        #8i1 = 10\n",
    "        #i1 = 10/8 = 5/4\n",
    "    \n",
    "    #v0 = vx + 2(i0 - i1) + 2vx\n",
    "        #v0 = 4 + 2 - 5/2 + 8 = 11.5\n",
    "    \n",
    "    #Rth = v0/i0 = 11.5/1 = 11.5\n",
    "Rth = 11.5\n",
    "tau = L/Rth\n",
    "i = I0*exp(-t/tau)\n",
    "\n",
    "print(\"Corrente i(t):\",i,\"A\")\n",
    "\n",
    "vx = -R1*i\n",
    "\n",
    "print(\"Tensão vx(t):\",vx,\"V\")"
   ]
  },
  {
   "cell_type": "markdown",
   "metadata": {},
   "source": [
    "**Exemplo 7.4**\n",
    "\n",
    "A chave do circuito da Figura 7.16 foi fechada por um longo período. Em t = 0, a chave\n",
    "é aberta. Calcule i(t) para t > 0.\n",
    "\n",
    "![](https://i.imgur.com/gF1mXJT.png)\n"
   ]
  },
  {
   "cell_type": "code",
   "execution_count": 3,
   "metadata": {},
   "outputs": [
    {
     "name": "stdout",
     "output_type": "stream",
     "text": [
      "Exemplo 7.4\n",
      "Corrente i(t): 6.0*exp(-4.0*t) A\n"
     ]
    }
   ],
   "source": [
    "print(\"Exemplo 7.4\")\n",
    "\n",
    "Vs = 40\n",
    "L = 2\n",
    "\n",
    "def Req(x,y): #funcao para calculo de resistencia equivalente em paralelo\n",
    "    res = (x*y)/(x + y)\n",
    "    return res\n",
    "\n",
    "Req1 = Req(4,12)\n",
    "V1 = Vs*Req1/(Req1 + 2)\n",
    "I0 = V1/4\n",
    "\n",
    "Req2 = 12 + 4\n",
    "Rth = Req(Req2, 16)\n",
    "\n",
    "tau = L/Rth\n",
    "\n",
    "i = I0*exp(-t/tau)\n",
    "\n",
    "print(\"Corrente i(t):\",i,\"A\")"
   ]
  },
  {
   "cell_type": "markdown",
   "metadata": {},
   "source": [
    "**Problema Prático 7.4**\n",
    "\n",
    "Para o circuito da Figura 7.18, determine i(t) para t > 0.\n",
    "\n",
    "![](https://i.imgur.com/7XTimt9.png)"
   ]
  },
  {
   "cell_type": "code",
   "execution_count": 4,
   "metadata": {},
   "outputs": [
    {
     "name": "stdout",
     "output_type": "stream",
     "text": [
      "Problema Prático 7.4\n",
      "Corrente i(t): 5.0*exp(-2.0*t) A\n"
     ]
    }
   ],
   "source": [
    "print(\"Problema Prático 7.4\")\n",
    "\n",
    "L = 2\n",
    "Cs = 15\n",
    "R1 = 24\n",
    "\n",
    "Req1 = Req(12,8)\n",
    "i1 = Cs*R1/(R1 + Req1)\n",
    "I0 = i1*8/(8 + 12)\n",
    "\n",
    "Rth = Req(12+8,5)\n",
    "tau = L/Rth\n",
    "\n",
    "i = I0*exp(-t/tau)\n",
    "\n",
    "print(\"Corrente i(t):\",i,\"A\")"
   ]
  },
  {
   "cell_type": "markdown",
   "metadata": {},
   "source": [
    "**Exemplo 7.5**\n",
    "\n",
    "No circuito indicado na Figura 7.19, encontre io, vo e i durante todo o tempo, supondo\n",
    "que a chave fora aberta por um longo período.\n",
    "\n",
    "![](https://i.imgur.com/SIls1dG.png)"
   ]
  },
  {
   "cell_type": "code",
   "execution_count": 5,
   "metadata": {},
   "outputs": [
    {
     "name": "stdout",
     "output_type": "stream",
     "text": [
      "Exemplo 7.5\n",
      "Para t < 0, i0: 0 A\n",
      "Para t < 0, i: 2.0 A\n",
      "Para t < 0, v0: 6.0 V\n",
      "Para t > 0, i0: -0.666666666666667*exp(-1.0*t) A\n",
      "Para t > 0, v0: 4.0*exp(-1.0*t) V\n",
      "Para t > 0 i: 2.0*exp(-1.0*t) A\n"
     ]
    }
   ],
   "source": [
    "print(\"Exemplo 7.5\")\n",
    "\n",
    "Vs = 10\n",
    "L = 2\n",
    "\n",
    "print(\"Para t < 0, i0:\",0,\"A\")\n",
    "\n",
    "I0 = Vs/(2 + 3)\n",
    "v0 = 3*I0\n",
    "\n",
    "print(\"Para t < 0, i:\",I0,\"A\")\n",
    "print(\"Para t < 0, v0:\",v0,\"V\")\n",
    "\n",
    "Rth = Req(3,6)\n",
    "tau = L/Rth\n",
    "i = I0*exp(-t/tau)\n",
    "v0 = -L*diff(i,t)\n",
    "i0 = -i*3/(3 + 6)\n",
    "\n",
    "print(\"Para t > 0, i0:\",i0,\"A\")\n",
    "print(\"Para t > 0, v0:\",v0,\"V\")\n",
    "print(\"Para t > 0 i:\",i,\"A\")"
   ]
  },
  {
   "cell_type": "markdown",
   "metadata": {},
   "source": [
    "**Problema Prático 7.5**\n",
    "\n",
    "Determine i, io e vo para todo t no circuito mostrado na Figura 7.22.\n",
    "\n",
    "![](https://i.imgur.com/aBRyPkM.png)"
   ]
  },
  {
   "cell_type": "code",
   "execution_count": 6,
   "metadata": {},
   "outputs": [
    {
     "name": "stdout",
     "output_type": "stream",
     "text": [
      "Problema Prático 7.5\n",
      "Para t < 0, i = 16.0 A\n",
      "Para t < 0, i0 = 8.0 A\n",
      "Para t < 0, v0 = 32.0 V\n",
      "Para t < 0, i = 16.0*exp(-2.0*t) A\n",
      "Para t < 0, i0 = -5.33333333333333*exp(-2.0*t) A\n",
      "Para t < 0, v0 = 10.6666666666667*exp(-2.0*t) V\n"
     ]
    }
   ],
   "source": [
    "print(\"Problema Prático 7.5\")\n",
    "\n",
    "Cs = 24\n",
    "L = 1\n",
    "\n",
    "#Para t < 0\n",
    "i = Cs*4/(4 + 2)\n",
    "i0 = Cs*2/(2 + 4)\n",
    "v0 = 2*i\n",
    "print(\"Para t < 0, i =\",i,\"A\")\n",
    "print(\"Para t < 0, i0 =\",i0,\"A\")\n",
    "print(\"Para t < 0, v0 =\",v0,\"V\")\n",
    "\n",
    "#Para t > 0\n",
    "R = Req(4 + 2,3)\n",
    "tau = L/R\n",
    "I0 = i\n",
    "i = I0*exp(-t/tau)\n",
    "i0 = -i*3/(3 + 4 + 2)\n",
    "v0 = -i0*2\n",
    "print(\"Para t < 0, i =\",i,\"A\")\n",
    "print(\"Para t < 0, i0 =\",i0,\"A\")\n",
    "print(\"Para t < 0, v0 =\",v0,\"V\")"
   ]
  }
 ],
 "metadata": {
  "kernelspec": {
   "display_name": "Python 3",
   "language": "python",
   "name": "python3"
  },
  "language_info": {
   "codemirror_mode": {
    "name": "ipython",
    "version": 3
   },
   "file_extension": ".py",
   "mimetype": "text/x-python",
   "name": "python",
   "nbconvert_exporter": "python",
   "pygments_lexer": "ipython3",
   "version": "3.5.3"
  }
 },
 "nbformat": 4,
 "nbformat_minor": 2
}
