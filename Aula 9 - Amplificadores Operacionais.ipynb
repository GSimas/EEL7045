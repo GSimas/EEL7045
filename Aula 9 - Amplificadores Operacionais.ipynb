{
 "cells": [
  {
   "cell_type": "markdown",
   "metadata": {},
   "source": [
    "> \"Aqueles que não ponderam são fanáticos, aqueles que não podem são tolos, e\n",
    "aqueles que não ousam são escravos\" - Lord Byron\n",
    "\n",
    "\n",
    "# Amplificadores Operacionais\n",
    "\n",
    "**O amplificador operacional é uma unidade eletrônica que se comporta\n",
    "como uma fonte de tensão controlada por tensão.**\n",
    "\n",
    "Um amplificador operacional\n",
    "também pode ser considerado\n",
    "um amplificador de tensão de\n",
    "alto ganho."
   ]
  }
 ],
 "metadata": {
  "kernelspec": {
   "display_name": "Python 3",
   "language": "python",
   "name": "python3"
  },
  "language_info": {
   "codemirror_mode": {
    "name": "ipython",
    "version": 3
   },
   "file_extension": ".py",
   "mimetype": "text/x-python",
   "name": "python",
   "nbconvert_exporter": "python",
   "pygments_lexer": "ipython3",
   "version": "3.5.3"
  }
 },
 "nbformat": 4,
 "nbformat_minor": 2
}
