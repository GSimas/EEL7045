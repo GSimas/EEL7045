{
 "cells": [
  {
   "cell_type": "markdown",
   "metadata": {},
   "source": [
    "# Aula 5 - Análise de Malhas\n",
    "\n",
    "**A análise de malhas também é\n",
    "conhecida como análise de laço ou\n",
    "método malha corrente.**\n",
    "\n",
    "Lembre-se de que um\n",
    "laço é um caminho fechado que não passa mais de uma vez pelo mesmo nó.\n",
    "Uma malha é um laço que não contém qualquer outro laço dentro de si.\n",
    "\n",
    "O circuito da Figura 3.15a tem dois ramos\n",
    "que se cruzam, porém ele pode ser redesenhado como na Figura 3.15b.\n",
    "o circuito da Figura 3.15a também é planar; entretanto, o circuito da\n",
    "Figura 3.16 é não planar, pois não há nenhuma maneira de redesenhá-lo sem\n",
    "que haja algum cruzamento entre ramos.\n",
    "\n",
    "![](http://i.imgur.com/3Gu3UOb.png)\n",
    "![](http://i.imgur.com/V5yAmq0.png)\n",
    "\n",
    "**Malha é um laço que não contém nenhum outro laço em seu interior.**"
   ]
  }
 ],
 "metadata": {
  "kernelspec": {
   "display_name": "Python 3",
   "language": "python",
   "name": "python3"
  },
  "language_info": {
   "codemirror_mode": {
    "name": "ipython",
    "version": 3
   },
   "file_extension": ".py",
   "mimetype": "text/x-python",
   "name": "python",
   "nbconvert_exporter": "python",
   "pygments_lexer": "ipython3",
   "version": "3.5.3"
  }
 },
 "nbformat": 4,
 "nbformat_minor": 2
}
