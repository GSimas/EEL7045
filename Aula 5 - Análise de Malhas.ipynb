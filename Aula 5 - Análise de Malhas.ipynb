{
 "cells": [
  {
   "cell_type": "markdown",
   "metadata": {},
   "source": [
    "# Aula 5 - Análise de Malhas\n",
    "\n",
    "Jupyter Notebook desenvolvido por [Gustavo S.S.](https://github.com/GSimas)\n",
    "\n",
    "**A análise de malhas também é\n",
    "conhecida como análise de laço ou\n",
    "método malha corrente.**\n",
    "\n",
    "Lembre-se de que um\n",
    "laço é um caminho fechado que não passa mais de uma vez pelo mesmo nó.\n",
    "Uma malha é um laço que não contém qualquer outro laço dentro de si.\n",
    "\n",
    "O circuito da Figura 3.15a tem dois ramos\n",
    "que se cruzam, porém ele pode ser redesenhado como na Figura 3.15b.\n",
    "o circuito da Figura 3.15a também é planar; entretanto, o circuito da\n",
    "Figura 3.16 é não planar, pois não há nenhuma maneira de redesenhá-lo sem\n",
    "que haja algum cruzamento entre ramos.\n",
    "\n",
    "![](http://i.imgur.com/3Gu3UOb.png)\n",
    "![](http://i.imgur.com/V5yAmq0.png)\n",
    "\n",
    "**Malha é um laço que não contém nenhum outro laço em seu interior.**\n",
    "\n",
    "![](http://i.imgur.com/eihmMJc.png)\n",
    "\n",
    "O sentido da corrente de malha\n",
    "é arbitrário (sentido horário ou\n",
    "anti-horário) e não afeta a validade\n",
    "da solução.\n",
    "\n",
    "Etapas na determinação de correntes de malha:\n",
    "\n",
    "1. Atribua correntes de malha i1, i2, ..., in a n malhas.\n",
    "2. Aplique a LKT a cada uma das n malhas. Use a lei de Ohm para expressar as tensões em termos de correntes de malha.\n",
    "3. Resolva as n equações simultâneas resultantes para obter as correntes de malha.\n",
    "\n",
    "Resolução para a figura 3.17. \n",
    "\n",
    "Malha 1:\n",
    "\n",
    "\\begin{align}\n",
    "{\\Large -V_1 + R_1i_1 + R_3(i_1 - i_2) = 0}\n",
    "\\\\{\\Large (R_1 + R_3)i_1 - R_3i_2 = V_1}\n",
    "\\end{align}\n",
    "\n",
    "Malha 2:\n",
    "\n",
    "\\begin{align}\n",
    "{\\Large R_2i_2 + V_2 + R_3(i_2 - i_1) = 0}\n",
    "\\\\{\\Large -R_3i_1 + (R_2 + R_3)i_2 = -V_2}\n",
    "\\end{align}\n",
    "\n",
    "Reorganizando as equações, temos:\n",
    "\n",
    "\\begin{align}\n",
    "\\begin{bmatrix}\n",
    "R_1 + R_3   & -R_3 \\\\\n",
    "-R_3        & R_2 + R_3\n",
    "\\end{bmatrix}\n",
    "\\begin{bmatrix}\n",
    "i_1 \\\\\n",
    "i_2\n",
    "\\end{bmatrix}\n",
    "=\n",
    "\\begin{bmatrix}\n",
    "V_1 \\\\\n",
    "-V_2\n",
    "\\end{bmatrix}\n",
    "\\end{align}\n",
    "\n",
    "Note que **as correntes de ramo são diferentes das de malha, a menos que a\n",
    "malha esteja isolada**. Para distinguir entre os dois tipos de correntes, usaremos\n",
    "i para indicar correntes de malha e I para indicar correntes de ramo. Os elementos\n",
    "de corrente I1, I2 e I3 são somas algébricas das correntes de malha. Fica\n",
    "evidente da Figura 3.17 que:\n",
    "\n",
    "\\begin{align}\n",
    "{\\Large I_1 = i_1}\n",
    "\\\\{\\Large I_2 = i_2}\n",
    "\\\\{\\Large I_3 = i_1 - i_2}\n",
    "\\end{align}"
   ]
  },
  {
   "attachments": {},
   "cell_type": "markdown",
   "metadata": {},
   "source": [
    "**Exemplo 3.5**\n",
    "\n",
    "Para o circuito da Figura 3.18, determine as correntes de ramo I1, I2 e I3 usando a análise\n",
    "de malhas.\n",
    "\n",
    "![](https://i.imgur.com/T4NYpUP.png)"
   ]
  },
  {
   "cell_type": "code",
   "execution_count": 1,
   "metadata": {},
   "outputs": [
    {
     "name": "stdout",
     "output_type": "stream",
     "text": [
      "Exemplo 3.5\n",
      "Corrente I1: [[ 1.]] A\n",
      "Corrente I2: [[ 1.]] A\n",
      "Corrente I3: [[ -2.22044605e-16]] A\n"
     ]
    }
   ],
   "source": [
    "print(\"Exemplo 3.5\")\n",
    "import numpy as np\n",
    "\n",
    "V1 = 15\n",
    "V2 = 10\n",
    "\n",
    "#Malha 1:\n",
    "#-V1 + 5i1 + 10(i1 - i2) + V2 = 0\n",
    "    #15i1 - 10i2 = 5\n",
    "    #3i1 - 2i2 = 1\n",
    "    \n",
    "#Malha 2:\n",
    "#-V2 + 10(i2 - i1) + 6i2 + 4i2 = 0\n",
    "    #20i2 - 10i1 = 10\n",
    "    #2i2 - i1 = 1\n",
    "    \n",
    "coef = np.matrix('3 -2;2 -1')\n",
    "res = np.matrix('1;1')\n",
    "I = np.linalg.inv(coef)*res\n",
    "print(\"Corrente I1:\",I[0],\"A\")\n",
    "print(\"Corrente I2:\",I[1],\"A\")\n",
    "print(\"Corrente I3:\",I[0]-I[1],\"A\") #aproximadamente = 0"
   ]
  },
  {
   "attachments": {},
   "cell_type": "markdown",
   "metadata": {},
   "source": [
    "**Problema Prático 3.5**\n",
    "\n",
    "Calcule as correntes de malha i1 e i2 no circuito da Figura 3.19.\n",
    "\n",
    "![](https://i.imgur.com/Lc6Oogw.png)"
   ]
  },
  {
   "cell_type": "code",
   "execution_count": 3,
   "metadata": {},
   "outputs": [
    {
     "name": "stdout",
     "output_type": "stream",
     "text": [
      "Problema Prático 3.5\n",
      "Corrente i1: [[ 2.5]] A\n",
      "Corrente i2: [[ 0.]] A\n"
     ]
    }
   ],
   "source": [
    "print(\"Problema Prático 3.5\")\n",
    "V1 = 45\n",
    "V2 = 30\n",
    "\n",
    "#Malha 1:\n",
    "#2i1 + 12(i1 - i2) + 4i1 = V1\n",
    "    #18i1 - 12i2 = 45\n",
    "    #6i1 - 4i2 = 15\n",
    "\n",
    "#Malha 2:\n",
    "#3i2 + 12(i2 - i1) + 9i2 = -V2\n",
    "    #-12i1 + 24i2 = 30\n",
    "    #-2i1 + 4i2 = -5\n",
    "\n",
    "coef = np.matrix(\"6 -4;-2 4\")\n",
    "res = np.matrix(\"15;-5\")\n",
    "I = np.linalg.inv(coef)*res\n",
    "print(\"Corrente i1:\",I[0],\"A\")\n",
    "print(\"Corrente i2:\",I[1],\"A\")"
   ]
  },
  {
   "attachments": {},
   "cell_type": "markdown",
   "metadata": {},
   "source": [
    "**Exemplo 3.6**\n",
    "\n",
    "Use a análise de malhas para encontrar a corrente Io no circuito da Figura 3.20.\n",
    "\n",
    "![](https://i.imgur.com/0eWp0u2.png)"
   ]
  },
  {
   "cell_type": "code",
   "execution_count": 4,
   "metadata": {},
   "outputs": [
    {
     "name": "stdout",
     "output_type": "stream",
     "text": [
      "Exemplo 3.6\n",
      "Corrente i0: [[ 1.5]] A\n"
     ]
    }
   ],
   "source": [
    "print(\"Exemplo 3.6\")\n",
    "V1 = 24\n",
    "CCVS = 4#io\n",
    "\n",
    "#Malha 1:\n",
    "#10(i1 - i2) + 12(i1 - i3) = V1\n",
    "    #22i1 - 10i2 - 12i3 = 24\n",
    "    #11i1 - 5i2 - 6i3 = 12\n",
    "\n",
    "#Malha 2:\n",
    "#24i2 + 4(i2 - i3) + 10(i2 - i1) = 0\n",
    "    #-10i1 + 38i2 - 4i3 = 0\n",
    "    #-5i1 + 19i2 - 2i3 = 0\n",
    "\n",
    "#Malha 3:\n",
    "#12(i3 - i1) + 4(i3 - i2) + 4i0 = 0\n",
    "    #i0 = i1 - i2\n",
    "    #-12i1 - 4i2 + 16i3 + 4(i1 - i2) = 0\n",
    "    #-8i1 - 8i2 + 16i3 = 0\n",
    "    #-i1 - i2 + 2i3 = 0\n",
    "\n",
    "coef = np.matrix(\"11 -5 -6;-5 19 -2;-1 -1 2\")\n",
    "res = np.matrix(\"12;0;0\")\n",
    "I = np.linalg.inv(coef)*res\n",
    "print(\"Corrente i0:\",I[0]-I[1],\"A\")"
   ]
  },
  {
   "attachments": {},
   "cell_type": "markdown",
   "metadata": {},
   "source": [
    "**Problema Prático 3.6**\n",
    "\n",
    "Usando a análise de malhas, determine Io no circuito da Figura 3.21.\n",
    "\n",
    "![](https://i.imgur.com/81rgSLH.png)"
   ]
  },
  {
   "cell_type": "code",
   "execution_count": 7,
   "metadata": {},
   "outputs": [
    {
     "name": "stdout",
     "output_type": "stream",
     "text": [
      "Problema Prático 3.6\n",
      "Corrente i0: [[-4.]] A\n"
     ]
    }
   ],
   "source": [
    "print(\"Problema Prático 3.6\")\n",
    "V1 = 16\n",
    "CCVS = 10#io\n",
    "\n",
    "#Malha 1:\n",
    "#-V1 + 4(i1 - i3) + 2(i1 - i2) = 0\n",
    "    #6i1 - 2i2 - 4i3 = 16\n",
    "    #3i1 - i2 - 2i3 = 8\n",
    "\n",
    "#Malha 2:\n",
    "#2(i2 - i1) + 8(i2 - i3) - CCVS = 0\n",
    "    #-2i1 + 10i2 - 8i3 = 10i0\n",
    "    #i0 = i3\n",
    "    #-i1 + 5i2 - 9i3 = 0\n",
    "\n",
    "#Malha 3:\n",
    "#6i3 + 8(i3 - i2) + 4(i3 - i1) = 0\n",
    "    #-4i1 - 8i2 + 18i3 = 0\n",
    "    #-2i1 - 4i2 + 9i3 = 0\n",
    "\n",
    "coef = np.matrix(\"3 -1 -2;-1 5 -9;-2 -4 9\")\n",
    "res = np.matrix(\"8;0;0\")\n",
    "I = np.linalg.inv(coef)*res\n",
    "print(\"Corrente i0:\",I[2],\"A\")"
   ]
  },
  {
   "attachments": {
    "image.png": {
     "image/png": "[encoded data removed]"
    }
   },
   "cell_type": "markdown",
   "metadata": {},
   "source": [
    "## Análise de malhas com fontes de corrente\n",
    "\n",
    "**Caso 1**: Quando existe uma fonte de corrente apenas em uma malha:\n",
    "considere, por exemplo, o circuito da Figura 3.22. Fazemos i2 = –5 A e escrevemos\n",
    "uma equação de malha para a outra malha da maneira usual, isto é:\n",
    "\n",
    "\\begin{align}\n",
    "{\\Large -10 + 4i_1 + 6(i_1 - i_2) = 0}\n",
    "\\\\{\\Large i_1 = -2 A}\n",
    "\\end{align}\n",
    "\n",
    "![image.png](attachment:image.png)\n",
    "\n",
    "**Caso 2**: Quando uma fonte de corrente existe entre duas malhas: considere\n",
    "o circuito da Figura 3.23a, por exemplo. Criamos uma supermalha, excluindo\n",
    "a fonte de corrente e quaisquer elementos a ela associados em série,\n",
    "como mostrado na Figura 3.23b. Logo:\n",
    "\n",
    "**Uma supermalha é resultante quando duas malhas possuem uma fonte de\n",
    "corrente (dependente ou independente) em comum.**\n",
    "\n",
    "![](http://i.imgur.com/zLuuvRX.png)\n",
    "\n",
    "uma supermalha deve realizar a LKT como qualquer outra malha. Assim, aplicando\n",
    "a LKT à supermalha da Figura 3.23b, temos:\n",
    "\n",
    "\\begin{align}\n",
    "{\\Large -20 + 6i_1 + 10i_2 + 4i+2 = 0}\n",
    "\\\\{\\Large 6i_1 + 14i_2 = 20}\n",
    "\\\\Assim:\n",
    "\\\\{\\Large i_1 = -3,2 A}\n",
    "\\\\{\\Large i_2 = 2,8 A}\n",
    "\\end{align}"
   ]
  },
  {
   "attachments": {},
   "cell_type": "markdown",
   "metadata": {},
   "source": [
    "**Exemplo 3.7**\n",
    "\n",
    "Para o circuito da Figura 3.24, determine i1 a i4 usando a análise de malhas.\n",
    "\n",
    "![](https://i.imgur.com/2MmMnFa.png)"
   ]
  },
  {
   "cell_type": "code",
   "execution_count": 8,
   "metadata": {},
   "outputs": [
    {
     "name": "stdout",
     "output_type": "stream",
     "text": [
      "Exemplo 3.7\n",
      "Corrente i1: [[-7.5]] A\n",
      "Corrente i4: [[ 2.14285714]] A\n"
     ]
    }
   ],
   "source": [
    "print(\"Exemplo 3.7\")\n",
    "V1 = 10\n",
    "C1 = 5\n",
    "CCCS = 3#io\n",
    "\n",
    "#Supermalha:\n",
    "#2i1 + 4i3 + 8(i3 - i4) + 6i2 = 0\n",
    "    #2i1 + 6i2 + 12i3 - 8i4 = 0\n",
    "    #i4 = -i0\n",
    "    #i1 + 3i2 + 6i3 + 4i0 = 0\n",
    "    #i2 - i3 = 3i0 => i3 = i2 - 3i0\n",
    "    #i2 - i1 = 5 => i1 = i2 - 5\n",
    "    #i2 - 5 + 3i2 + 6(i2 - 3i0) + 4i0 = 0\n",
    "        #10i2 - 14i0 = 5\n",
    "\n",
    "#Malha 4:\n",
    "#V1 + 8(i4 - i3) + 2i4 = 0\n",
    "    #-8i3 + 10i4 = -10\n",
    "    #-4i3 - 5i0 = -5\n",
    "    #-4(i2 - 3i0) - 5i0 = -5\n",
    "        #-4i2 + 7i0 = -5\n",
    "\n",
    "coef = np.matrix(\"10 -14; -4 7\")\n",
    "res = np.matrix(\"5;-5\")\n",
    "I = np.linalg.inv(coef)*res\n",
    "i1 = I[0] - 5\n",
    "i4 = -I[1]\n",
    "print(\"Corrente i1:\",i1,\"A\")\n",
    "print(\"Corrente i4:\",i4,\"A\")"
   ]
  },
  {
   "attachments": {},
   "cell_type": "markdown",
   "metadata": {},
   "source": [
    "**Problema Prático 3.7**\n",
    "\n",
    "Use a análise de malhas para determinar i1, i2 e i3 na Figura 3.25.\n",
    "\n",
    "![](https://i.imgur.com/WI6KsR9.png)"
   ]
  },
  {
   "cell_type": "code",
   "execution_count": 9,
   "metadata": {},
   "outputs": [
    {
     "name": "stdout",
     "output_type": "stream",
     "text": [
      "Problema Prático 3.7\n",
      "Corrente i1: [[ 4.63157895]] A\n",
      "Corrente i2: [[ 0.63157895]] A\n",
      "Corrente i3: [[ 1.47368421]] A\n"
     ]
    }
   ],
   "source": [
    "print(\"Problema Prático 3.7\")\n",
    "V1 = 8\n",
    "C1 = 4\n",
    "\n",
    "#Supermalha (Malha 1 e Malha 2):\n",
    "#2(i1 - i3) + 4(i2 - i3) + 8i2 = 8\n",
    "    #2i1 + 12i2 - 6i3 = 8\n",
    "    #i1 + 6i2 - 3i3 = 4\n",
    "    #i1 - i2 = 4 => i2 = i1 - 4\n",
    "    #i1 + 6(i1 - 4) - 3i3 = 4\n",
    "        #7i1 - 3i3 = 28\n",
    "\n",
    "\n",
    "#2i3 + 4(i3 - i2) + 2(i3 - i1) = 0\n",
    "    #-2i1 - 4i2 + 8i3 = 0\n",
    "    #-i1 - 2i2 + 4i3 = 0\n",
    "        #-i1 - 2(i1 - 4) + 4i3 = 0\n",
    "        #-3i1 + 4i3 = -8\n",
    "\n",
    "coef = np.matrix(\"7 -3;-3 4\")\n",
    "res = np.matrix(\"28;-8\")\n",
    "I = np.linalg.inv(coef)*res\n",
    "i2 = I[0] - 4\n",
    "print(\"Corrente i1:\",I[0],\"A\")\n",
    "print(\"Corrente i2:\",i2,\"A\")\n",
    "print(\"Corrente i3:\",I[1],\"A\")"
   ]
  }
 ],
 "metadata": {
  "kernelspec": {
   "display_name": "Python 3",
   "language": "python",
   "name": "python3"
  },
  "language_info": {
   "codemirror_mode": {
    "name": "ipython",
    "version": 3
   },
   "file_extension": ".py",
   "mimetype": "text/x-python",
   "name": "python",
   "nbconvert_exporter": "python",
   "pygments_lexer": "ipython3",
   "version": "3.5.3"
  }
 },
 "nbformat": 4,
 "nbformat_minor": 2
}
