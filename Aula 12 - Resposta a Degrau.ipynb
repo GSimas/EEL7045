{
 "cells": [
  {
   "cell_type": "markdown",
   "metadata": {},
   "source": [
    "# Resposta a Degrau\n",
    "Jupyter Notebook desenvolvido por [Gustavo S.S.](https://github.com/GSimas)\n",
    "\n",
    "## Resposta a um degrau de um circuito RC\n",
    "\n",
    "Quando a fonte CC de um circuito RC for aplicada repentinamente, a fonte de\n",
    "tensão ou de corrente pode ser modelada como uma função degrau, e a resposta\n",
    "é conhecida como resposta a um degrau.\n",
    "\n",
    "**A resposta a um degrau de um circuito é seu comportamento quando a\n",
    "excitação for a função degrau, que pode ser uma fonte de tensão ou de\n",
    "corrente.**\n",
    "\n",
    "\\begin{align}\n",
    "{\\Large v(0^-) = v(0^+) = V_0}\n",
    "\\end{align}\n",
    "\n",
    "A resposta completa (ou resposta total) de um circuito\n",
    "RC à aplicação súbita de uma fonte de tensão CC, partindo do pressuposto de\n",
    "que o capacitor esteja inicialmente carregado, é dada como:\n",
    "\n",
    "\\begin{align}\n",
    "{\\Large v(t) =\n",
    "\\begin{cases}\n",
    "V_0, & t < 0\n",
    "\\\\V_S + (V_0 - V_S)e^{-t/ \\tau}, & t > 0\n",
    "\\end{cases}}\n",
    "\\end{align}\n",
    "\n",
    "![](https://i.imgur.com/3obDdyf.png)\n",
    "\n",
    "Se considerarmos que o capacitor esteja inicialmente **descarregado**, fazemos\n",
    "que V0 = 0\n",
    "\n",
    "\\begin{align}\n",
    "{\\Large v(t) =\n",
    "\\begin{cases}\n",
    "0, & t < 0\n",
    "\\\\V_S(1 - V_S)e^{-t/ \\tau}, & t > 0\n",
    "\\end{cases}}\n",
    "\\end{align}\n",
    "\n",
    "que pode ser escrito de forma alternativa como:\n",
    "\n",
    "\\begin{align}\n",
    "{\\Large v(t) = V_S(1 - e^{-t / \\tau})u(t)}\n",
    "\\end{align}\n",
    "\n",
    "A corrente através do capacitor é obtida usando-se i(t) = C dv/dt. Obtemos:\n",
    "\n",
    "\\begin{align}\n",
    "{\\Large i(t) = \\frac{V_S}{R} e^{-t / \\tau}u(t)}\n",
    "\\end{align}\n",
    "\n",
    "![](https://i.imgur.com/nYKml9V.png)\n",
    "\n",
    "Assim:\n",
    "\n",
    "\\begin{align}\n",
    "{\\Large v = v_n + v_f}\n",
    "\\\\{\\Large onde}\n",
    "\\\\{\\Large v_n = V_0 e^{-t / \\tau}}\n",
    "\\\\{\\Large v_f = V_S(1 - e^{-t / \\tau})}\n",
    "\\end{align}\n",
    "\n",
    "Em palavras:\n",
    "\n",
    "![](https://i.imgur.com/KMcMJ15.png)\n",
    "\n",
    "**Resposta transiente é a resposta temporária do circuito que se extinguirá\n",
    "com o tempo.**\n",
    "\n",
    "**Resposta em regime estacionário é o comportamento do circuito um\n",
    "longo tempo após a excitação externa ter sido aplicada.**\n",
    "\n",
    "Seja lá qual for o modo que a examinamos, a resposta completa pode ser escrita como:\n",
    "\n",
    "\\begin{align}\n",
    "{\\Large v(t) = v(\\infty) + [v(0) - v(\\infty)]e^{-t / \\tau}}\n",
    "\\end{align}\n",
    "\n",
    "Portanto, encontrar a resposta a um degrau de um circuito RC requer\n",
    "três coisas:\n",
    "\n",
    "1. A tensão v(0) no capacitor\n",
    "2. A tensão final v (∞) no capacitor\n",
    "3. A constante de tempo τ"
   ]
  },
  {
   "cell_type": "markdown",
   "metadata": {},
   "source": [
    "**Exemplo 7.10**\n",
    "\n",
    "A chave da Figura 7.43 se encontra na posição A há um bom tempo. Em t = 0, a\n",
    "chave é mudada para a posição B. Determine v(t) para t > 0 e calcule seu valor em\n",
    "t = 1 s e 4 s.\n",
    "\n",
    "![](https://i.imgur.com/h4SqLxR.png)"
   ]
  },
  {
   "cell_type": "code",
   "execution_count": 1,
   "metadata": {},
   "outputs": [
    {
     "name": "stdout",
     "output_type": "stream",
     "text": [
      "Exemplo 7.10\n",
      "Tensão v(t): 30 - 15.0*exp(-0.5*t) V\n"
     ]
    }
   ],
   "source": [
    "print(\"Exemplo 7.10\")\n",
    "from sympy import *\n",
    "\n",
    "m = 10**(-3)\n",
    "k = 10**3\n",
    "C = 0.5*m\n",
    "\n",
    "Vc0 = 24*5*k/(3*k + 5*k) #tensao no capacitor em condicao inicial v0\n",
    "Vcf = 30 #tensao no capacitor em condicao final \n",
    "\n",
    "tau = 4*k*C\n",
    "\n",
    "t = symbols('t')\n",
    "\n",
    "v = Vcf + (Vc0 - Vcf)*exp(-t/tau)\n",
    "\n",
    "print(\"Tensão v(t):\",v,\"V\")"
   ]
  },
  {
   "cell_type": "markdown",
   "metadata": {},
   "source": [
    "**Problema Prático 7.10**\n",
    "\n",
    "Determine v(t) para t > 0 no circuito da Figura 7.44. Suponha que a chave esteja aberta\n",
    "há um longo período e que é fechada em t = 0. Calcule v(t) em t = 0,5.\n",
    "\n",
    "![](https://i.imgur.com/kRUa1Sv.png)"
   ]
  },
  {
   "cell_type": "code",
   "execution_count": 8,
   "metadata": {},
   "outputs": [
    {
     "name": "stdout",
     "output_type": "stream",
     "text": [
      "Problema Prático 7.10\n",
      "Tensão v(t): 9.375 + 5.625*exp(-2.0*t) V\n",
      "Tensão v(0.5): 11.4443218565894 V\n"
     ]
    }
   ],
   "source": [
    "print(\"Problema Prático 7.10\")\n",
    "\n",
    "C = 1/3\n",
    "\n",
    "Vc0 = 15\n",
    "Vcf = (15 + 7.5)*6/(6 + 2) - 7.5\n",
    "\n",
    "R = 6*2/(6 + 2)\n",
    "tau = R*C\n",
    "\n",
    "v = Vcf + (Vc0 - Vcf)*exp(-t/tau)\n",
    "print(\"Tensão v(t):\",v,\"V\")\n",
    "\n",
    "print(\"Tensão v(0.5):\",v.subs(t,0.5),\"V\")"
   ]
  },
  {
   "cell_type": "markdown",
   "metadata": {},
   "source": [
    "**Exemplo 7.11**\n",
    "\n",
    "Na Figura 7.45, a chave foi fechada há um longo tempo e é aberta em t = 0. Determine\n",
    "i e v durante todo o período.\n",
    "\n",
    "![](https://i.imgur.com/63bH1Dm.png)"
   ]
  },
  {
   "cell_type": "code",
   "execution_count": 22,
   "metadata": {},
   "outputs": [
    {
     "name": "stdout",
     "output_type": "stream",
     "text": [
      "Exemplo 7.11\n",
      "Tensão v0: 10 V\n",
      "Tensão v(t): 20.0 - 10.0*exp(-0.6*t) V\n",
      "Corrente i0: -1.0 A\n",
      "Corrente i(t): 1.0 + 1.0*exp(-0.6*t) A\n"
     ]
    }
   ],
   "source": [
    "print(\"Exemplo 7.11\")\n",
    "\n",
    "C = 1/4\n",
    "\n",
    "Vc0 = 10\n",
    "Vcf = 30*20/(20 + 10)\n",
    "\n",
    "R = 10*20/(10 + 20)\n",
    "tau = R*C\n",
    "\n",
    "print(\"Tensão v0:\",Vc0,\"V\")\n",
    "\n",
    "v = Vcf + (Vc0 - Vcf)*exp(-t/tau)\n",
    "print(\"Tensão v(t):\",v,\"V\")\n",
    "\n",
    "i0 = -10/10\n",
    "print(\"Corrente i0:\",i0,\"A\")\n",
    "\n",
    "i2 = v/20 + C*diff(v,t)\n",
    "print(\"Corrente i(t):\",i2,\"A\")"
   ]
  },
  {
   "cell_type": "markdown",
   "metadata": {},
   "source": [
    "**Problema Prático 7.11**\n",
    "\n",
    "A chave na Figura 7.47 é fechada em t = 0. Determine i(t) e v(t) para todo o período.\n",
    "Observe que u(–t) = 1 para t < 0 e 0 para t > 0. Da mesma forma, u(–t) = 1 – u(t).\n",
    "\n",
    "![](https://i.imgur.com/hHvg58p.png)\n"
   ]
  },
  {
   "cell_type": "code",
   "execution_count": 39,
   "metadata": {},
   "outputs": [
    {
     "name": "stdout",
     "output_type": "stream",
     "text": [
      "Problema Prático 7.11\n",
      "Tensão v(t) para t < 0: 20 - 20*exp(-1.0*t) V\n",
      "v0: 10.0000000000000 V\n",
      "Corrente i(t) para t < 0: 4*exp(-1.0*t) A\n",
      "i0: 0\n",
      "Tensão v(t) para t > 0: 10.0 + 10.0*exp(-1.5*t) V\n",
      "Corrente i(t) para t > 0: -2.0 - 2.0*exp(-1.5*t) A\n"
     ]
    }
   ],
   "source": [
    "print(\"Problema Prático 7.11\")\n",
    "\n",
    "C = 0.2\n",
    "\n",
    "vs = 20\n",
    "tau = 5*C\n",
    "\n",
    "#Para t < 0\n",
    "\n",
    "v1 = vs*(1 - exp(-t/tau))\n",
    "print(\"Tensão v(t) para t < 0:\",v1,\"V\")\n",
    "v0 = v.subs(t,oo)\n",
    "print(\"v0:\",v0,\"V\")\n",
    "\n",
    "i1 = (20 - v1)/5\n",
    "print(\"Corrente i(t) para t < 0:\",i1,\"A\")\n",
    "i0 = i1.subs(t,oo)\n",
    "print(\"i0:\",i0)\n",
    "\n",
    "#Para t > 0\n",
    "\n",
    "i2 = 3*10/(5 + 10)\n",
    "Vcf = i2*5\n",
    "\n",
    "R = 5*10/(5 + 10)\n",
    "tau = R*C\n",
    "\n",
    "v = Vcf + Vcf*exp(-t/tau)\n",
    "print(\"Tensão v(t) para t > 0:\",v,\"V\")\n",
    "\n",
    "i = -v/5\n",
    "print(\"Corrente i(t) para t > 0:\",i,\"A\")"
   ]
  },
  {
   "cell_type": "markdown",
   "metadata": {},
   "source": [
    "## Resposta a um degrau de um circuito RL\n",
    "\n"
   ]
  }
 ],
 "metadata": {
  "kernelspec": {
   "display_name": "Python 3",
   "language": "python",
   "name": "python3"
  },
  "language_info": {
   "codemirror_mode": {
    "name": "ipython",
    "version": 3
   },
   "file_extension": ".py",
   "mimetype": "text/x-python",
   "name": "python",
   "nbconvert_exporter": "python",
   "pygments_lexer": "ipython3",
   "version": "3.5.3"
  }
 },
 "nbformat": 4,
 "nbformat_minor": 2
}
