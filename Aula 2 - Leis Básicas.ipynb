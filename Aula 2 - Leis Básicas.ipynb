{
 "cells": [
  {
   "cell_type": "markdown",
   "metadata": {},
   "source": [
    "# Aula 2 - Leis Básicas\n",
    "\n",
    "> \"*Existem muitas pessoas orando para que as montanhas de dificuldades sejam removidas,\n",
    "quando o que elas realmente precisam é de coragem para escalá-las*\"\n",
    "\n",
    "Autor desconhecido"
   ]
  },
  {
   "cell_type": "markdown",
   "metadata": {},
   "source": [
    "## Lei de Ohm\n",
    "\n",
    "Os materiais geralmente possuem um comportamento característico de resistir\n",
    "ao fluxo de carga elétrica. Essa propriedade física, ou habilidade, é\n",
    "conhecida como resistência e é representada pelo símbolo **R**. A resistência de\n",
    "qualquer material com uma área da seção transversal (**A**) uniforme depende\n",
    "de A e de seu comprimento **l**\n",
    "\n",
    "\\begin{align}\n",
    "R = \\rho \\frac{l}{A}\n",
    "\\end{align}\n",
    "\n",
    "![](http://i.imgur.com/QOOhd2A.png)\n",
    "\n",
    "onde ρ é conhecida como resistividade do material em ohms-metro. Bons condutores,\n",
    "como cobre e alumínio, possuem baixa resistividade, enquanto isolantes,\n",
    "como mica e papel, têm alta resistividade\n",
    "\n",
    "![](http://i.imgur.com/gH8g8eg.png)\n",
    "\n",
    "**A lei de Ohm afirma que a tensão v em um resistor é diretamente proporcional à corrente i através dele.**\n",
    "\n",
    "**A resistência R de um elemento representa sua capacidade de resistir ao fluxo de corrente elétrica; ela é medida em ohms (V).**\n",
    "\n",
    "\\begin{align}\n",
    "V = Ri\n",
    "\\end{align}\n",
    "\n",
    "\n",
    "## Curto-circuito\n",
    "\n",
    "Uma vez que o valor de **R** pode variar de zero a infinito, é importante considerarmos\n",
    "os dois possíveis valores extremos de R. Um elemento com R = 0 é denominado\n",
    "*curto-circuito*\n",
    "\n",
    "\\begin{align}\n",
    "V = iR = 0\n",
    "\\end{align}\n",
    "\n",
    "A corrente poderia assumir qualquer valor. Na prática, um curto-circuito em geral é um fio de conexão que é, supostamente,\n",
    "um condutor perfeito.\n",
    "\n",
    "**Curto-circuito é um elemento de circuito com resistência que se aproxima de zero.**\n",
    "\n",
    "## Circuito aberto\n",
    "\n",
    "De forma similar, um elemento com R = ∞ é conhecido como um circuito aberto\n",
    "\n",
    "\\begin{align}\n",
    "i = \\lim_{R\\rightarrow \\infty} \\frac{V}{R} = 0\n",
    "\\end{align}\n",
    "\n",
    "Isso indica que a corrente é zero, embora o valor da tensão possa ser qualquer um.\n",
    "\n",
    "**Circuito aberto é um elemento de circuito com resistência que se aproxima de infinito**\n",
    "\n",
    "A Figura a seguir apresenta (a) curto-circuito e (b) circuito aberto\n",
    "\n",
    "![](http://i.imgur.com/ZWmUGC8.png)\n",
    "\n",
    "## Resistores e Condutância\n",
    "\n",
    "Um resistor pode ser fixo ou variável, sendo que a maior parte é do tipo fixo, significando que sua resistência permanece constante. Os resistores variáveis têm resistência ajustável e um tipo comum é conhecido como **potenciômetro**, que é um elemento de três terminais com um contato deslizante ou cursor móvel. Deslizando-se o contato, a resistência entre o terminal do contato e os terminais fixos varia. Assim como os resistores fixos, os resistores variáveis podem ser de fio ou de compostos.\n",
    "\n",
    "As Figuras a seguir apresentam a simbologia e exemplo de potenciômetro:\n",
    "\n",
    "![](http://i.imgur.com/LU6pkG8.png)\n",
    "\n",
    "Uma medida útil em análise de circuitos é o inverso da resistência R, conhecida\n",
    "como **condutância**, uma medida que representa quanto um elemento\n",
    "conduz corrente elétrica, e representada por G:\n",
    "\n",
    "\\begin{align}\n",
    "G = \\frac{1}{R} = \\frac{i}{V}\n",
    "\\end{align}\n",
    "\n",
    "A unidade de condutância é o mho (ohm escrito ao contrário), com símbolo, ℧,  o ômega invertido. Embora os engenheiros muitas vezes usem o mho, preferimos utilizar o siemens (S), a unidade SI para condutância:\n",
    "\n",
    "\\begin{align}\n",
    "1 S = 1 ℧ = 1 A/V\n",
    "\\end{align}\n",
    "\n",
    "**Condutância é a capacidade de um elemento conduzir corrente elétrica; ela é medida em mho (V) ou siemens (S).**\n",
    "\n",
    "A mesma resistência pode ser expressa em ohms ou siemens. Por exemplo,\n",
    "10 V é o mesmo que 0,1 S\n",
    "\n",
    "\\begin{align}\n",
    "i = Gv\n",
    "\\end{align}\n",
    "\n",
    "A potência dissipada por um resistor pode ser expressa em termos de R. \n",
    "\n",
    "\\begin{align}\n",
    "p = vi = i^2R = \\frac{v^2}{R}\n",
    "\\end{align}\n",
    "\n",
    "A potência dissipada por um resistor também poderia ser expressa em termos\n",
    "de G como\n",
    "\n",
    "\\begin{align}\n",
    "p = vi = v^2G = \\frac{i^2}{G}\n",
    "\\end{align}\n",
    "\n",
    "**Observação:**\n",
    "\n",
    "**1. A potência dissipada em um resistor é uma função não linear da corrente ou tensão**\n",
    "\n",
    "**2. Já que R e G são quantidades positivas, a potência dissipada em um resistor é sempre positiva. Portanto, um resistor sempre absorve potência do circuito, confirmando a ideia de que é um elemento passivo, incapaz de gerar energia.**\n"
   ]
  },
  {
   "cell_type": "markdown",
   "metadata": {},
   "source": [
    "**Exemplo 2.1**\n",
    "\n",
    "Um ferro elétrico drena 2 A em uma tensão de 120 V. Determine a resistência"
   ]
  },
  {
   "cell_type": "code",
   "execution_count": 1,
   "metadata": {},
   "outputs": [
    {
     "name": "stdout",
     "output_type": "stream",
     "text": [
      "Exemplo 2.1\n",
      "Resposta é: 60.0 ohm\n"
     ]
    }
   ],
   "source": [
    "print(\"Exemplo 2.1\")\n",
    "i = 2 #valor da corrente em A\n",
    "V = 120 #valor da tensao em V\n",
    "R = V/i\n",
    "print(\"Resposta é:\", R, \"ohm\")"
   ]
  },
  {
   "cell_type": "markdown",
   "metadata": {},
   "source": [
    "**Problema Prático 2.1**\n",
    "\n",
    "O componente essencial de uma tostadeira é um elemento elétrico (um resistor) que\n",
    "converte energia elétrica em energia térmica. Quanta corrente é absorvida por uma\n",
    "torradeira com resistência 15 Ω a 110 V?"
   ]
  },
  {
   "cell_type": "code",
   "execution_count": 2,
   "metadata": {},
   "outputs": [
    {
     "name": "stdout",
     "output_type": "stream",
     "text": [
      "Problema Prático 2.1\n",
      "Resposta é: 7.333333333333333 A\n"
     ]
    }
   ],
   "source": [
    "print(\"Problema Prático 2.1\")\n",
    "R = 15 #resistencia em ohms\n",
    "V = 110 #tensao em V\n",
    "i = V/R\n",
    "print(\"Resposta é:\", i, \"A\")"
   ]
  },
  {
   "cell_type": "markdown",
   "metadata": {},
   "source": [
    "**Exemplo 2.2**\n",
    "\n",
    "No circuito elétrico mostrado na Figura 2.8, calcule a corrente i, a condutância G e a\n",
    "potência p.\n",
    "\n",
    "![](http://i.imgur.com/U2e3eUb.png)"
   ]
  },
  {
   "cell_type": "code",
   "execution_count": 4,
   "metadata": {},
   "outputs": [
    {
     "name": "stdout",
     "output_type": "stream",
     "text": [
      "Exemplo 2.2\n",
      "Corrente é: 0.006 A\n",
      "Condutância é: 0.0002 S\n",
      "Potência é: 0.18 W\n"
     ]
    }
   ],
   "source": [
    "print(\"Exemplo 2.2\")\n",
    "V = 30\n",
    "R = 5000\n",
    "G = 1/R\n",
    "i = V/R\n",
    "p = V*i\n",
    "print(\"Corrente é:\", i, \"A\")\n",
    "print(\"Condutância é:\", G, \"S\")\n",
    "print(\"Potência é:\", p, \"W\")b"
   ]
  },
  {
   "cell_type": "markdown",
   "metadata": {},
   "source": [
    "**Problema Prático 2.2**\n",
    "\n",
    "Para o circuito mostrado na Figura 2.9, calcule a tensão v, a condutância G e a potência p.\n",
    "\n",
    "![](http://i.imgur.com/DzhG74H.png)"
   ]
  },
  {
   "cell_type": "code",
   "execution_count": 5,
   "metadata": {},
   "outputs": [
    {
     "name": "stdout",
     "output_type": "stream",
     "text": [
      "Problema Prático 2.2\n",
      "Tensão é: 30.0 V\n",
      "Condutância é: 0.0001 S\n",
      "Potência é: 0.09 W\n"
     ]
    }
   ],
   "source": [
    "print(\"Problema Prático 2.2\")\n",
    "i = 0.003\n",
    "k = 1000\n",
    "R = 10*k\n",
    "v = R*i\n",
    "G = 1/R\n",
    "p = v*i\n",
    "print(\"Tensão é:\", v, \"V\")\n",
    "print(\"Condutância é:\", G, \"S\")\n",
    "print(\"Potência é:\", p, \"W\")"
   ]
  },
  {
   "cell_type": "markdown",
   "metadata": {},
   "source": [
    "**Exemplo 2.3**\n",
    "\n",
    "Uma fonte de tensão de 20 sen(pi t) V é conectada em um resistor de 5 kΩ. Determine a\n",
    "corrente que passa pelo resistor e a potência dissipada."
   ]
  },
  {
   "cell_type": "code",
   "execution_count": 8,
   "metadata": {},
   "outputs": [
    {
     "name": "stdout",
     "output_type": "stream",
     "text": [
      "Exemplo 2.3\n",
      "Corrente é: sin(3.14159265358979*t)/250 A\n"
     ]
    }
   ],
   "source": [
    "print(\"Exemplo 2.3\")\n",
    "import numpy as np\n",
    "from sympy import *\n",
    "\n",
    "t = symbols('t')\n",
    "v = 20*sin(np.pi*t)\n",
    "k = 1000\n",
    "R = 5*k\n",
    "i = v/R\n",
    "print(\"Corrente é:\",i,\"A\")"
   ]
  },
  {
   "cell_type": "markdown",
   "metadata": {},
   "source": [
    "**Problema Prático 2.3**\n",
    "\n",
    "Um resistor absorve uma potência instantânea de 30 cos^2(t) mW, quando conectado a\n",
    "uma fonte de tensão v = 15 cos(t) V. Determine i e R"
   ]
  },
  {
   "cell_type": "code",
   "execution_count": 15,
   "metadata": {},
   "outputs": [
    {
     "name": "stdout",
     "output_type": "stream",
     "text": [
      "Problema Prático 2.3\n",
      "Corrente é: 0.002*cos(t) A\n",
      "Resistência é: 7500.00000000000 ohm\n"
     ]
    }
   ],
   "source": [
    "print(\"Problema Prático 2.3\")\n",
    "from sympy import *\n",
    "\n",
    "t = symbols('t')\n",
    "mili = 10**(-3)\n",
    "p = 30*mili*cos(t)**2\n",
    "v = 15*cos(t)\n",
    "i = p/v\n",
    "R = v/i\n",
    "print(\"Corrente é:\", i, \"A\")\n",
    "print(\"Resistência é:\", R, \"ohm\")"
   ]
  },
  {
   "cell_type": "markdown",
   "metadata": {},
   "source": [
    "## Nós, ramos e laços\n",
    "\n",
    "**Ramo representa um elemento único como fonte de tensão ou resistor**\n",
    "\n",
    "Em outras palavras, um ramo representa qualquer elemento de dois terminais.\n",
    "O circuito da Figura 2.10 tem cinco ramos, como: a fonte de tensão de 10 V, a\n",
    "fonte de corrente de 2 A e os três resistores.\n",
    "\n",
    "**Nó é o ponto de conexão entre dois ou mais ramos**\n",
    "\n",
    "Em um circuito, um nó é normalmente indicado por um ponto. Se um\n",
    "curto-circuito (um fio de conexão) conecta dois nós, estes constituem um\n",
    "único nó, e o circuito da Figura 2.10 possui três nós: a, b e c. Observe que\n",
    "os três pontos que formam o nó b são conectados por fios perfeitamente\n",
    "condutores e, portanto, compõem um único ponto\n",
    "\n",
    "![](http://i.imgur.com/mGQygC8.png)\n",
    "\n",
    "**Laço é qualquer caminho fechado em um circuito.**\n",
    "\n",
    "Laço é um caminho fechado formado iniciando-se em um nó, passando por\n",
    "uma série de nós e retornando ao nó de partida sem passar por qualquer outro\n",
    "mais de uma vez. Diz-se que um laço é independente se ele contiver pelo\n",
    "menos um ramo que não faça parte de qualquer outro laço independente.\n",
    "Os laços, ou caminhos independentes, resultam em conjuntos de equações\n",
    "independentes.\n",
    "\n",
    "Uma rede com b ramos, n nós e l laços independentes vão satisfazer o\n",
    "teorema fundamental da topologia de rede:\n",
    "\n",
    "\\begin{align}\n",
    "b = l + n - 1\n",
    "\\end{align}\n",
    "\n",
    "**Dois ou mais elementos estão em série se eles compartilharem exclusivamente\n",
    "um único nó e, consequentemente, transportarem a mesma\n",
    "corrente.**\n",
    "\n",
    "**Dois ou mais elementos estão em paralelo se eles estiverem conectados\n",
    "aos mesmos dois nós e, consequentemente, tiverem a mesma tensão entre\n",
    "eles.**"
   ]
  },
  {
   "cell_type": "markdown",
   "metadata": {},
   "source": [
    "**Exemplo 2.4**\n",
    "\n",
    "Determine o número de ramos e nós no circuito mostrado na Figura 2.12. Identifique\n",
    "quais elementos estão em série e quais estão em paralelo.\n",
    "\n",
    "**Solução:** *Existem quatro elementos no circuito, que tem quatro ramos: 10 V, 5 V, 6 V\n",
    "e 2 A. O circuito tem três nós conforme identificado na Figura 2.13. O resistor de 5 V\n",
    "está em série com a fonte de tensão de 10 V, pois a mesma corrente fluiria em ambos.\n",
    "O resistor de 6 V está em paralelo com a fonte de corrente de 2 A, já que ambos estão\n",
    "conectados aos mesmos nós 2 e 3.*\n",
    "\n",
    "![](http://i.imgur.com/Bl6bSW1.png)"
   ]
  },
  {
   "cell_type": "markdown",
   "metadata": {},
   "source": [
    "**Problema Prático 2.4**\n",
    "\n",
    "Quantos ramos e nós o circuito da Figura 2.14 tem? Identifique os elementos que estão em série e em paralelo.\n",
    "\n",
    "**Resposta:** *Podemos identificar cinco ramos e três nós na Figura 2.15. Os resistores\n",
    "de 1V e 2 V estão em paralelo, assim como resistor de 4 V e a fonte de 10 V.*\n",
    "\n",
    "![](http://i.imgur.com/OZXvE1G.png)"
   ]
  },
  {
   "cell_type": "markdown",
   "metadata": {},
   "source": [
    "## Leis de Kirchhoff\n",
    "\n",
    "**A lei de Kirchhoff para corrente (LKC) diz que a soma algébrica das correntes\n",
    "que entram em um nó (ou um limite fechado) é zero.**\n",
    "\n",
    "\\begin{align}\n",
    "\\sum_{n=1}^{N} i_n = 0\n",
    "\\end{align}\n",
    "\n",
    "Ou seja **A soma das correntes que entram em um nó é igual à soma das correntes\n",
    "que saem desse nó.**\n",
    "\n",
    "Pela Figura 2.16: i1 + i3 + i4 = i2 + i5\n",
    "\n",
    "![](http://i.imgur.com/KQ3Kj7Q.png)\n",
    "\n",
    "**A lei de Kirchhoff para tensão (LKT) diz que a soma algébrica de todas as\n",
    "tensões em torno de um caminho fechado (ou laço) é zero.**\n",
    "\n",
    "\\begin{align}\n",
    "\\sum_{m=1}^{M} v_m = 0\n",
    "\\end{align}\n",
    "\n",
    "**A soma das quedas de tensão é igual à soma das elevações de tensão**\n",
    "\n",
    "Pela Figura 2.19: v2 + v3 + v5 = v1 + v4\n",
    "\n",
    "![](http://i.imgur.com/lcrj3XD.png)"
   ]
  },
  {
   "cell_type": "markdown",
   "metadata": {},
   "source": [
    "**Exemplo 2.5**\n",
    "\n",
    "Para o circuito da Figura 2.21a, determine as tensões v1 e v2.\n",
    "\n"
   ]
  }
 ],
 "metadata": {
  "kernelspec": {
   "display_name": "Python 3",
   "language": "python",
   "name": "python3"
  },
  "language_info": {
   "codemirror_mode": {
    "name": "ipython",
    "version": 3
   },
   "file_extension": ".py",
   "mimetype": "text/x-python",
   "name": "python",
   "nbconvert_exporter": "python",
   "pygments_lexer": "ipython3",
   "version": "3.5.3"
  }
 },
 "nbformat": 4,
 "nbformat_minor": 2
}
