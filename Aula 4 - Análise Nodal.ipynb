{
 "cells": [
  {
   "cell_type": "markdown",
   "metadata": {},
   "source": [
    "# Análise Nodal com Fontes de Tensão\n",
    "\n",
    "Jupyter Notebook desenvolvido por [Gustavo S.S.](https://github.com/GSimas)\n",
    "\n",
    "Um supernó é formado envolvendo-se uma fonte de tensão (dependente\n",
    "ou independente) conectada entre dois nós que não são de referência e\n",
    "quaisquer elementos conectados em paralelo com ele.\n",
    "\n",
    "![](http://i.imgur.com/spG0j11.png)\n",
    "\n",
    "**Um supernó pode ser\n",
    "considerado uma superfície que\n",
    "engloba a fonte de tensão e seus\n",
    "dois nós.**\n",
    "\n",
    "Observe as seguintes propriedades de um supernó:\n",
    "\n",
    "1. A fonte de tensão dentro do supernó fornece uma equação de restrição necessária para encontrar as tensões nodais.\n",
    "2. Um supernó não tem nenhuma tensão própria.\n",
    "3. Um supernó requer a aplicação tanto da LKC como da LKT."
   ]
  },
  {
   "attachments": {},
   "cell_type": "markdown",
   "metadata": {},
   "source": [
    "** Exemplo 3.3**\n",
    "\n",
    "Para o circuito apresentado na Figura 3.9, determine as tensões nodais.\n",
    "\n",
    "![](https://i.imgur.com/O03Fu0x.png)"
   ]
  },
  {
   "cell_type": "code",
   "execution_count": 16,
   "metadata": {},
   "outputs": [
    {
     "name": "stdout",
     "output_type": "stream",
     "text": [
      "Exemplo 3.3\n",
      "V1: -7.333333333333333 V\n",
      "V2: -5.333333333333333 V\n"
     ]
    }
   ],
   "source": [
    "print(\"Exemplo 3.3\")\n",
    "import numpy as np\n",
    "from sympy import *\n",
    "\n",
    "Vsource = 2\n",
    "Csource1 = 2\n",
    "Csource2 = 7\n",
    "R1 = 2\n",
    "R2 = 4\n",
    "R3 = 10\n",
    "\n",
    "#i1 = v1/R1 = v1/2\n",
    "#i2 = v2/R2 = v2/4\n",
    "#i1 + i2 + 7 = 2 => i1 + i2 = -5\n",
    "#v2 - v1 = 2\n",
    "#v1/2 + v2/4 = -5 => (v2 - 2)/2 + v2/4 = - 5\n",
    "#3v2/4 = -4\n",
    "v2 = -16/3\n",
    "v1 = v2 - 2\n",
    "\n",
    "print(\"V1:\", v1, \"V\")\n",
    "print(\"V2:\", v2, \"V\")"
   ]
  },
  {
   "attachments": {},
   "cell_type": "markdown",
   "metadata": {},
   "source": [
    "** Problema Prático 3.3**\n",
    "\n",
    "Calcule v e i no circuito da Figura 3.11.\n",
    "\n",
    "![](https://i.imgur.com/ZY0gKQG.png)"
   ]
  },
  {
   "cell_type": "code",
   "execution_count": 29,
   "metadata": {},
   "outputs": [
    {
     "name": "stdout",
     "output_type": "stream",
     "text": [
      "Problema Prático 3.3\n",
      "Valor de v: -0.46153846153846156 V\n",
      "Valor de i: 2.769230769230769 A\n"
     ]
    }
   ],
   "source": [
    "print(\"Problema Prático 3.3\")\n",
    "\n",
    "Vsource1 = 14\n",
    "Vsource2 = 6\n",
    "\n",
    "#v2 - v = 6\n",
    "\n",
    "#i1 = i2 + i + i3\n",
    "\n",
    "#i1 = (14 - v)/4\n",
    "#i2 = v/3\n",
    "#i = v2/2\n",
    "#i3 = v2/6\n",
    "\n",
    "#7/2 - v/4 = v/3 + 3 + v/2 + 1 + v/6 => 13v/12\n",
    "v = (-1/2)*12/13\n",
    "v2 = v + 6\n",
    "i = v2/2\n",
    "print(\"Valor de v:\",v,\"V\")\n",
    "print(\"Valor de i:\",i,\"A\")"
   ]
  },
  {
   "attachments": {},
   "cell_type": "markdown",
   "metadata": {},
   "source": [
    "** Exemplo 3.4**\n",
    "\n",
    "Determine as tensões nodais no circuito da Figura 3.12.\n",
    "\n",
    "![](https://i.imgur.com/0sYrehZ.png)"
   ]
  },
  {
   "cell_type": "code",
   "execution_count": 13,
   "metadata": {
    "scrolled": true
   },
   "outputs": [
    {
     "name": "stdout",
     "output_type": "stream",
     "text": [
      "Exemplo 3.4\n",
      "V1: 26.666666666666668 V\n",
      "V2: 6.666666666666668 V\n",
      "V3: 173.33333333333337 V\n",
      "V4: -46.66666666666668 V\n",
      "Vx: 73.33333333333334 V\n"
     ]
    }
   ],
   "source": [
    "print(\"Exemplo 3.4\")\n",
    "\n",
    "import numpy as np\n",
    "\n",
    "R1 = 2\n",
    "R2 = 6\n",
    "R3 = 4\n",
    "R4 = 1\n",
    "Rx = 3\n",
    "\n",
    "#i1 = v1/R1 = v1/2\n",
    "#i2 = (v2 - v3)/R2 = (v2 - v3)/6\n",
    "#i3 = v3/R3 = v3/4\n",
    "#i4 = v4/R4 = v4\n",
    "#ix = vx/Rx = vx/3\n",
    "\n",
    "#i1 + i2 + ix = 10\n",
    "#i2 + ix = i3 + i4\n",
    "\n",
    "#(v1 - v2) = 20\n",
    "#(v3 - v4) = 3vx\n",
    "#(v1 - v4) = vx\n",
    "#(v2 - v3) = vx - 3vx - 20 = -2vx - 20\n",
    "\n",
    "#v1/2 + (-2vx - 20)/6 + vx/3 = 10 => v1/2 = 40/3\n",
    "v1 = 80/3\n",
    "v2 = v1 - 20\n",
    "\n",
    "#v3 - v4 -3vx = 0\n",
    "#-v4 - vx = -80/3\n",
    "    #-3v4 -3vx = -80\n",
    "#-v3 + 2vx = - 80/3\n",
    "    #-3v3 + 6vx = -80\n",
    "\n",
    "#i2 + ix = i3 + i4\n",
    "    #=> (v2 - v3)/6 + vx/3 = v3/4 + v4\n",
    "    #=> -5v3/12 -v4 + vx/3 = -10/9\n",
    "    #=> -15v3 -36v4 + 12vx = -40\n",
    "\n",
    "coef = np.matrix('1 -1 -3;0 -3 -3;-15 -36 12')\n",
    "res = np.matrix('0;-80;-40')\n",
    "V = np.linalg.inv(coef)*res\n",
    "\n",
    "#10/9 - (20/3 + 2vx + 20)/6 + vx/3 = (20/3 + 2vx + 20)/4 + 80/3 - vx\n",
    "#7vx/6 = -10/3 + 5/3 + 5 + 80/3\n",
    "#7vx/6 = 30\n",
    "vx = 180/7\n",
    "v4 = v1 - vx\n",
    "v3 = v2 + 2*vx + 20\n",
    "print(\"V1:\", v1, \"V\")\n",
    "print(\"V2:\", v2, \"V\")\n",
    "print(\"V3:\", float(V[0]), \"V\")\n",
    "print(\"V4:\", float(V[1]), \"V\")\n",
    "print(\"Vx:\", float(V[2]), \"V\")"
   ]
  },
  {
   "attachments": {},
   "cell_type": "markdown",
   "metadata": {},
   "source": [
    "**Problema Prático 3.4**\n",
    "\n",
    "Determine v1, v2 e v3 no circuito da Figura 3.14 usando análise nodal.\n",
    "\n",
    "![](https://i.imgur.com/AwsvVpi.png)"
   ]
  },
  {
   "cell_type": "code",
   "execution_count": 24,
   "metadata": {},
   "outputs": [
    {
     "name": "stdout",
     "output_type": "stream",
     "text": [
      "Problema Prático 3.4\n",
      "Valor de v1: 7.608695652173912 V\n",
      "Valor de v2: -17.391304347826086 V\n",
      "Valor de v3: 1.6304347826086956 V\n"
     ]
    }
   ],
   "source": [
    "print(\"Problema Prático 3.4\")\n",
    "\n",
    "#i = v1/2\n",
    "#i2 = v2/4\n",
    "#i3 = v3/3\n",
    "#i4 = (v1 - v3)/6\n",
    "\n",
    "#(v1 - v3) = 25 - 5i\n",
    "    #(v1 - v3) = 25 - 5v1/2\n",
    "    #7v1/2 - v3 = 25\n",
    "    #7v1 - 2v3 = 50\n",
    "#(v1 - v2) = 25\n",
    "#(v3 - v2) = 5i = 5v1/2\n",
    "    #-5v1/2 -v2 + v3 = 0\n",
    "    #-5v1 -2v2 + 2v3 = 0\n",
    "    \n",
    "#organizando\n",
    "#7v1 - 2v3 = 50\n",
    "#v1 - v2 = 25\n",
    "#-5v1 -2v2 + 2v3 = 0\n",
    "\n",
    "#i + i2 + i4 = 0\n",
    "    #=> v1/2 + v2/4 + (v1 - v3)/6 = 0\n",
    "    #=>2v1/3 + v2/4 - v3/6 = 0\n",
    "    #=> 8v1 + 3v2 - 2v3 = 0\n",
    "#i2 + i3 = i4\n",
    "    #=> v2/4 + v3/3 = (v1 - v3)/6\n",
    "    #=>-v1/6 + v2/4 + v3/3 = 0\n",
    "    #=> -2v1 + 3v2 + 4v3 = 0\n",
    "#i + i2 + i3 = 0\n",
    "    #=>v1/2 + v2/4 + v3/3 = 0\n",
    "    #=>6v1 + 3v2 + 4v3 = 0\n",
    "\n",
    "coef = np.matrix('1 -1 0;6 3 4;-5 -2 2')\n",
    "res = np.matrix('25; 0; 0')\n",
    "V = np.linalg.inv(coef)*res\n",
    "print(\"Valor de v1:\",float(V[0]),\"V\")\n",
    "print(\"Valor de v2:\",float(V[1]),\"V\")\n",
    "print(\"Valor de v3:\",float(V[2]),\"V\")"
   ]
  }
 ],
 "metadata": {
  "kernelspec": {
   "display_name": "Python 3",
   "language": "python",
   "name": "python3"
  },
  "language_info": {
   "codemirror_mode": {
    "name": "ipython",
    "version": 3
   },
   "file_extension": ".py",
   "mimetype": "text/x-python",
   "name": "python",
   "nbconvert_exporter": "python",
   "pygments_lexer": "ipython3",
   "version": "3.5.3"
  }
 },
 "nbformat": 4,
 "nbformat_minor": 2
}
