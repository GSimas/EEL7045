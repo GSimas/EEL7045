{
 "cells": [
  {
   "cell_type": "markdown",
   "metadata": {},
   "source": [
    "# Análise Senoidal Regime Permanente\n",
    "\n",
    "Jupyter Notebook desenvolvido por [Gustavo S.S.](https://github.com/GSimas)\n",
    "\n",
    "> \"Três tipos de homens são meus amigos – aqueles que me amam, aqueles que me odeiam e aqueles que\n",
    "são indiferentes a mim. Aqueles que me amam ensinam-me ternura; aqueles que me odeiam\n",
    "ensinam-me cautela; aqueles que são indiferentes a mim ensinam-me autoconfiança.\"\n",
    "J. E. Dinger\n",
    "\n",
    "A análise de circuitos CA normalmente requer três etapas.\n",
    "\n",
    "1. Transformar o circuito para o domínio de fasores ou da frequência.\n",
    "\n",
    "2. **Solucionar o problema usando técnicas de circuitos (análise nodal, análise de malhas, superposição etc.).**\n",
    "\n",
    "3. Transforme o fasor resultante para o domínio do tempo.\n",
    "\n",
    "A etapa 1 não é necessária se o problema for especificado no domínio da frequência.\n",
    "Na etapa 2, a análise é realizada da mesma maneira que na análise de circuitos\n",
    "CC, exceto pelo fato de agora estarem envolvidos números complexos. E, por\n",
    "fim, estamos aptos a lidar com a etapa 3."
   ]
  },
  {
   "cell_type": "markdown",
   "metadata": {},
   "source": [
    "**Exemplo 10.1**\n",
    "\n",
    "Determine ix no circuito da Figura 10.1 usando análise nodal.\n",
    "\n",
    "![](https://i.imgur.com/A50oEjq.png)"
   ]
  },
  {
   "cell_type": "code",
   "execution_count": 66,
   "metadata": {},
   "outputs": [
    {
     "name": "stdout",
     "output_type": "stream",
     "text": [
      "Exemplo 10.1\n",
      "Zc: j -2.5\n",
      "Zl1: j 4\n",
      "Zl2: j 2.0\n",
      "V1 polar: 18.9784052233 [18.391966250705394º]\n",
      "V1 retang: (18.008993240999725, 5.9879902526324083)\n",
      "V2 retang: [-13.20059205  -4.38919686]\n",
      "Ix: (7.5913620893222529, -89.678999633009511)\n"
     ]
    }
   ],
   "source": [
    "print(\"Exemplo 10.1\")\n",
    "\n",
    "import cmath\n",
    "import numpy as np\n",
    "\n",
    "V = 20\n",
    "omega = 4\n",
    "L1 = 1\n",
    "L2 = 0.5\n",
    "C = 0.1\n",
    "R = 10\n",
    "\n",
    "def impedance(value, omega, element):\n",
    "    if element == 'cap':\n",
    "        Z = -1/(omega*value)\n",
    "        return Z\n",
    "    elif element == 'ind':\n",
    "        Z = omega*value\n",
    "        return Z\n",
    "    else:\n",
    "        print(\"Error!!\")\n",
    "        \n",
    "def cart2pol(x, y):\n",
    "    rho = np.sqrt(x**2 + y**2)\n",
    "    phi = np.arctan2(y, x)\n",
    "    return(rho, phi)\n",
    "\n",
    "def pol2cart(rho, phi):\n",
    "    x = rho * np.cos(phi)\n",
    "    y = rho * np.sin(phi)\n",
    "    return(x, y)        \n",
    "\n",
    "\n",
    "zc = impedance(C,omega,'cap')\n",
    "zl1 = impedance(L1,omega,\"ind\")\n",
    "zl2 = impedance(L2,omega,\"ind\")\n",
    "\n",
    "print(\"Zc: j\",zc)\n",
    "print(\"Zl1: j\",zl1)\n",
    "print(\"Zl2: j\",zl2)\n",
    "\n",
    "#Nó 1\n",
    "#(20 - V1)/10 = V1/Zc + (V1 - V2)/Zl1\n",
    "    #2 - V1/10 - j0.4V1 + jV1/4 + jV2/4 = 0\n",
    "    #-0.1V1 - j0.15V1 + j0.25V2 = -2\n",
    "    #0.1V1 + j0.15V1 - j0.25V2 = 2\n",
    "    #V1 + j1.5V1 - j2.5V2 = 20\n",
    "\n",
    "#Nó 2\n",
    "#ix = V1/Zc = j0.4V1\n",
    "#2ix + (V1 - V2)/Zl1 = V2/Zl2\n",
    "    #j0.8V1 - j0.25V1 + j0.25V2 + j0.5V2 = 0\n",
    "    #j0.55V1 + j0.75V2 = 0\n",
    "    #55V1 = - 75V2\n",
    "    #V1 = -1.364V2\n",
    "    #V2 = -0.733V1\n",
    "\n",
    "#V1 + j1.5V1 - j1.825V1 = 20\n",
    "#V1 - j0.3325V1 = 20\n",
    "v1 = 20/cart2pol(1,-0.3325)[0], - cart2pol(1,-0.3325)[1]\n",
    "print(\"V1 polar:\",v1[0],\"[{}º]\".format(v1[1]*180/np.pi))\n",
    "ix = v1[0]/cart2pol(0,-2.5)[0], v1[1] - 90\n",
    "v1 = pol2cart(v1[0],v1[1])\n",
    "print(\"V1 retang:\",v1)\n",
    "v2 = np.multiply(-0.733,v1)\n",
    "print(\"V2 retang:\",v2)\n",
    "print(\"Ix:\",ix)"
   ]
  },
  {
   "cell_type": "markdown",
   "metadata": {},
   "source": [
    "**Problema Prático 10.1**\n",
    "\n",
    "Usando análise nodal, determine v1 e v2 no circuito da Figura 10.3.\n",
    "\n",
    "![](https://i.imgur.com/vfV9kqg.png)"
   ]
  },
  {
   "cell_type": "code",
   "execution_count": null,
   "metadata": {
    "collapsed": true
   },
   "outputs": [],
   "source": [
    "print(\"Problema Prático 10.1\")\n",
    "\n",
    "V = 10"
   ]
  }
 ],
 "metadata": {
  "kernelspec": {
   "display_name": "Python 3",
   "language": "python",
   "name": "python3"
  },
  "language_info": {
   "codemirror_mode": {
    "name": "ipython",
    "version": 3
   },
   "file_extension": ".py",
   "mimetype": "text/x-python",
   "name": "python",
   "nbconvert_exporter": "python",
   "pygments_lexer": "ipython3",
   "version": "3.5.3"
  }
 },
 "nbformat": 4,
 "nbformat_minor": 2
}
